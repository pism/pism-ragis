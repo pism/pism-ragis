{
 "cells": [
  {
   "cell_type": "code",
   "execution_count": 1,
   "id": "7d67d778-9bb1-443c-a7a3-72a3e4f3d996",
   "metadata": {},
   "outputs": [],
   "source": [
    "import numpy as np\n",
    "import xarray as xr\n",
    "import rioxarray as rxr\n",
    "from typing import Union\n",
    "from pathlib import Path"
   ]
  },
  {
   "cell_type": "code",
   "execution_count": 2,
   "id": "9cd580da-15c6-4c19-b995-f00deac3ee40",
   "metadata": {},
   "outputs": [],
   "source": [
    "from dask.diagnostics import ProgressBar\n",
    "import dask.array as da"
   ]
  },
  {
   "cell_type": "markdown",
   "id": "1ac37cf7-ba43-4703-b4b5-8cb539c28708",
   "metadata": {},
   "source": [
    "## Preprocess\n",
    "\n",
    "Add time bounds with something like\n",
    "```\n",
    "for year in {1985..2019}; do\n",
    "    cdo -O -f nc4 -z zip_2 -settbounds,year -setdate,${year}-1-1 -setreftime,${year}-1-1 GRE_G0240_${year}.nc GRE_G0240_T_${year}.nc; \n",
    "done\n",
    "```"
   ]
  },
  {
   "cell_type": "code",
   "execution_count": 3,
   "id": "1f8061a9-2b1e-420b-b26d-839bfbc80a77",
   "metadata": {},
   "outputs": [],
   "source": [
    "ds = xr.open_mfdataset(\"../data/itslive/GRE_G0240_T_*.nc\", chunks={\"x\": -1, \"y\": -1, \"time\": -1})\n",
    "vars_to_process = [\"v\", \"vx\", \"vy\", \"v_err\", \"vx_err\", \"vy_err\"]\n",
    "ds = ds[vars_to_process + [\"ice\"]]\n",
    "ice_ds = ds.where(ds[\"ice\"])"
   ]
  },
  {
   "cell_type": "code",
   "execution_count": 4,
   "id": "ae1b56e3-223f-40f8-a817-3623058ac4cb",
   "metadata": {},
   "outputs": [],
   "source": [
    "nt = ds.time.size\n",
    "dt = xr.DataArray(\n",
    "    da.arange(nt, chunks=-1),\n",
    "    dims=(\"time\"),\n",
    ")"
   ]
  },
  {
   "cell_type": "code",
   "execution_count": 5,
   "id": "ee4e5d61-5020-4f58-9579-bc4c9444e89a",
   "metadata": {},
   "outputs": [],
   "source": [
    "def idw_weights(distance: xr.DataArray, power: float = 1.0):\n",
    "    return 1.0 / (distance + 1e-12) ** power    "
   ]
  },
  {
   "cell_type": "code",
   "execution_count": 6,
   "id": "ad6ca733-8ed9-4bfc-8738-85d84b05e6f3",
   "metadata": {},
   "outputs": [],
   "source": [
    "def save(ds: xr.Dataset, output_filename: Union[str, Path] = \"GRE_G0240_1985_2018_IDW_EXP_1.nc\" ,comp = dict(zlib=True, complevel=2)\n",
    "):\n",
    "    encoding = {var: comp for var in ds.data_vars}\n",
    "    ds.to_netcdf(output_filename, encoding=encoding)\n"
   ]
  },
  {
   "cell_type": "code",
   "execution_count": 19,
   "id": "643dc0e9-103d-4c73-a34e-ad031ea59387",
   "metadata": {},
   "outputs": [],
   "source": [
    "ice_ds = ds.where(ds[\"ice\"])\n",
    "speed = ice_ds[\"v\"]\n",
    "distance = np.isfinite(speed) * dt.broadcast_like(ice_ds)\n",
    "\n",
    "def calc_idw(power, vars_to_process):\n",
    "    weights = idw_weights(distance, power=power)\n",
    "    with ProgressBar():\n",
    "        weighted_mean = ice_ds.weighted(weights).mean(dim=\"time\").compute()\n",
    "        for v in vars_to_process:\n",
    "            weighted_mean[v].attrs[\"units\"] = \"m/yr\"\n",
    "            weighted_mean[v].attrs[\"_FillValue\"] = False\n",
    "        weighted_mean = weighted_mean.fillna(0).rename({\"vx\": \"u_surface_observed\", \"vy\": \"v_surface_observed\"})\n",
    "        save(weighted_mean, f\"../data/itslive/GRE_G0240_1985_2018_IDW_EXP_{power}.nc\")\n",
    "        return weighted_mean\n"
   ]
  },
  {
   "cell_type": "code",
   "execution_count": null,
   "id": "8929dd19-22b4-4875-898d-a83987a5f221",
   "metadata": {},
   "outputs": [
    {
     "name": "stdout",
     "output_type": "stream",
     "text": [
      "[########################################] | 100% Completed | 467.76 s\n",
      "[###############                         ] | 38% Completed | 164.65 s"
     ]
    }
   ],
   "source": [
    "for power in [1, 2]:\n",
    "    wm = calc_idw(power, vars_to_process)"
   ]
  },
  {
   "cell_type": "code",
   "execution_count": 14,
   "id": "aab9806b-30f8-4a33-b292-3c625737d4aa",
   "metadata": {},
   "outputs": [],
   "source": [
    "wm.to_netcdf(\"foobar.nc\")"
   ]
  },
  {
   "cell_type": "code",
   "execution_count": 48,
   "id": "fbd37834-eeed-4894-b574-af014228c32e",
   "metadata": {},
   "outputs": [],
   "source": [
    "m_vars = vars_to_process.copy()"
   ]
  },
  {
   "cell_type": "code",
   "execution_count": 52,
   "id": "e858f44e-c9e3-4c59-a117-d258b9e2ea98",
   "metadata": {},
   "outputs": [],
   "source": [
    "m_vars.remove(\"ice\")"
   ]
  },
  {
   "cell_type": "code",
   "execution_count": 15,
   "id": "99f1ccbb-0874-44ea-ac19-62105a5bceae",
   "metadata": {},
   "outputs": [
    {
     "name": "stdout",
     "output_type": "stream",
     "text": [
      "ens.py    foobar.nc                 mass_grimp.pdf  ragis-comp_scalar.pdf\n",
      "\u001b[0m\u001b[00;90mens.py~\u001b[0m   foo.nc                    mass.pdf\n",
      "\u001b[01;34mfigures\u001b[0m/  idw_merge_its_live.ipynb  mass_ragis.pdf\n"
     ]
    }
   ],
   "source": [
    "ls"
   ]
  },
  {
   "cell_type": "code",
<<<<<<< Updated upstream
   "execution_count": 64,
   "id": "e29bb7ac-b282-429e-968e-a85af1f75492",
=======
   "execution_count": null,
   "id": "2ab09d5e-f2e1-4a8c-a8ee-d6a7992b3509",
>>>>>>> Stashed changes
   "metadata": {},
   "outputs": [
    {
     "name": "stdout",
     "output_type": "stream",
     "text": [
      "GRE_G0240_1985_2018_IDW_EXP_1.nc  foo.nc\n",
      "GRE_G1800_1985_2018_IDW_EXP_1.nc  idw_merge_its_live.ipynb\n",
      "GRE_G900_1985_2018_IDW_EXP_1.nc   jak_idw.nc\n"
     ]
    }
   ],
   "source": [
    "ls"
   ]
  },
  {
   "cell_type": "code",
   "execution_count": 65,
   "id": "f40ca9e7-929d-469d-8aa5-badb89dd3fbb",
   "metadata": {},
   "outputs": [
    {
     "name": "stdout",
     "output_type": "stream",
     "text": [
      "#pyproject.toml#                  \u001b[34mhpc-systems\u001b[m\u001b[m/\n",
      "GRE_G1800_1985_2018_IDW_EXP_1.nc  \u001b[34mnotebooks\u001b[m\u001b[m/\n",
      "LICENSE                           \u001b[34mpism_ragis\u001b[m\u001b[m/\n",
      "README.md                         \u001b[34mpism_ragis.egg-info\u001b[m\u001b[m/\n",
      "Untitled.ipynb                    plot_results.py\n",
      "Untitled1.ipynb                   plot_results.py~\n",
      "VERSION                           pyproject.toml\n",
      "\u001b[34m__pycache__\u001b[m\u001b[m/                      requirements-testing.txt\n",
      "\u001b[34manalysis\u001b[m\u001b[m/                         requirements.txt\n",
      "\u001b[34mconfig\u001b[m\u001b[m/                           requirements.txt~\n",
      "\u001b[34mdata\u001b[m\u001b[m/                             test_systems.ipynb\n",
      "environment.yml                   \u001b[34mtests\u001b[m\u001b[m/\n",
      "\u001b[34mexamples\u001b[m\u001b[m/                         \u001b[34muq\u001b[m\u001b[m/\n",
      "\u001b[34mhindcasts\u001b[m\u001b[m/\n"
     ]
    }
   ],
   "source": [
    "ls ../"
   ]
  },
  {
   "cell_type": "code",
   "execution_count": null,
   "id": "3c3ddb64-c02f-4065-b0f1-8e01e9e717e2",
   "metadata": {},
   "outputs": [],
   "source": []
  }
 ],
 "metadata": {
  "kernelspec": {
   "display_name": "Python 3 (ipykernel)",
   "language": "python",
   "name": "python3"
  },
  "language_info": {
   "codemirror_mode": {
    "name": "ipython",
    "version": 3
   },
   "file_extension": ".py",
   "mimetype": "text/x-python",
   "name": "python",
   "nbconvert_exporter": "python",
   "pygments_lexer": "ipython3",
   "version": "3.11.6"
  }
 },
 "nbformat": 4,
 "nbformat_minor": 5
}
