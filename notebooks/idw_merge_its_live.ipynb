{
 "cells": [
  {
   "cell_type": "code",
   "execution_count": null,
   "id": "7d67d778-9bb1-443c-a7a3-72a3e4f3d996",
   "metadata": {},
   "outputs": [],
   "source": [
    "import numpy as np\n",
    "import xarray as xr\n",
    "from typing import Union\n",
    "from pathlib import Path"
   ]
  },
  {
   "cell_type": "code",
   "execution_count": null,
   "id": "9cd580da-15c6-4c19-b995-f00deac3ee40",
   "metadata": {},
   "outputs": [],
   "source": [
    "from dask.diagnostics import ProgressBar\n",
    "from dask.distributed import Client, LocalCluster\n",
    "import dask.array as da"
   ]
  },
  {
   "cell_type": "code",
   "execution_count": null,
   "id": "7960f0a7-5dd9-435a-95ae-3ff6c065a6ca",
   "metadata": {},
   "outputs": [],
   "source": [
    "# cluster = LocalCluster()\n",
    "# client = Client(cluster)\n",
    "# client"
   ]
  },
  {
   "cell_type": "code",
   "execution_count": null,
   "id": "0b04b342-d697-4d47-adbd-44f496354de6",
   "metadata": {},
   "outputs": [],
   "source": []
  },
  {
   "cell_type": "markdown",
   "id": "1ac37cf7-ba43-4703-b4b5-8cb539c28708",
   "metadata": {},
   "source": [
    "## Preprocess\n",
    "\n",
    "Add time bounds with something like\n",
    "```\n",
    "for year in {1985..2019}; do\n",
    "    cdo -O -f nc4 -z zip_2 -settbounds,year -setdate,${year}-1-1 -setreftime,${year}-1-1 GRE_G0240_${year}.nc GRE_G0240_T_${year}.nc; \n",
    "done\n",
    "```"
   ]
  },
  {
   "cell_type": "code",
   "execution_count": null,
   "id": "1f8061a9-2b1e-420b-b26d-839bfbc80a77",
   "metadata": {},
   "outputs": [],
   "source": [
    "ds = xr.open_mfdataset(\"~/base/pism-ragis/data/its_live/GRE_G0240_T_*.nc\", chunks={\"x\": -1, \"y\": -1, \"time\": -1})\n",
    "vars_to_process = [\"v\", \"vx\", \"vy\", \"v_err\", \"vx_err\", \"vy_err\", \"ice\"]\n",
    "ds = ds[vars_to_process]\n",
    "ice_ds = ds.where(ds[\"ice\"])"
   ]
  },
  {
   "cell_type": "code",
   "execution_count": null,
   "id": "a4645541-2d45-49ec-922a-0e9611197b8f",
   "metadata": {},
   "outputs": [],
   "source": [
    "jak_ds = ice_ds.sel({\"x\": slice(-180_000, -80_000), \"y\": slice(-2_200_000, -2_300_000)})\n",
    "jak_speed = jak_ds[\"v\"]"
   ]
  },
  {
   "cell_type": "code",
   "execution_count": null,
   "id": "ae1b56e3-223f-40f8-a817-3623058ac4cb",
   "metadata": {},
   "outputs": [],
   "source": [
    "nt = ds.time.size\n",
    "dt = xr.DataArray(\n",
    "    da.arange(nt, chunks=-1),\n",
    "    dims=(\"time\"),\n",
    ")"
   ]
  },
  {
   "cell_type": "code",
   "execution_count": null,
   "id": "ee4e5d61-5020-4f58-9579-bc4c9444e89a",
   "metadata": {},
   "outputs": [],
   "source": [
    "def idw_weights(distance: xr.DataArray, power: float = 1.0):\n",
    "    return 1.0 / (distance + 1e-12) ** power    "
   ]
  },
  {
   "cell_type": "code",
   "execution_count": null,
   "id": "ad6ca733-8ed9-4bfc-8738-85d84b05e6f3",
   "metadata": {},
   "outputs": [],
   "source": [
    "def save(ds: xr.Dataset, output_filename: Union[str, Path] = \"GRE_G0240_1985_2018_IDW_EXP_1.nc\" ,comp = dict(zlib=True, complevel=2)\n",
    "):\n",
    "    encoding = {var: comp for var in ds.data_vars}\n",
    "    ds.to_netcdf(output_filename, encoding=encoding)\n"
   ]
  },
  {
   "cell_type": "code",
   "execution_count": null,
   "id": "26adca77-5d7c-4e47-ba00-9c70ee24b080",
   "metadata": {},
   "outputs": [],
   "source": [
    "nt = ds.time.size\n",
    "power = 1\n",
    "\n",
    "distance = np.isfinite(jak_speed) * dt.broadcast_like(jak_speed)\n",
    "weights = idw_weights(distance, power=power)"
   ]
  },
  {
   "cell_type": "code",
   "execution_count": null,
   "id": "50db60d6-2a4c-4c9d-9ea0-558f2ccd3740",
   "metadata": {},
   "outputs": [],
   "source": [
    "with ProgressBar():\n",
    "    jak_wm = jak_speed_weighted_mean = jak_ds.weighted(weights).mean(dim=\"time\")\n",
    "    save(jak_wm, \"jak_idw.nc\")"
   ]
  },
  {
   "cell_type": "code",
   "execution_count": null,
   "id": "9cba01c0-9569-4785-ad3d-0cadb9858f07",
   "metadata": {},
   "outputs": [],
   "source": [
    "with ProgressBar():\n",
    "    jak_speed_mean = jak_speed.mean(dim=\"time\").compute()"
   ]
  },
  {
   "cell_type": "code",
   "execution_count": null,
   "id": "da6370af-72da-4740-a08f-4406c6adea1b",
   "metadata": {},
   "outputs": [],
   "source": [
    "distance = np.isfinite(speed) * dt.broadcast_like(speed)\n",
    "weights = idw_weights(distance, power=power)\n",
    "with ProgressBar():\n",
    "    speed_weighted_mean = ice_ds.weighted(weights).mean(dim=\"time\")\n",
    "    save(speed_weighted_mean)"
   ]
  },
  {
   "cell_type": "code",
   "execution_count": null,
   "id": "2434b419-37fb-431c-8e21-7423dd31c357",
   "metadata": {},
   "outputs": [],
   "source": [
    "speed_weighted_mean.plot(vmax=1500)"
   ]
  },
  {
   "cell_type": "code",
   "execution_count": null,
   "id": "643dc0e9-103d-4c73-a34e-ad031ea59387",
   "metadata": {},
   "outputs": [],
   "source": [
    "ice_ds = ds.where(ds[\"ice\"])\n",
    "speed = ice_ds[\"v\"]\n",
    "distance = np.isfinite(speed) * dt.broadcast_like(ice_ds)\n",
    "weights = idw_weights(distance, power=power)\n",
    "with ProgressBar():\n",
    "    weighted_mean = ice_ds.weighted(weights).mean(dim=\"time\").compute()"
   ]
  },
  {
   "cell_type": "code",
   "execution_count": null,
   "id": "fee6ab8b-776c-45b6-9967-568d558511c6",
   "metadata": {},
   "outputs": [],
   "source": [
    "weigts"
   ]
  },
  {
   "cell_type": "code",
   "execution_count": null,
   "id": "dba4fed9-a9bd-42e6-86ef-02b754f979d5",
   "metadata": {},
   "outputs": [],
   "source": [
    "ice_ds"
   ]
  },
  {
   "cell_type": "code",
   "execution_count": null,
   "id": "4774c5d8-29cb-485d-a4ef-ca5c3c2c29be",
   "metadata": {},
   "outputs": [],
   "source": []
  }
 ],
 "metadata": {
  "kernelspec": {
   "display_name": "Python 3 (ipykernel)",
   "language": "python",
   "name": "python3"
  },
  "language_info": {
   "codemirror_mode": {
    "name": "ipython",
    "version": 3
   },
   "file_extension": ".py",
   "mimetype": "text/x-python",
   "name": "python",
   "nbconvert_exporter": "python",
   "pygments_lexer": "ipython3"
  }
 },
 "nbformat": 4,
 "nbformat_minor": 5
}
