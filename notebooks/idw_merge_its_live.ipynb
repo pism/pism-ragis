{
 "cells": [
  {
   "cell_type": "code",
   "execution_count": 12,
   "id": "7d67d778-9bb1-443c-a7a3-72a3e4f3d996",
   "metadata": {},
   "outputs": [],
   "source": [
    "import numpy as np\n",
    "import xarray as xr\n",
    "import rioxarray as rxr\n",
    "from typing import Union\n",
    "from pathlib import Path"
   ]
  },
  {
   "cell_type": "code",
   "execution_count": 2,
   "id": "9cd580da-15c6-4c19-b995-f00deac3ee40",
   "metadata": {},
   "outputs": [],
   "source": [
    "from dask.diagnostics import ProgressBar\n",
    "from dask.distributed import Client, LocalCluster\n",
    "import dask.array as da"
   ]
  },
  {
   "cell_type": "code",
   "execution_count": 17,
   "id": "7960f0a7-5dd9-435a-95ae-3ff6c065a6ca",
   "metadata": {},
   "outputs": [],
   "source": [
    "crs = \"EPSG:3413\""
   ]
  },
  {
   "cell_type": "markdown",
   "id": "1ac37cf7-ba43-4703-b4b5-8cb539c28708",
   "metadata": {},
   "source": [
    "## Preprocess\n",
    "\n",
    "Add time bounds with something like\n",
    "```\n",
    "for year in {1985..2019}; do\n",
    "    cdo -O -f nc4 -z zip_2 -settbounds,year -setdate,${year}-1-1 -setreftime,${year}-1-1 GRE_G0240_${year}.nc GRE_G0240_T_${year}.nc; \n",
    "done\n",
    "```"
   ]
  },
  {
   "cell_type": "code",
   "execution_count": 3,
   "id": "1f8061a9-2b1e-420b-b26d-839bfbc80a77",
   "metadata": {},
   "outputs": [],
   "source": [
    "ds = xr.open_mfdataset(\"../data/itslive/GRE_G0240_T_*.nc\", chunks={\"x\": -1, \"y\": -1, \"time\": -1})\n",
    "vars_to_process = [\"v\", \"vx\", \"vy\", \"v_err\", \"vx_err\", \"vy_err\", \"ice\"]\n",
    "ds = ds[vars_to_process]\n",
    "ice_ds = ds.where(ds[\"ice\"])"
   ]
  },
  {
   "cell_type": "code",
   "execution_count": 4,
   "id": "a4645541-2d45-49ec-922a-0e9611197b8f",
   "metadata": {},
   "outputs": [],
   "source": [
    "jak_ds = ice_ds.sel({\"x\": slice(-180_000, -80_000), \"y\": slice(-2_200_000, -2_300_000)})\n",
    "jak_speed = jak_ds[\"v\"]"
   ]
  },
  {
   "cell_type": "code",
   "execution_count": 5,
   "id": "ae1b56e3-223f-40f8-a817-3623058ac4cb",
   "metadata": {},
   "outputs": [],
   "source": [
    "nt = ds.time.size\n",
    "dt = xr.DataArray(\n",
    "    da.arange(nt, chunks=-1),\n",
    "    dims=(\"time\"),\n",
    ")"
   ]
  },
  {
   "cell_type": "code",
   "execution_count": 6,
   "id": "ee4e5d61-5020-4f58-9579-bc4c9444e89a",
   "metadata": {},
   "outputs": [],
   "source": [
    "def idw_weights(distance: xr.DataArray, power: float = 1.0):\n",
    "    return 1.0 / (distance + 1e-12) ** power    "
   ]
  },
  {
   "cell_type": "code",
   "execution_count": 7,
   "id": "ad6ca733-8ed9-4bfc-8738-85d84b05e6f3",
   "metadata": {},
   "outputs": [],
   "source": [
    "def save(ds: xr.Dataset, output_filename: Union[str, Path] = \"GRE_G0240_1985_2018_IDW_EXP_1.nc\" ,comp = dict(zlib=True, complevel=2)\n",
    "):\n",
    "    encoding = {var: comp for var in ds.data_vars}\n",
    "    ds.to_netcdf(output_filename, encoding=encoding)\n"
   ]
  },
  {
   "cell_type": "code",
   "execution_count": 8,
   "id": "26adca77-5d7c-4e47-ba00-9c70ee24b080",
   "metadata": {},
   "outputs": [],
   "source": [
    "nt = ds.time.size\n",
    "power = 1\n",
    "\n",
    "distance = np.isfinite(jak_speed) * dt.broadcast_like(jak_speed)\n",
    "weights = idw_weights(distance, power=power)"
   ]
  },
  {
   "cell_type": "code",
   "execution_count": 9,
   "id": "50db60d6-2a4c-4c9d-9ea0-558f2ccd3740",
   "metadata": {},
   "outputs": [
    {
     "name": "stdout",
     "output_type": "stream",
     "text": [
      "[########################################] | 100% Completed | 49.79 s\n"
     ]
    }
   ],
   "source": [
    "with ProgressBar():\n",
    "    jak_wm = jak_speed_weighted_mean = jak_ds.weighted(weights).mean(dim=\"time\")\n",
    "    save(jak_wm, \"jak_idw.nc\")"
   ]
  },
  {
   "cell_type": "code",
   "execution_count": null,
   "id": "9cba01c0-9569-4785-ad3d-0cadb9858f07",
   "metadata": {},
   "outputs": [],
   "source": [
    "with ProgressBar():\n",
    "    jak_speed_mean = jak_speed.mean(dim=\"time\").compute()"
   ]
  },
  {
   "cell_type": "code",
   "execution_count": 34,
   "id": "da6370af-72da-4740-a08f-4406c6adea1b",
   "metadata": {},
   "outputs": [
    {
     "name": "stdout",
     "output_type": "stream",
     "text": [
      "[########################################] | 100% Completed | 452.26 s\n"
     ]
    }
   ],
   "source": [
    "distance = np.isfinite(speed) * dt.broadcast_like(speed)\n",
    "weights = idw_weights(distance, power=power)\n",
    "with ProgressBar():\n",
    "    speed_weighted_mean = ice_ds.weighted(weights).mean(dim=\"time\")\n",
    "    save(speed_weighted_mean)"
   ]
  },
  {
   "cell_type": "code",
   "execution_count": null,
   "id": "2434b419-37fb-431c-8e21-7423dd31c357",
   "metadata": {},
   "outputs": [],
   "source": [
    "speed_weighted_mean.plot(vmax=1500)"
   ]
  },
  {
   "cell_type": "code",
   "execution_count": 44,
   "id": "643dc0e9-103d-4c73-a34e-ad031ea59387",
   "metadata": {},
   "outputs": [
    {
     "name": "stdout",
     "output_type": "stream",
     "text": [
      "[########################################] | 100% Completed | 400.80 s\n"
     ]
    }
   ],
   "source": [
    "ice_ds = ds.where(ds[\"ice\"])\n",
    "speed = ice_ds[\"v\"]\n",
    "distance = np.isfinite(speed) * dt.broadcast_like(ice_ds)\n",
    "weights = idw_weights(distance, power=power)\n",
    "with ProgressBar():\n",
    "    weighted_mean = ice_ds.weighted(weights).mean(dim=\"time\").compute()\n",
    "    weighted_mean.rio.set_spatial_dims(x_dim=\"x\", y_dim=\"y\", inplace=True)\n",
    "    weighted_mean.rio.write_crs(crs, inplace=True)\n",
    "    weighted_mean = weighted_mean.fillna(0)\n",
    "#    save(weighted_mean, f\"GRE_G0240_1985_2018_IDW_EXP_{power}.nc\")"
   ]
  },
  {
   "cell_type": "code",
   "execution_count": 60,
   "id": "a1d2ea3d-9bcf-4ca6-b386-3241dfc017e3",
   "metadata": {},
   "outputs": [],
   "source": [
    "g_ds = xr.open_dataset(\"~/Google Drive/My Drive/Projects/gris-calib/data/2024_05_init_bedmachine/state/gris_g900m_v5_GrIMP_id_CTRL_0_20.nc\")"
   ]
  },
  {
   "cell_type": "code",
   "execution_count": 61,
   "id": "ae72257d-a99d-4ed1-ba14-db00117c435d",
   "metadata": {},
   "outputs": [],
   "source": [
    "g1800_ds = weighted_mean.interp_like(g_ds).fillna(0)"
   ]
  },
  {
   "cell_type": "code",
   "execution_count": 62,
   "id": "9d9d946d-fb8e-437d-8439-15df74215ea7",
   "metadata": {},
   "outputs": [],
   "source": [
    "g1800_ds.rename({\"vx\": \"u_surface_observed\", \"vy\": \"v_surface_observed\"}).to_netcdf(f\"GRE_G900_1985_2018_IDW_EXP_{power}.nc\")"
   ]
  },
  {
   "cell_type": "code",
   "execution_count": 59,
   "id": "d78bf8af-2990-4d27-bce5-3c97afcc1dce",
   "metadata": {},
   "outputs": [
    {
     "data": {
      "text/plain": [
       "4149.9175"
      ]
     },
     "execution_count": 59,
     "metadata": {},
     "output_type": "execute_result"
    }
   ],
   "source": [
    "(4048.70 * 1) * 1.025"
   ]
  },
  {
   "cell_type": "code",
   "execution_count": 63,
   "id": "a115d9f9-f9f8-41e4-a630-a3ce6f975baf",
   "metadata": {},
   "outputs": [],
   "source": [
    "    for v in [\"v\", \"vx\", \"vy\", \"v_err\", \"vx_err\", \"vy_err\"]:\n",
    "        g1800_ds[v].attrs.update(units=\"m/yr\")\n"
   ]
  },
  {
   "cell_type": "code",
   "execution_count": 30,
   "id": "a1e5b8b6-3a0d-47c4-a9ac-02a858bcfb99",
   "metadata": {},
   "outputs": [
    {
     "name": "stdout",
     "output_type": "stream",
     "text": [
      "/Users/andy/base/pism-ragis/notebooks\n"
     ]
    },
    {
     "name": "stderr",
     "output_type": "stream",
     "text": [
      "/Users/andy/miniforge3/envs/pism-ragis/lib/python3.11/site-packages/IPython/core/magics/osm.py:417: UserWarning: This is now an optional IPython functionality, setting dhist requires you to install the `pickleshare` library.\n",
      "  self.shell.db['dhist'] = compress_dhist(dhist)[-100:]\n"
     ]
    }
   ],
   "source": [
    "cd notebooks/"
   ]
  },
  {
   "cell_type": "code",
   "execution_count": 52,
   "id": "ea0d9501-c166-49c5-b658-39d41ae805e4",
   "metadata": {},
   "outputs": [
    {
     "data": {
      "text/html": [
       "<div><svg style=\"position: absolute; width: 0; height: 0; overflow: hidden\">\n",
       "<defs>\n",
       "<symbol id=\"icon-database\" viewBox=\"0 0 32 32\">\n",
       "<path d=\"M16 0c-8.837 0-16 2.239-16 5v4c0 2.761 7.163 5 16 5s16-2.239 16-5v-4c0-2.761-7.163-5-16-5z\"></path>\n",
       "<path d=\"M16 17c-8.837 0-16-2.239-16-5v6c0 2.761 7.163 5 16 5s16-2.239 16-5v-6c0 2.761-7.163 5-16 5z\"></path>\n",
       "<path d=\"M16 26c-8.837 0-16-2.239-16-5v6c0 2.761 7.163 5 16 5s16-2.239 16-5v-6c0 2.761-7.163 5-16 5z\"></path>\n",
       "</symbol>\n",
       "<symbol id=\"icon-file-text2\" viewBox=\"0 0 32 32\">\n",
       "<path d=\"M28.681 7.159c-0.694-0.947-1.662-2.053-2.724-3.116s-2.169-2.030-3.116-2.724c-1.612-1.182-2.393-1.319-2.841-1.319h-15.5c-1.378 0-2.5 1.121-2.5 2.5v27c0 1.378 1.122 2.5 2.5 2.5h23c1.378 0 2.5-1.122 2.5-2.5v-19.5c0-0.448-0.137-1.23-1.319-2.841zM24.543 5.457c0.959 0.959 1.712 1.825 2.268 2.543h-4.811v-4.811c0.718 0.556 1.584 1.309 2.543 2.268zM28 29.5c0 0.271-0.229 0.5-0.5 0.5h-23c-0.271 0-0.5-0.229-0.5-0.5v-27c0-0.271 0.229-0.5 0.5-0.5 0 0 15.499-0 15.5 0v7c0 0.552 0.448 1 1 1h7v19.5z\"></path>\n",
       "<path d=\"M23 26h-14c-0.552 0-1-0.448-1-1s0.448-1 1-1h14c0.552 0 1 0.448 1 1s-0.448 1-1 1z\"></path>\n",
       "<path d=\"M23 22h-14c-0.552 0-1-0.448-1-1s0.448-1 1-1h14c0.552 0 1 0.448 1 1s-0.448 1-1 1z\"></path>\n",
       "<path d=\"M23 18h-14c-0.552 0-1-0.448-1-1s0.448-1 1-1h14c0.552 0 1 0.448 1 1s-0.448 1-1 1z\"></path>\n",
       "</symbol>\n",
       "</defs>\n",
       "</svg>\n",
       "<style>/* CSS stylesheet for displaying xarray objects in jupyterlab.\n",
       " *\n",
       " */\n",
       "\n",
       ":root {\n",
       "  --xr-font-color0: var(--jp-content-font-color0, rgba(0, 0, 0, 1));\n",
       "  --xr-font-color2: var(--jp-content-font-color2, rgba(0, 0, 0, 0.54));\n",
       "  --xr-font-color3: var(--jp-content-font-color3, rgba(0, 0, 0, 0.38));\n",
       "  --xr-border-color: var(--jp-border-color2, #e0e0e0);\n",
       "  --xr-disabled-color: var(--jp-layout-color3, #bdbdbd);\n",
       "  --xr-background-color: var(--jp-layout-color0, white);\n",
       "  --xr-background-color-row-even: var(--jp-layout-color1, white);\n",
       "  --xr-background-color-row-odd: var(--jp-layout-color2, #eeeeee);\n",
       "}\n",
       "\n",
       "html[theme=dark],\n",
       "body[data-theme=dark],\n",
       "body.vscode-dark {\n",
       "  --xr-font-color0: rgba(255, 255, 255, 1);\n",
       "  --xr-font-color2: rgba(255, 255, 255, 0.54);\n",
       "  --xr-font-color3: rgba(255, 255, 255, 0.38);\n",
       "  --xr-border-color: #1F1F1F;\n",
       "  --xr-disabled-color: #515151;\n",
       "  --xr-background-color: #111111;\n",
       "  --xr-background-color-row-even: #111111;\n",
       "  --xr-background-color-row-odd: #313131;\n",
       "}\n",
       "\n",
       ".xr-wrap {\n",
       "  display: block !important;\n",
       "  min-width: 300px;\n",
       "  max-width: 700px;\n",
       "}\n",
       "\n",
       ".xr-text-repr-fallback {\n",
       "  /* fallback to plain text repr when CSS is not injected (untrusted notebook) */\n",
       "  display: none;\n",
       "}\n",
       "\n",
       ".xr-header {\n",
       "  padding-top: 6px;\n",
       "  padding-bottom: 6px;\n",
       "  margin-bottom: 4px;\n",
       "  border-bottom: solid 1px var(--xr-border-color);\n",
       "}\n",
       "\n",
       ".xr-header > div,\n",
       ".xr-header > ul {\n",
       "  display: inline;\n",
       "  margin-top: 0;\n",
       "  margin-bottom: 0;\n",
       "}\n",
       "\n",
       ".xr-obj-type,\n",
       ".xr-array-name {\n",
       "  margin-left: 2px;\n",
       "  margin-right: 10px;\n",
       "}\n",
       "\n",
       ".xr-obj-type {\n",
       "  color: var(--xr-font-color2);\n",
       "}\n",
       "\n",
       ".xr-sections {\n",
       "  padding-left: 0 !important;\n",
       "  display: grid;\n",
       "  grid-template-columns: 150px auto auto 1fr 20px 20px;\n",
       "}\n",
       "\n",
       ".xr-section-item {\n",
       "  display: contents;\n",
       "}\n",
       "\n",
       ".xr-section-item input {\n",
       "  display: none;\n",
       "}\n",
       "\n",
       ".xr-section-item input + label {\n",
       "  color: var(--xr-disabled-color);\n",
       "}\n",
       "\n",
       ".xr-section-item input:enabled + label {\n",
       "  cursor: pointer;\n",
       "  color: var(--xr-font-color2);\n",
       "}\n",
       "\n",
       ".xr-section-item input:enabled + label:hover {\n",
       "  color: var(--xr-font-color0);\n",
       "}\n",
       "\n",
       ".xr-section-summary {\n",
       "  grid-column: 1;\n",
       "  color: var(--xr-font-color2);\n",
       "  font-weight: 500;\n",
       "}\n",
       "\n",
       ".xr-section-summary > span {\n",
       "  display: inline-block;\n",
       "  padding-left: 0.5em;\n",
       "}\n",
       "\n",
       ".xr-section-summary-in:disabled + label {\n",
       "  color: var(--xr-font-color2);\n",
       "}\n",
       "\n",
       ".xr-section-summary-in + label:before {\n",
       "  display: inline-block;\n",
       "  content: '►';\n",
       "  font-size: 11px;\n",
       "  width: 15px;\n",
       "  text-align: center;\n",
       "}\n",
       "\n",
       ".xr-section-summary-in:disabled + label:before {\n",
       "  color: var(--xr-disabled-color);\n",
       "}\n",
       "\n",
       ".xr-section-summary-in:checked + label:before {\n",
       "  content: '▼';\n",
       "}\n",
       "\n",
       ".xr-section-summary-in:checked + label > span {\n",
       "  display: none;\n",
       "}\n",
       "\n",
       ".xr-section-summary,\n",
       ".xr-section-inline-details {\n",
       "  padding-top: 4px;\n",
       "  padding-bottom: 4px;\n",
       "}\n",
       "\n",
       ".xr-section-inline-details {\n",
       "  grid-column: 2 / -1;\n",
       "}\n",
       "\n",
       ".xr-section-details {\n",
       "  display: none;\n",
       "  grid-column: 1 / -1;\n",
       "  margin-bottom: 5px;\n",
       "}\n",
       "\n",
       ".xr-section-summary-in:checked ~ .xr-section-details {\n",
       "  display: contents;\n",
       "}\n",
       "\n",
       ".xr-array-wrap {\n",
       "  grid-column: 1 / -1;\n",
       "  display: grid;\n",
       "  grid-template-columns: 20px auto;\n",
       "}\n",
       "\n",
       ".xr-array-wrap > label {\n",
       "  grid-column: 1;\n",
       "  vertical-align: top;\n",
       "}\n",
       "\n",
       ".xr-preview {\n",
       "  color: var(--xr-font-color3);\n",
       "}\n",
       "\n",
       ".xr-array-preview,\n",
       ".xr-array-data {\n",
       "  padding: 0 5px !important;\n",
       "  grid-column: 2;\n",
       "}\n",
       "\n",
       ".xr-array-data,\n",
       ".xr-array-in:checked ~ .xr-array-preview {\n",
       "  display: none;\n",
       "}\n",
       "\n",
       ".xr-array-in:checked ~ .xr-array-data,\n",
       ".xr-array-preview {\n",
       "  display: inline-block;\n",
       "}\n",
       "\n",
       ".xr-dim-list {\n",
       "  display: inline-block !important;\n",
       "  list-style: none;\n",
       "  padding: 0 !important;\n",
       "  margin: 0;\n",
       "}\n",
       "\n",
       ".xr-dim-list li {\n",
       "  display: inline-block;\n",
       "  padding: 0;\n",
       "  margin: 0;\n",
       "}\n",
       "\n",
       ".xr-dim-list:before {\n",
       "  content: '(';\n",
       "}\n",
       "\n",
       ".xr-dim-list:after {\n",
       "  content: ')';\n",
       "}\n",
       "\n",
       ".xr-dim-list li:not(:last-child):after {\n",
       "  content: ',';\n",
       "  padding-right: 5px;\n",
       "}\n",
       "\n",
       ".xr-has-index {\n",
       "  font-weight: bold;\n",
       "}\n",
       "\n",
       ".xr-var-list,\n",
       ".xr-var-item {\n",
       "  display: contents;\n",
       "}\n",
       "\n",
       ".xr-var-item > div,\n",
       ".xr-var-item label,\n",
       ".xr-var-item > .xr-var-name span {\n",
       "  background-color: var(--xr-background-color-row-even);\n",
       "  margin-bottom: 0;\n",
       "}\n",
       "\n",
       ".xr-var-item > .xr-var-name:hover span {\n",
       "  padding-right: 5px;\n",
       "}\n",
       "\n",
       ".xr-var-list > li:nth-child(odd) > div,\n",
       ".xr-var-list > li:nth-child(odd) > label,\n",
       ".xr-var-list > li:nth-child(odd) > .xr-var-name span {\n",
       "  background-color: var(--xr-background-color-row-odd);\n",
       "}\n",
       "\n",
       ".xr-var-name {\n",
       "  grid-column: 1;\n",
       "}\n",
       "\n",
       ".xr-var-dims {\n",
       "  grid-column: 2;\n",
       "}\n",
       "\n",
       ".xr-var-dtype {\n",
       "  grid-column: 3;\n",
       "  text-align: right;\n",
       "  color: var(--xr-font-color2);\n",
       "}\n",
       "\n",
       ".xr-var-preview {\n",
       "  grid-column: 4;\n",
       "}\n",
       "\n",
       ".xr-index-preview {\n",
       "  grid-column: 2 / 5;\n",
       "  color: var(--xr-font-color2);\n",
       "}\n",
       "\n",
       ".xr-var-name,\n",
       ".xr-var-dims,\n",
       ".xr-var-dtype,\n",
       ".xr-preview,\n",
       ".xr-attrs dt {\n",
       "  white-space: nowrap;\n",
       "  overflow: hidden;\n",
       "  text-overflow: ellipsis;\n",
       "  padding-right: 10px;\n",
       "}\n",
       "\n",
       ".xr-var-name:hover,\n",
       ".xr-var-dims:hover,\n",
       ".xr-var-dtype:hover,\n",
       ".xr-attrs dt:hover {\n",
       "  overflow: visible;\n",
       "  width: auto;\n",
       "  z-index: 1;\n",
       "}\n",
       "\n",
       ".xr-var-attrs,\n",
       ".xr-var-data,\n",
       ".xr-index-data {\n",
       "  display: none;\n",
       "  background-color: var(--xr-background-color) !important;\n",
       "  padding-bottom: 5px !important;\n",
       "}\n",
       "\n",
       ".xr-var-attrs-in:checked ~ .xr-var-attrs,\n",
       ".xr-var-data-in:checked ~ .xr-var-data,\n",
       ".xr-index-data-in:checked ~ .xr-index-data {\n",
       "  display: block;\n",
       "}\n",
       "\n",
       ".xr-var-data > table {\n",
       "  float: right;\n",
       "}\n",
       "\n",
       ".xr-var-name span,\n",
       ".xr-var-data,\n",
       ".xr-index-name div,\n",
       ".xr-index-data,\n",
       ".xr-attrs {\n",
       "  padding-left: 25px !important;\n",
       "}\n",
       "\n",
       ".xr-attrs,\n",
       ".xr-var-attrs,\n",
       ".xr-var-data,\n",
       ".xr-index-data {\n",
       "  grid-column: 1 / -1;\n",
       "}\n",
       "\n",
       "dl.xr-attrs {\n",
       "  padding: 0;\n",
       "  margin: 0;\n",
       "  display: grid;\n",
       "  grid-template-columns: 125px auto;\n",
       "}\n",
       "\n",
       ".xr-attrs dt,\n",
       ".xr-attrs dd {\n",
       "  padding: 0;\n",
       "  margin: 0;\n",
       "  float: left;\n",
       "  padding-right: 10px;\n",
       "  width: auto;\n",
       "}\n",
       "\n",
       ".xr-attrs dt {\n",
       "  font-weight: normal;\n",
       "  grid-column: 1;\n",
       "}\n",
       "\n",
       ".xr-attrs dt:hover span {\n",
       "  display: inline-block;\n",
       "  background: var(--xr-background-color);\n",
       "  padding-right: 10px;\n",
       "}\n",
       "\n",
       ".xr-attrs dd {\n",
       "  grid-column: 2;\n",
       "  white-space: pre-wrap;\n",
       "  word-break: break-all;\n",
       "}\n",
       "\n",
       ".xr-icon-database,\n",
       ".xr-icon-file-text2,\n",
       ".xr-no-icon {\n",
       "  display: inline-block;\n",
       "  vertical-align: middle;\n",
       "  width: 1em;\n",
       "  height: 1.5em !important;\n",
       "  stroke-width: 0;\n",
       "  stroke: currentColor;\n",
       "  fill: currentColor;\n",
       "}\n",
       "</style><pre class='xr-text-repr-fallback'>&lt;xarray.DataArray &#x27;v&#x27; (y: 1520, x: 880)&gt; Size: 11MB\n",
       "array([[0., 0., 0., ..., 0., 0., 0.],\n",
       "       [0., 0., 0., ..., 0., 0., 0.],\n",
       "       [0., 0., 0., ..., 0., 0., 0.],\n",
       "       ...,\n",
       "       [0., 0., 0., ..., 0., 0., 0.],\n",
       "       [0., 0., 0., ..., 0., 0., 0.],\n",
       "       [0., 0., 0., ..., 0., 0., 0.]])\n",
       "Coordinates:\n",
       "    spatial_ref  int64 8B 0\n",
       "  * y            (y) float64 12kB -3.371e+06 -3.369e+06 ... -6.365e+05\n",
       "  * x            (x) float64 7kB -6.778e+05 -6.76e+05 ... 9.026e+05 9.044e+05\n",
       "Attributes:\n",
       "    units:    m/yr</pre><div class='xr-wrap' style='display:none'><div class='xr-header'><div class='xr-obj-type'>xarray.DataArray</div><div class='xr-array-name'>'v'</div><ul class='xr-dim-list'><li><span class='xr-has-index'>y</span>: 1520</li><li><span class='xr-has-index'>x</span>: 880</li></ul></div><ul class='xr-sections'><li class='xr-section-item'><div class='xr-array-wrap'><input id='section-a1cffb74-712a-45ba-bd81-d9c2293cd768' class='xr-array-in' type='checkbox' checked><label for='section-a1cffb74-712a-45ba-bd81-d9c2293cd768' title='Show/hide data repr'><svg class='icon xr-icon-database'><use xlink:href='#icon-database'></use></svg></label><div class='xr-array-preview xr-preview'><span>0.0 0.0 0.0 0.0 0.0 0.0 0.0 0.0 ... 0.0 0.0 0.0 0.0 0.0 0.0 0.0 0.0</span></div><div class='xr-array-data'><pre>array([[0., 0., 0., ..., 0., 0., 0.],\n",
       "       [0., 0., 0., ..., 0., 0., 0.],\n",
       "       [0., 0., 0., ..., 0., 0., 0.],\n",
       "       ...,\n",
       "       [0., 0., 0., ..., 0., 0., 0.],\n",
       "       [0., 0., 0., ..., 0., 0., 0.],\n",
       "       [0., 0., 0., ..., 0., 0., 0.]])</pre></div></div></li><li class='xr-section-item'><input id='section-626dde60-31b3-4abb-bc7b-501dcbda990d' class='xr-section-summary-in' type='checkbox'  checked><label for='section-626dde60-31b3-4abb-bc7b-501dcbda990d' class='xr-section-summary' >Coordinates: <span>(3)</span></label><div class='xr-section-inline-details'></div><div class='xr-section-details'><ul class='xr-var-list'><li class='xr-var-item'><div class='xr-var-name'><span>spatial_ref</span></div><div class='xr-var-dims'>()</div><div class='xr-var-dtype'>int64</div><div class='xr-var-preview xr-preview'>0</div><input id='attrs-35cd0588-3b4a-467b-8601-7ef2961979f9' class='xr-var-attrs-in' type='checkbox' ><label for='attrs-35cd0588-3b4a-467b-8601-7ef2961979f9' title='Show/Hide attributes'><svg class='icon xr-icon-file-text2'><use xlink:href='#icon-file-text2'></use></svg></label><input id='data-67a03fbd-531b-4670-8729-8a6e42f9eb48' class='xr-var-data-in' type='checkbox'><label for='data-67a03fbd-531b-4670-8729-8a6e42f9eb48' title='Show/Hide data repr'><svg class='icon xr-icon-database'><use xlink:href='#icon-database'></use></svg></label><div class='xr-var-attrs'><dl class='xr-attrs'><dt><span>crs_wkt :</span></dt><dd>PROJCS[&quot;WGS 84 / NSIDC Sea Ice Polar Stereographic North&quot;,GEOGCS[&quot;WGS 84&quot;,DATUM[&quot;WGS_1984&quot;,SPHEROID[&quot;WGS 84&quot;,6378137,298.257223563,AUTHORITY[&quot;EPSG&quot;,&quot;7030&quot;]],AUTHORITY[&quot;EPSG&quot;,&quot;6326&quot;]],PRIMEM[&quot;Greenwich&quot;,0,AUTHORITY[&quot;EPSG&quot;,&quot;8901&quot;]],UNIT[&quot;degree&quot;,0.0174532925199433,AUTHORITY[&quot;EPSG&quot;,&quot;9122&quot;]],AUTHORITY[&quot;EPSG&quot;,&quot;4326&quot;]],PROJECTION[&quot;Polar_Stereographic&quot;],PARAMETER[&quot;latitude_of_origin&quot;,70],PARAMETER[&quot;central_meridian&quot;,-45],PARAMETER[&quot;false_easting&quot;,0],PARAMETER[&quot;false_northing&quot;,0],UNIT[&quot;metre&quot;,1,AUTHORITY[&quot;EPSG&quot;,&quot;9001&quot;]],AXIS[&quot;Easting&quot;,SOUTH],AXIS[&quot;Northing&quot;,SOUTH],AUTHORITY[&quot;EPSG&quot;,&quot;3413&quot;]]</dd><dt><span>semi_major_axis :</span></dt><dd>6378137.0</dd><dt><span>semi_minor_axis :</span></dt><dd>6356752.314245179</dd><dt><span>inverse_flattening :</span></dt><dd>298.257223563</dd><dt><span>reference_ellipsoid_name :</span></dt><dd>WGS 84</dd><dt><span>longitude_of_prime_meridian :</span></dt><dd>0.0</dd><dt><span>prime_meridian_name :</span></dt><dd>Greenwich</dd><dt><span>geographic_crs_name :</span></dt><dd>WGS 84</dd><dt><span>horizontal_datum_name :</span></dt><dd>World Geodetic System 1984</dd><dt><span>projected_crs_name :</span></dt><dd>WGS 84 / NSIDC Sea Ice Polar Stereographic North</dd><dt><span>grid_mapping_name :</span></dt><dd>polar_stereographic</dd><dt><span>standard_parallel :</span></dt><dd>70.0</dd><dt><span>straight_vertical_longitude_from_pole :</span></dt><dd>-45.0</dd><dt><span>false_easting :</span></dt><dd>0.0</dd><dt><span>false_northing :</span></dt><dd>0.0</dd><dt><span>spatial_ref :</span></dt><dd>PROJCS[&quot;WGS 84 / NSIDC Sea Ice Polar Stereographic North&quot;,GEOGCS[&quot;WGS 84&quot;,DATUM[&quot;WGS_1984&quot;,SPHEROID[&quot;WGS 84&quot;,6378137,298.257223563,AUTHORITY[&quot;EPSG&quot;,&quot;7030&quot;]],AUTHORITY[&quot;EPSG&quot;,&quot;6326&quot;]],PRIMEM[&quot;Greenwich&quot;,0,AUTHORITY[&quot;EPSG&quot;,&quot;8901&quot;]],UNIT[&quot;degree&quot;,0.0174532925199433,AUTHORITY[&quot;EPSG&quot;,&quot;9122&quot;]],AUTHORITY[&quot;EPSG&quot;,&quot;4326&quot;]],PROJECTION[&quot;Polar_Stereographic&quot;],PARAMETER[&quot;latitude_of_origin&quot;,70],PARAMETER[&quot;central_meridian&quot;,-45],PARAMETER[&quot;false_easting&quot;,0],PARAMETER[&quot;false_northing&quot;,0],UNIT[&quot;metre&quot;,1,AUTHORITY[&quot;EPSG&quot;,&quot;9001&quot;]],AXIS[&quot;Easting&quot;,SOUTH],AXIS[&quot;Northing&quot;,SOUTH],AUTHORITY[&quot;EPSG&quot;,&quot;3413&quot;]]</dd></dl></div><div class='xr-var-data'><pre>array(0)</pre></div></li><li class='xr-var-item'><div class='xr-var-name'><span class='xr-has-index'>y</span></div><div class='xr-var-dims'>(y)</div><div class='xr-var-dtype'>float64</div><div class='xr-var-preview xr-preview'>-3.371e+06 ... -6.365e+05</div><input id='attrs-92f08082-1a42-4da6-8bf3-0ace5e055947' class='xr-var-attrs-in' type='checkbox' ><label for='attrs-92f08082-1a42-4da6-8bf3-0ace5e055947' title='Show/Hide attributes'><svg class='icon xr-icon-file-text2'><use xlink:href='#icon-file-text2'></use></svg></label><input id='data-4f93ce04-9bcb-48f1-b2c9-593e81aaaf35' class='xr-var-data-in' type='checkbox'><label for='data-4f93ce04-9bcb-48f1-b2c9-593e81aaaf35' title='Show/Hide data repr'><svg class='icon xr-icon-database'><use xlink:href='#icon-database'></use></svg></label><div class='xr-var-attrs'><dl class='xr-attrs'><dt><span>units :</span></dt><dd>m</dd><dt><span>axis :</span></dt><dd>Y</dd><dt><span>long_name :</span></dt><dd>Y-coordinate in Cartesian system</dd><dt><span>standard_name :</span></dt><dd>projection_y_coordinate</dd><dt><span>spacing_meters :</span></dt><dd>1800.0</dd></dl></div><div class='xr-var-data'><pre>array([-3370700., -3368900., -3367100., ...,  -640100.,  -638300.,  -636500.])</pre></div></li><li class='xr-var-item'><div class='xr-var-name'><span class='xr-has-index'>x</span></div><div class='xr-var-dims'>(x)</div><div class='xr-var-dtype'>float64</div><div class='xr-var-preview xr-preview'>-6.778e+05 -6.76e+05 ... 9.044e+05</div><input id='attrs-61fdb64a-bc85-4eb2-b002-6550ac9ae216' class='xr-var-attrs-in' type='checkbox' ><label for='attrs-61fdb64a-bc85-4eb2-b002-6550ac9ae216' title='Show/Hide attributes'><svg class='icon xr-icon-file-text2'><use xlink:href='#icon-file-text2'></use></svg></label><input id='data-1e7cd5ec-88e8-4339-8240-975bd4688899' class='xr-var-data-in' type='checkbox'><label for='data-1e7cd5ec-88e8-4339-8240-975bd4688899' title='Show/Hide data repr'><svg class='icon xr-icon-database'><use xlink:href='#icon-database'></use></svg></label><div class='xr-var-attrs'><dl class='xr-attrs'><dt><span>units :</span></dt><dd>m</dd><dt><span>axis :</span></dt><dd>X</dd><dt><span>long_name :</span></dt><dd>X-coordinate in Cartesian system</dd><dt><span>standard_name :</span></dt><dd>projection_x_coordinate</dd><dt><span>spacing_meters :</span></dt><dd>1800.0</dd></dl></div><div class='xr-var-data'><pre>array([-677750., -675950., -674150., ...,  900850.,  902650.,  904450.])</pre></div></li></ul></div></li><li class='xr-section-item'><input id='section-999d9b43-98d1-4899-80b7-f010f63dc436' class='xr-section-summary-in' type='checkbox'  ><label for='section-999d9b43-98d1-4899-80b7-f010f63dc436' class='xr-section-summary' >Indexes: <span>(2)</span></label><div class='xr-section-inline-details'></div><div class='xr-section-details'><ul class='xr-var-list'><li class='xr-var-item'><div class='xr-index-name'><div>y</div></div><div class='xr-index-preview'>PandasIndex</div><div></div><input id='index-e9ef00e6-e26f-4b46-ac7a-8627aab13c70' class='xr-index-data-in' type='checkbox'/><label for='index-e9ef00e6-e26f-4b46-ac7a-8627aab13c70' title='Show/Hide index repr'><svg class='icon xr-icon-database'><use xlink:href='#icon-database'></use></svg></label><div class='xr-index-data'><pre>PandasIndex(Index([-3370700.0, -3368900.0, -3367100.0, -3365300.0, -3363500.0, -3361700.0,\n",
       "       -3359900.0, -3358100.0, -3356300.0, -3354500.0,\n",
       "       ...\n",
       "        -652700.0,  -650900.0,  -649100.0,  -647300.0,  -645500.0,  -643700.0,\n",
       "        -641900.0,  -640100.0,  -638300.0,  -636500.0],\n",
       "      dtype=&#x27;float64&#x27;, name=&#x27;y&#x27;, length=1520))</pre></div></li><li class='xr-var-item'><div class='xr-index-name'><div>x</div></div><div class='xr-index-preview'>PandasIndex</div><div></div><input id='index-b4a7a021-ffab-4a33-80aa-c5f906140788' class='xr-index-data-in' type='checkbox'/><label for='index-b4a7a021-ffab-4a33-80aa-c5f906140788' title='Show/Hide index repr'><svg class='icon xr-icon-database'><use xlink:href='#icon-database'></use></svg></label><div class='xr-index-data'><pre>PandasIndex(Index([-677750.0, -675950.0, -674150.0, -672350.0, -670550.0, -668750.0,\n",
       "       -666950.0, -665150.0, -663350.0, -661550.0,\n",
       "       ...\n",
       "        888250.0,  890050.0,  891850.0,  893650.0,  895450.0,  897250.0,\n",
       "        899050.0,  900850.0,  902650.0,  904450.0],\n",
       "      dtype=&#x27;float64&#x27;, name=&#x27;x&#x27;, length=880))</pre></div></li></ul></div></li><li class='xr-section-item'><input id='section-f9d33974-87d0-49e4-92f6-cf53322df1b0' class='xr-section-summary-in' type='checkbox'  checked><label for='section-f9d33974-87d0-49e4-92f6-cf53322df1b0' class='xr-section-summary' >Attributes: <span>(1)</span></label><div class='xr-section-inline-details'></div><div class='xr-section-details'><dl class='xr-attrs'><dt><span>units :</span></dt><dd>m/yr</dd></dl></div></li></ul></div></div>"
      ],
      "text/plain": [
       "<xarray.DataArray 'v' (y: 1520, x: 880)> Size: 11MB\n",
       "array([[0., 0., 0., ..., 0., 0., 0.],\n",
       "       [0., 0., 0., ..., 0., 0., 0.],\n",
       "       [0., 0., 0., ..., 0., 0., 0.],\n",
       "       ...,\n",
       "       [0., 0., 0., ..., 0., 0., 0.],\n",
       "       [0., 0., 0., ..., 0., 0., 0.],\n",
       "       [0., 0., 0., ..., 0., 0., 0.]])\n",
       "Coordinates:\n",
       "    spatial_ref  int64 8B 0\n",
       "  * y            (y) float64 12kB -3.371e+06 -3.369e+06 ... -6.365e+05\n",
       "  * x            (x) float64 7kB -6.778e+05 -6.76e+05 ... 9.026e+05 9.044e+05\n",
       "Attributes:\n",
       "    units:    m/yr"
      ]
     },
     "execution_count": 52,
     "metadata": {},
     "output_type": "execute_result"
    }
   ],
   "source": [
    "g1800_ds.v"
   ]
  },
  {
   "cell_type": "code",
   "execution_count": 64,
   "id": "e29bb7ac-b282-429e-968e-a85af1f75492",
   "metadata": {},
   "outputs": [
    {
     "name": "stdout",
     "output_type": "stream",
     "text": [
      "GRE_G0240_1985_2018_IDW_EXP_1.nc  foo.nc\n",
      "GRE_G1800_1985_2018_IDW_EXP_1.nc  idw_merge_its_live.ipynb\n",
      "GRE_G900_1985_2018_IDW_EXP_1.nc   jak_idw.nc\n"
     ]
    }
   ],
   "source": [
    "ls"
   ]
  },
  {
   "cell_type": "code",
   "execution_count": 65,
   "id": "f40ca9e7-929d-469d-8aa5-badb89dd3fbb",
   "metadata": {},
   "outputs": [
    {
     "name": "stdout",
     "output_type": "stream",
     "text": [
      "#pyproject.toml#                  \u001b[34mhpc-systems\u001b[m\u001b[m/\n",
      "GRE_G1800_1985_2018_IDW_EXP_1.nc  \u001b[34mnotebooks\u001b[m\u001b[m/\n",
      "LICENSE                           \u001b[34mpism_ragis\u001b[m\u001b[m/\n",
      "README.md                         \u001b[34mpism_ragis.egg-info\u001b[m\u001b[m/\n",
      "Untitled.ipynb                    plot_results.py\n",
      "Untitled1.ipynb                   plot_results.py~\n",
      "VERSION                           pyproject.toml\n",
      "\u001b[34m__pycache__\u001b[m\u001b[m/                      requirements-testing.txt\n",
      "\u001b[34manalysis\u001b[m\u001b[m/                         requirements.txt\n",
      "\u001b[34mconfig\u001b[m\u001b[m/                           requirements.txt~\n",
      "\u001b[34mdata\u001b[m\u001b[m/                             test_systems.ipynb\n",
      "environment.yml                   \u001b[34mtests\u001b[m\u001b[m/\n",
      "\u001b[34mexamples\u001b[m\u001b[m/                         \u001b[34muq\u001b[m\u001b[m/\n",
      "\u001b[34mhindcasts\u001b[m\u001b[m/\n"
     ]
    }
   ],
   "source": [
    "ls ../"
   ]
  },
  {
   "cell_type": "code",
   "execution_count": null,
   "id": "3c3ddb64-c02f-4065-b0f1-8e01e9e717e2",
   "metadata": {},
   "outputs": [],
   "source": []
  }
 ],
 "metadata": {
  "kernelspec": {
   "display_name": "Python 3 (ipykernel)",
   "language": "python",
   "name": "python3"
  },
  "language_info": {
   "codemirror_mode": {
    "name": "ipython",
    "version": 3
   },
   "file_extension": ".py",
   "mimetype": "text/x-python",
   "name": "python",
   "nbconvert_exporter": "python",
   "pygments_lexer": "ipython3",
   "version": "3.11.6"
  }
 },
 "nbformat": 4,
 "nbformat_minor": 5
}
