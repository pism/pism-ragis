{
 "cells": [
  {
   "cell_type": "markdown",
   "id": "130a9566-0075-4026-8b04-208e37bf3480",
   "metadata": {},
   "source": [
    "# Create a PISM domain from a polygon based on the BedMachine v5 grid"
   ]
  },
  {
   "cell_type": "code",
   "execution_count": null,
   "id": "3c30b747-afa8-4717-90e9-f0b22f96fed0",
   "metadata": {},
   "outputs": [],
   "source": [
    "import geopandas as gp\n",
    "import xarray as xr\n",
    "import numpy as np\n",
    "import matplotlib.pylab as plt\n",
    "from pism_ragis.domain import get_bounds, create_domain"
   ]
  },
  {
   "cell_type": "code",
   "execution_count": null,
   "id": "686820af-046e-42c3-8e19-49e127be158a",
   "metadata": {},
   "outputs": [],
   "source": [
    "# Coordinate Reference System \n",
    "crs = \"EPSG:3413\"\n",
    "\n",
    "# the base resolution of BedMachine in meters\n",
    "base_resolution: int = 150\n",
    "\n",
    "# the resolutions that you want supported:\n",
    "# 150, 300, 450, 600, 900, 1200, 1500, 1800, 2400, 3000, 3600, and 4500m\n",
    "multipliers = [1, 2, 3, 4, 6, 8, 10, 12, 16, 20, 24, 30]\n",
    "\n",
    "# buffer in m\n",
    "buffer = 3e3\n",
    "\n",
    "# Path to BedMachine file, open using xarray\n",
    "ds = xr.open_dataset(\"/Users/andy/Google Drive/My Drive/data/MCDataset/BedMachineGreenland-v5.nc\")\n",
    "ds = ds.rio.set_spatial_dims(x_dim=\"x\", y_dim=\"y\")\n",
    "ds.rio.write_crs(crs, inplace=True)"
   ]
  },
  {
   "cell_type": "code",
   "execution_count": null,
   "id": "9922ca1f-edde-42b0-93fc-0f259ce30f95",
   "metadata": {},
   "outputs": [],
   "source": [
    "# Path to polygon file, open using GeoPandas\n",
    "# Drop all rows that have None as the basin Name\n",
    "basins = gp.read_file(\"/Users/andy/Google Drive/My Drive/data/Greenland_Basins_PS_v1.4.2/Greenland_Basins_PS_v1.4.2.shp\").to_crs(crs).dropna(subset=[\"Name\"])"
   ]
  },
  {
   "cell_type": "code",
   "execution_count": null,
   "id": "de9c1793-6f38-4ec2-9c21-cdda89ccbbb5",
   "metadata": {},
   "outputs": [],
   "source": [
    "# Basic example:\n",
    "# We loop over all basins in the \"basins\" geopandas dataframe assuming that an \"Name\" attribute exists.\n",
    "# First we add the buffer, then we extract the bounding box, and finally we calculate the domain and \n",
    "# save it as a netCDF file.\n",
    "\n",
    "# This should be parallelized with Dask in the future.\n",
    "\n",
    "for m_id, basin in basins.iterrows():\n",
    "    name = basin[\"Name\"]\n",
    "    print(f\"Processing basin {m_id}: {name}\")\n",
    "    minx, miny, maxx, maxy = basin.geometry.buffer(buffer).bounds\n",
    "    ll = ds.sel({\"x\": minx, \"y\": miny}, method=\"nearest\")\n",
    "    ur = ds.sel({\"x\": maxx, \"y\": maxy}, method=\"nearest\")\n",
    "    tmp_ds = ds.sel({\"x\": slice(ll[\"x\"], ur[\"x\"]), \"y\": slice(ur[\"y\"], ll[\"y\"])})\n",
    "    x_bnds, y_bnds = get_bounds(tmp_ds, \n",
    "                                base_resolution=base_resolution,\n",
    "                                multipliers=multipliers)\n",
    "    sub_ds = ds.sel({\"x\": slice(*x_bnds), \"y\": slice(*y_bnds[::-1])})\n",
    "    grid = create_domain(x_bnds, y_bnds)\n",
    "    grid.attrs.update({\"domain\": name})\n",
    "    grid.to_netcdf(f\"{m_id}_{name}.nc\")\n",
    "    # Save a PDF\n",
    "    fig = plt.figure()\n",
    "    ax = fig.add_subplot(111)\n",
    "    sub_ds[\"bed\"].plot(ax=ax, cmap=\"gray\")\n",
    "    basins.iloc[[m_id]].plot(ax=ax, alpha=0.5)\n",
    "    ax.set_title(name)\n",
    "    fig.savefig(f\"{m_id}_{name}.pdf\")"
   ]
  }
 ],
 "metadata": {
  "kernelspec": {
   "display_name": "Python 3 (ipykernel)",
   "language": "python",
   "name": "python3"
  },
  "language_info": {
   "codemirror_mode": {
    "name": "ipython",
    "version": 3
   },
   "file_extension": ".py",
   "mimetype": "text/x-python",
   "name": "python",
   "nbconvert_exporter": "python",
   "pygments_lexer": "ipython3",
   "version": "3.11.7"
  }
 },
 "nbformat": 4,
 "nbformat_minor": 5
}
