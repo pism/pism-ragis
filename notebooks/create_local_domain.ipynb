{
 "cells": [
  {
   "cell_type": "markdown",
   "id": "130a9566-0075-4026-8b04-208e37bf3480",
   "metadata": {},
   "source": [
    "# Create a PISM domain from a polygon based on the BedMachine v5 grid"
   ]
  },
  {
   "cell_type": "code",
   "execution_count": null,
   "id": "3c30b747-afa8-4717-90e9-f0b22f96fed0",
   "metadata": {},
   "outputs": [],
   "source": [
    "from dask.distributed import Client, progress\n",
    "import numpy as np\n",
    "import geopandas as gp\n",
    "import rioxarray\n",
    "import cartopy\n",
    "import cartopy.crs as ccrs\n",
    "import matplotlib.pylab as plt\n",
    "from shapely.geometry import Polygon\n",
    "\n",
    "from pism_ragis.domain import get_bounds, create_domain\n",
    "\n",
    "xr.set_options(keep_attrs=True)\n"
   ]
  },
  {
   "cell_type": "code",
   "execution_count": null,
   "id": "7863de47-5ac0-4b95-9791-f662b84c5af3",
   "metadata": {},
   "outputs": [],
   "source": [
    "def create_local_grid(series: gp.GeoSeries, ds: xr.Dataset, buffer: float = 500,\n",
    "                     base_resolution: int = 150, multipliers: list | np.ndarray = [1, 2, 3, 4, 6, 8, 10, 12, 16, 20, 24, 30]) -> xr.Dataset:\n",
    "    minx, miny, maxx, maxy = series[\"geometry\"].buffer(buffer).bounds\n",
    "    max_mult = multipliers[-1]\n",
    "    ds_coarse = ds.coarsen({\"x\": max_mult, \"y\": max_mult}, boundary=\"pad\").mean()\n",
    "    ll = ds_coarse.sel({\"x\": minx, \"y\": miny}, method=\"nearest\")\n",
    "    ur = ds_coarse.sel({\"x\": maxx, \"y\": maxy}, method=\"nearest\")\n",
    "    if miny > maxy:\n",
    "        local_ds = ds_coarse.sel({\"x\": slice(ll[\"x\"], ur[\"x\"]), \"y\": slice(ll[\"y\"], ur[\"y\"])})\n",
    "    else:\n",
    "        local_ds = ds_coarse.sel({\"x\": slice(ll[\"x\"], ur[\"x\"]), \"y\": slice(ur[\"y\"], ll[\"y\"])})\n",
    "    \n",
    "    x_bnds, y_bnds = get_bounds(local_ds, \n",
    "                                base_resolution=base_resolution,\n",
    "                                multipliers=multipliers)\n",
    "    grid = create_domain(x_bnds, y_bnds)\n",
    "    return grid\n"
   ]
  },
  {
   "cell_type": "code",
   "execution_count": null,
   "id": "053dba4e-8d43-4e9d-9fc3-d5ed704023cf",
   "metadata": {},
   "outputs": [],
   "source": [
    "# Coordinate Reference System \n",
    "crs = \"EPSG:3413\"\n",
    "\n",
    "# the base resolution of BedMachine in meters\n",
    "base_resolution: int = 150\n",
    "\n",
    "# the resolutions that you want supported:\n",
    "# 150, 300, 450, 600, 900, 1200, 1500, 1800, 2400, 3000, 3600, and 4500m\n",
    "multipliers = [1, 2, 4, 8]\n",
    "max_mult = multipliers[-1]\n",
    "\n",
    "buffer = 450\n",
    "\n",
    "ds = xr.open_dataset(\"/Users/andy/base/pism-ragis/data/dem/BedMachineGreenland-v5.nc\")\n",
    "\n",
    "\n",
    "nx, ny = 110, 100\n",
    "bm_ds = ds.isel({\"x\": slice(1000, 1000+nx), \"y\": slice(2000, 2000+ny)})\n",
    "bm_ds[\"grid\"] = xr.ones_like(bm_ds[\"bed\"]) * np.arange(ny * nx).reshape(ny, nx)\n",
    "\n",
    "domains = gp.read_file(\"/Users/andy/base/pism-ragis/data/basins/gris_test_domains.gpkg\").to_crs(crs)\n",
    "\n",
    "client = Client()\n",
    "print(f\"Open client in browser: {client.dashboard_link}\")\n",
    "\n",
    "domains_scattered = client.scatter([row for _, row in domains.iterrows()])\n",
    "ds_scattered = client.scatter(bm_ds)\n",
    "\n",
    "futures = client.map(create_local_grid, domains_scattered, ds=ds_scattered, base_resolution=base_resolution, multipliers=multipliers)\n",
    "progress(futures)\n",
    "grids = client.gather(futures)\n",
    "\n",
    "\n",
    "dr = base_resolution * multipliers[-1]\n",
    "cartopy_crs = ccrs.NorthPolarStereo(central_longitude=-45, true_scale_latitude=70, globe=None)\n",
    "\n",
    "fig = plt.figure(figsize=(36, 16))\n",
    "ax = fig.add_subplot(111, projection=cartopy_crs)\n",
    "bm_ds[\"grid\"].plot(ax=ax, cmap=\"copper\", add_colorbar=False, alpha=0.5,\n",
    "                        transform=cartopy_crs)\n",
    "bm = bm_ds.coarsen({\"x\": max_mult, \"y\": max_mult}, boundary=\"pad\").mean()\n",
    "\n",
    "Y, X = np.meshgrid(bm_ds.y, bm_ds.x)\n",
    "ax.scatter(X.ravel(), Y.ravel(), 0.05, \"k\")\n",
    "\n",
    "for k, row in domains.iterrows():\n",
    "    grid = grids[k]    \n",
    "    x_bnds = grid[\"x_bnds\"][0] \n",
    "    y_bnds = grid[\"y_bnds\"][0] if grid[\"y_bnds\"][0][0] > grid[\"y_bnds\"][0][1] else grid[\"y_bnds\"][0][::-1]\n",
    "  \n",
    "    sub_ds = bm_ds.sel({\"x\": slice(*x_bnds), \"y\": slice(*y_bnds)})\n",
    "    sub_ds[\"grid\"].plot(ax=ax, cmap=\"Blues\", alpha=0.2,\n",
    "                        extend=\"both\", vmax=ny * nx,\n",
    "                        add_colorbar=False,\n",
    "                        transform=cartopy_crs)\n",
    "\n",
    "    \n",
    "    xp = np.arange(grid.x_bnds.values[0][0] + dr/2, grid.x_bnds[0][1]-dr/2+dr, dr)\n",
    "    yp = np.arange(grid.y_bnds.values[0][0] + dr/2, grid.y_bnds[0][1]-dr/2+dr, dr)\n",
    "    Y, X = np.meshgrid(yp, xp)\n",
    "\n",
    "    x_point_list = [grid.x_bnds[0][0], grid.x_bnds[0][0], grid.x_bnds[0][1], grid.x_bnds[0][1], grid.x_bnds[0][0]]\n",
    "    y_point_list = [grid.y_bnds[0][0], grid.y_bnds[0][1], grid.y_bnds[0][1], grid.y_bnds[0][0], grid.y_bnds[0][0]]\n",
    "\n",
    "    polygon_geom = Polygon(zip(x_point_list, y_point_list))\n",
    "    polygon = gp.GeoDataFrame(index=[0], crs=crs, geometry=[polygon_geom])\n",
    "    polygon.to_file(f\"domain_{k}.gpkg\")\n",
    "    ax.scatter([grid.x_bnds[0][0], grid.x_bnds[0][0], grid.x_bnds[0][1], grid.x_bnds[0][1]], \n",
    "               [grid.y_bnds[0][0], grid.y_bnds[0][1], grid.y_bnds[0][1], grid.y_bnds[0][0]], 25, \"k\")\n",
    "    ax.scatter(X.ravel(), Y.ravel())\n",
    "    gp.GeoSeries(row[\"geometry\"]).plot(ax=ax, color=\"w\", alpha=0.5)\n",
    "ax.set_title(None)\n",
    "\n"
   ]
  },
  {
   "cell_type": "code",
   "execution_count": null,
   "id": "d3a0660a-ad73-4a7d-b7f3-436135fe6a9e",
   "metadata": {},
   "outputs": [],
   "source": [
    "dr = base_resolution * multipliers[-1]\n",
    "\n",
    "fig = plt.figure(figsize=(36, 16))\n",
    "ax = fig.add_subplot(111, projection=cartopy_crs)\n",
    "bm_ds[\"grid\"].plot(ax=ax, cmap=\"copper\", add_colorbar=False, alpha=0.5,\n",
    "                        transform=cartopy_crs)\n",
    "bm = bm_ds.coarsen({\"x\": max_mult, \"y\": max_mult}, boundary=\"pad\").mean()\n",
    "\n",
    "Y, X = np.meshgrid(bm_ds.y, bm_ds.x)\n",
    "ax.scatter(X.ravel(), Y.ravel(), 0.05, \"k\")\n",
    "\n",
    "for m_id, row in domains.iterrows():\n",
    "    name = row[\"SUBREGION1\"]\n",
    "    print(f\"Processing basin {m_id}: {name}\")\n",
    "    grid = create_local_grid(row, bm_ds, base_resolution=base_resolution, multipliers=multipliers)\n",
    "        \n",
    "    x_bnds = grid[\"x_bnds\"][0] \n",
    "    y_bnds = grid[\"y_bnds\"][0] if grid[\"y_bnds\"][0][0] > grid[\"y_bnds\"][0][1] else grid[\"y_bnds\"][0][::-1]\n",
    "    sub_ds = bm_ds.sel({\"x\": slice(*x_bnds), \"y\": slice(*y_bnds)})\n",
    "    sub_ds[\"grid\"].plot(ax=ax, cmap=\"Blues\", alpha=0.2,\n",
    "                        extend=\"both\", vmax=ny * nx,\n",
    "                        add_colorbar=False,\n",
    "                        transform=cartopy_crs)\n",
    "\n",
    "    \n",
    "    xp = np.arange(grid.x_bnds.values[0][0] + dr/2, grid.x_bnds[0][1]-dr/2+dr, dr)\n",
    "    yp = np.arange(grid.y_bnds.values[0][0] + dr/2, grid.y_bnds[0][1]-dr/2+dr, dr)\n",
    "    Y, X = np.meshgrid(yp, xp)\n",
    "    ax.scatter([grid.x_bnds[0][0], grid.x_bnds[0][0], grid.x_bnds[0][1], grid.x_bnds[0][1]], \n",
    "               [grid.y_bnds[0][0], grid.y_bnds[0][1], grid.y_bnds[0][1], grid.y_bnds[0][0]], 25, \"k\")\n",
    "    ax.scatter(X.ravel(), Y.ravel())\n",
    "    gp.GeoSeries(row[\"geometry\"]).plot(ax=ax, color=\"w\", alpha=0.5)\n",
    "ax.set_title(None)"
   ]
  },
  {
   "cell_type": "code",
   "execution_count": null,
   "id": "8aee6aa3-6f6d-4cae-98f2-668cb93cd1d0",
   "metadata": {},
   "outputs": [],
   "source": [
    "grids"
   ]
  },
  {
   "cell_type": "code",
   "execution_count": null,
   "id": "ec24b078-0b7d-46b8-be4a-12f51db71c25",
   "metadata": {},
   "outputs": [],
   "source": [
    "gp.GeoDataFrame.from_dict(t.T)"
   ]
  },
  {
   "cell_type": "code",
   "execution_count": null,
   "id": "b34c2577-0f1c-46ac-8525-6f53f9dfdee3",
   "metadata": {},
   "outputs": [],
   "source": [
    "t"
   ]
  },
  {
   "cell_type": "code",
   "execution_count": null,
   "id": "9683fb38-2d0c-4a67-94b3-dc25895f3576",
   "metadata": {},
   "outputs": [],
   "source": [
    "d"
   ]
  },
  {
   "cell_type": "code",
   "execution_count": null,
   "id": "fcb66060-9bc7-4b77-9dae-b6d304b81853",
   "metadata": {},
   "outputs": [],
   "source": [
    "from pathlib import Path\n",
    "from scipy.stats.distributions import uniform\n",
    "import xarray as xr\n",
    "from pism_ragis.processing import preprocess_config\n",
    "\n",
    "p = Path(\"/Volumes/pism/ragis/hindcasts/2025_03_dem/spatial/\").glob(\"ex_*.nc\")\n",
    "ds = xr.open_mfdataset(p,            \n",
    "                       preprocess=preprocess_config,\n",
    "                       parallel=True,\n",
    "                       decode_cf=True,\n",
    "                       decode_timedelta=True,\n",
    "                       combine=\"nested\",\n",
    "                       concat_dim=\"exp_id\",)\n",
    "last_dem = ds.isel({\"time\": -1})[\"usurf\"]\n",
    "diff = ((last_dem.max(dim=[\"exp_id\"]) - last_dem.min(dim=[\"exp_id\"])) / last_dem.mean(dim=[\"exp_id\"])).compute()\n",
    "fig = diff.plot(vmin=-0.01, vmax=0.01, cmap=\"RdBu\", extend=\"both\")\n",
    "fig.figure.savefig(\"rel_diff.png\", dpi=600)"
   ]
  },
  {
   "cell_type": "code",
   "execution_count": null,
   "id": "8a82e528-4d5b-4fbf-a956-78f63f914518",
   "metadata": {},
   "outputs": [],
   "source": [
    "from pathlib import Path\n",
    "from scipy.stats.distributions import uniform\n",
    "import xarray as xr\n",
    "from pism_ragis.processing import preprocess_nc\n",
    "\n",
    "p = Path(\"/Volumes/pism/ragis/hindcasts/2023_11_svd/processed_spatial/\").glob(\"usurf_*.nc\")\n",
    "ds = xr.open_mfdataset(p,            \n",
    "                       preprocess=preprocess_nc,\n",
    "                       parallel=True,\n",
    "                       decode_cf=True,\n",
    "                       decode_timedelta=True,\n",
    "                       combine=\"nested\",\n",
    "                       concat_dim=\"exp_id\",)\n",
    "last_dem = ds.isel({\"time\": -1})[\"usurf\"]\n",
    "diff = ((last_dem.max(dim=[\"exp_id\"]) - last_dem.min(dim=[\"exp_id\"])) / last_dem.mean(dim=[\"exp_id\"])).compute()\n",
    "fig = diff.plot(vmin=-0.01, vmax=0.01, cmap=\"RdBu\", extend=\"both\")\n",
    "fig.figure.savefig(\"rel_diff.png\", dpi=600)"
   ]
  },
  {
   "cell_type": "code",
   "execution_count": null,
   "id": "422da819-e226-472d-8d31-e51dd655bc15",
   "metadata": {},
   "outputs": [],
   "source": [
    "import pandas as pd\n",
    "uq = pd.read_csv(\"/Users/andy/base/pism-ragis/uq/gris_ragis_dem_w_posterior_lhs_20.csv\")"
   ]
  },
  {
   "cell_type": "code",
   "execution_count": null,
   "id": "404e48b5-da8e-40fc-bc02-573e33849511",
   "metadata": {},
   "outputs": [],
   "source": [
    "uq[\"surface.pdd.factor_ice\"] / 910"
   ]
  },
  {
   "cell_type": "code",
   "execution_count": null,
   "id": "f223f2ed-d678-47cb-975b-5759d8fd0ca5",
   "metadata": {},
   "outputs": [],
   "source": [
    "diff.plot(vmin=-0.01, vmax=0.01, cmap=\"RdBu\", extend=\"both\")"
   ]
  },
  {
   "cell_type": "code",
   "execution_count": null,
   "id": "a611483e-853a-4916-853b-837bcab50cbd",
   "metadata": {},
   "outputs": [],
   "source": []
  }
 ],
 "metadata": {
  "kernelspec": {
   "display_name": "Python 3 (ipykernel)",
   "language": "python",
   "name": "python3"
  },
  "language_info": {
   "codemirror_mode": {
    "name": "ipython",
    "version": 3
   },
   "file_extension": ".py",
   "mimetype": "text/x-python",
   "name": "python",
   "nbconvert_exporter": "python",
   "pygments_lexer": "ipython3"
  }
 },
 "nbformat": 4,
 "nbformat_minor": 5
}
