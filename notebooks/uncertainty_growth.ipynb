{
 "cells": [
  {
   "cell_type": "markdown",
   "id": "43204f3d",
   "metadata": {},
   "source": [
    "# Uncertainties grow the further back in time we go"
   ]
  },
  {
   "cell_type": "code",
   "execution_count": null,
   "id": "de938c1e",
   "metadata": {},
   "outputs": [],
   "source": [
    "from datetime import datetime\n",
    "import numpy as np\n",
    "import pylab as plt\n",
    "import pandas as pd\n",
    "import matplotlib.dates as mdates\n",
    "from pismragis.observations import load_mouginot"
   ]
  },
  {
   "cell_type": "code",
   "execution_count": null,
   "id": "a4d3493a",
   "metadata": {},
   "outputs": [],
   "source": [
    "n_jobs = 8\n",
    "norm_year = 1992\n",
    "\n",
    "plt.rc('font', size=6)\n",
    "plt.style.use(\"tableau-colorblind10\")\n",
    "\n",
    "mass_varname = \"SLE (cm)\"\n",
    "mass_uncertainty_varname = \"SLE uncertainty (cm)\"\n",
    "discharge_varname = \"D (Gt/yr)\"\n",
    "discharge_uncertainty_varname = \"D uncertainty (Gt/yr)\"\n",
    "smb_varname = \"SMB (Gt/yr)\"\n",
    "smb_uncertainty_varname = \"SMB uncertainty (Gt/yr)\"\n",
    "\n",
    "\n",
    "bg_color = \"#216779\"\n",
    "bg_color = \"w\"\n",
    "sim_colors = plt.rcParams['axes.prop_cycle'].by_key()['color'][1::]\n",
    "imbie_color = plt.rcParams['axes.prop_cycle'].by_key()['color'][0]\n",
    "\n",
    "sim_colors = [ \"#d73027\",  \"#4575b4\", \"#fc8d59\", \"#91bfdb\", \"#fee090\"]\n",
    "\n",
    "imbie_color = \"#756bb1\"\n",
    "mou_color = \"#54278f\"\n",
    "\n",
    "imbie_color = \"0.4\"\n",
    "mou_color = \"0.2\"\n",
    "\n",
    "    \n",
    "kg2cmsle = 1 / 1e12 * 1.0 / 362.5 / 10.0\n",
    "gt2cmsle = 1 / 362.5 / 10.0\n",
    "sigma = 2"
   ]
  },
  {
   "cell_type": "markdown",
   "id": "d67ae0ff",
   "metadata": {},
   "source": [
    "## Load Observations"
   ]
  },
  {
   "cell_type": "code",
   "execution_count": null,
   "id": "1408e106",
   "metadata": {},
   "outputs": [],
   "source": [
    "# imbie = load_imbie(url=\"../imbie_dataset_greenland_dynamics-2020_02_28.xlsx\")\n",
    "imbie = load_imbie()\n",
    "# Glacier and Ice cap bias 30 Gt/yr, add it back\n",
    "# imbie[mass_varname] -= 30 * gt2cmsle\n",
    "#imbie[smb_varname] += 30\n",
    "\n",
    "mou = load_mouginot(url=\"/Users/andy/Google Drive/My Drive/Projects/RAGIS/data/pnas.1904242116.sd02.xlsx\")\n",
    "mou_gis = mou[mou[\"Basin\"] == \"GIS\"]"
   ]
  },
  {
   "cell_type": "code",
   "execution_count": null,
   "id": "6400576d",
   "metadata": {},
   "outputs": [],
   "source": [
    "plt.rc('font', size=10)\n",
    "plt.style.use(\"tableau-colorblind10\")\n",
    "\n",
    "ymin = -1\n",
    "ymax = 2\n",
    "\n",
    "fig = plt.figure(figsize=[10., 2.4])\n",
    "ax = fig.add_subplot(111)\n",
    "\n",
    "sigma = 4\n",
    "\n",
    "ax.axvline(datetime(2015, 1, 1), color=\"k\", linestyle=\"dashed\", linewidth=1)\n",
    "for obs, o, obs_color, obs_loc, obs_alpha  in zip([mou_gis], [\"Mouginot (2019)\"], \n",
    "                                       [mou_color], [(0.3, 0.0)], [0.4]):\n",
    "    obs_line = ax.plot(obs[\"Date\"], obs[mass_varname][::-1], color=obs_color, lw=1, label=\"Observation\")\n",
    "    obs_ci = ax.fill_between(obs[\"Date\"], \n",
    "                    (obs[mass_varname][::-1] + sigma * obs[mass_uncertainty_varname][::-1]), \n",
    "                    (obs[mass_varname][::-1] - sigma * obs[mass_uncertainty_varname][::-1]), \n",
    "                    ls=\"solid\", color=obs_color, lw=0, alpha=obs_alpha, label=\"Uncertainty\")\n",
    "l1 = ax.legend(loc=\"upper right\", bbox_to_anchor=[0.55, 1])\n",
    "l1.get_frame().set_linewidth(0.0)\n",
    "l1.get_frame().set_alpha(0.0)\n",
    "ax.fill_between([datetime(2015,1,1), datetime(2025,1,1)], [ymin, ymin], [ymax, ymax], color=\"0.75\", alpha=0.5)\n",
    "ax.text(datetime(2015, 7, 1), ymax-0.5, \"Projection\", ha=\"left\")\n",
    "ax.text(datetime(2014, 7, 1), ymax-0.5, \"Hindcast\", ha=\"right\")\n",
    "ax.spines['right'].set_visible(False)\n",
    "ax.spines['left'].set_visible(False)\n",
    "ax.spines['top'].set_visible(False)\n",
    "ax.xaxis.set_major_formatter(\n",
    "    mdates.ConciseDateFormatter(ax.xaxis.get_major_locator()))\n",
    "plt.yticks([])\n",
    "ax.set_ylim(ymin, ymax)\n",
    "fig.tight_layout()\n",
    "fig.savefig(\"historical-uncertainties-growth.pdf\")\n",
    "fig.savefig(\"historical-uncertainties-growth.png\", dpi=300)\n",
    "ax.fill_between([datetime(2003,1,1), datetime(2009,1,1)], [ymin, ymin], [ymax, ymax], alpha=0.5, color=\"#e6550d\", lw=0)\n",
    "ax.axvline(datetime(2007,1,1), color=\"#e6550d\")\n",
    "l2 = ax.legend(loc=\"upper right\", bbox_to_anchor=[0.55, 1])\n",
    "l2.get_frame().set_linewidth(0.0)\n",
    "l2.get_frame().set_alpha(0.0)\n",
    "fig.savefig(\"historical-uncertainties-growth-grimp.pdf\")\n",
    "fig.savefig(\"historical-uncertainties-growth-grimp.png\", dpi=300)\n",
    "ax.fill_between([datetime(1978,1,1), datetime(1987,1,1)], [ymin, ymin], [ymax, ymax], alpha=0.5, color=\"#3182bd\", lw=0)\n",
    "ax.axvline(datetime(1982,7,1), color=\"#3182bd\")\n",
    "l3 = ax.legend(loc=\"upper right\", bbox_to_anchor=[0.55, 1])\n",
    "l3.get_frame().set_linewidth(0.0)\n",
    "l3.get_frame().set_alpha(0.0)\n",
    "fig.savefig(\"historical-uncertainties-growth-dems.pdf\")\n",
    "fig.savefig(\"historical-uncertainties-growth-dems.png\", dpi=300)"
   ]
  },
  {
   "cell_type": "code",
   "execution_count": null,
   "id": "135a9e81",
   "metadata": {},
   "outputs": [],
   "source": [
    "ax.axvline?"
   ]
  },
  {
   "cell_type": "code",
   "execution_count": null,
   "id": "644cdef1",
   "metadata": {},
   "outputs": [],
   "source": []
  }
 ],
 "metadata": {
  "kernelspec": {
   "display_name": "Python 3 (ipykernel)",
   "language": "python",
   "name": "python3"
  },
  "language_info": {
   "codemirror_mode": {
    "name": "ipython",
    "version": 3
   },
   "file_extension": ".py",
   "mimetype": "text/x-python",
   "name": "python",
   "nbconvert_exporter": "python",
   "pygments_lexer": "ipython3"
  }
 },
 "nbformat": 4,
 "nbformat_minor": 5
}
