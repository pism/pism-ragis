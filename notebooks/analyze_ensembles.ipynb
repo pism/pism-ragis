{
 "cells": [
  {
   "cell_type": "markdown",
   "id": "43204f3d",
   "metadata": {},
   "source": [
    "# Analyze RAGIS ensmbles"
   ]
  },
  {
   "cell_type": "code",
   "execution_count": 1,
   "id": "de938c1e",
   "metadata": {},
   "outputs": [],
   "source": [
    "from datetime import datetime\n",
    "import numpy as np\n",
    "import pylab as plt\n",
    "import xarray as xr\n",
    "from glob import glob\n",
    "import pandas as pd\n",
    "import os\n",
    "\n",
    "import seaborn as sns\n",
    "\n",
    "from pismragis.observations import load_imbie, load_imbie_csv, load_mouginot\n",
    "from pismragis.analysis import resample_ensemble_by_data, sensitivity_analysis\n",
    "from pismragis.processing import convert_netcdf_to_dataframe, check_file, copy_file\n",
    "from pismragis.stats import run_stats"
   ]
  },
  {
   "cell_type": "code",
   "execution_count": 2,
   "id": "a4d3493a",
   "metadata": {},
   "outputs": [],
   "source": [
    "n_jobs = 8\n",
    "norm_year = 1992\n",
    "\n",
    "plt.rc('font', size=6)\n",
    "plt.style.use(\"tableau-colorblind10\")\n",
    "\n",
    "mass_varname = \"SLE (cm)\"\n",
    "mass_uncertainty_varname = \"SLE uncertainty (cm)\"\n",
    "discharge_varname = \"D (Gt/yr)\"\n",
    "discharge_uncertainty_varname = \"D uncertainty (Gt/yr)\"\n",
    "smb_varname = \"SMB (Gt/yr)\"\n",
    "smb_uncertainty_varname = \"SMB uncertainty (Gt/yr)\"\n",
    "\n",
    "\n",
    "bg_color = \"#216779\"\n",
    "bg_color = \"w\"\n",
    "sim_colors = plt.rcParams['axes.prop_cycle'].by_key()['color'][1::]\n",
    "imbie_color = plt.rcParams['axes.prop_cycle'].by_key()['color'][0]\n",
    "    \n",
    "imbie_color = \"#238b45\"\n",
    "mou_color = \"#6a51a3\"\n",
    "\n",
    "    \n",
    "kg2cmsle = 1 / 1e12 * 1.0 / 362.5 / 10.0\n",
    "gt2cmsle = 1 / 362.5 / 10.0\n",
    "sigma = 2"
   ]
  },
  {
   "cell_type": "markdown",
   "id": "d67ae0ff",
   "metadata": {},
   "source": [
    "## Load Observations"
   ]
  },
  {
   "cell_type": "code",
   "execution_count": 6,
   "id": "1408e106",
   "metadata": {},
   "outputs": [],
   "source": [
    "# imbie = load_imbie(url=\"../imbie_dataset_greenland_dynamics-2020_02_28.xlsx\")\n",
    "imbie = load_imbie()\n",
    "# Glacier and Ice cap bias 30 Gt/yr, add it back\n",
    "imbie[mass_varname] -= 30 * gt2cmsle\n",
    "imbie[smb_varname] += 30\n",
    "\n",
    "mou = load_mouginot(url=\"/Users/andy/Google Drive/My Drive/Projects/RAGIS/data/pnas.1904242116.sd02.xlsx\")\n",
    "mou_gis = mou[mou[\"Basin\"] == \"GIS\"]"
   ]
  },
  {
   "cell_type": "markdown",
   "id": "0c689537",
   "metadata": {},
   "source": [
    "## Make a list of all experiments"
   ]
  },
  {
   "cell_type": "code",
   "execution_count": 59,
   "id": "e5777a58",
   "metadata": {},
   "outputs": [],
   "source": [
    "data_dir = \"/Users/andy/Google Drive/My Drive/Projects/RAGIS/data/pism\"\n",
    "\n",
    "exps = []\n",
    "\n",
    "\n",
    "exps.append({\n",
    "    \"Experiment\": \"GIMP TW\",\n",
    "    \"proj_dir\": \"2023_08_gimp_tw_50\",\n",
    "    \"scalar_dir\": \"scalar\",\n",
    "    \"processed_dir\": \"processed\",\n",
    "    \"lhs\": \"gris_ragis_ocean_calving_w_posterior_lhs_50\",\n",
    "    \"DEM\": \"GIMP\"\n",
    "}\n",
    ")\n",
    "\n",
    "exps.append({\n",
    "    \"Experiment\": \"RAGIS TW\",\n",
    "    \"proj_dir\": \"2023_08_ragis_tw_50\",\n",
    "    \"scalar_dir\": \"scalar\",\n",
    "    \"processed_dir\": \"processed\",\n",
    "    \"lhs\": \"gris_ragis_ocean_calving_w_posterior_lhs_50\",\n",
    "    \"DEM\": \"RAGIS\"\n",
    "}\n",
    ")"
   ]
  },
  {
   "cell_type": "markdown",
   "id": "58a69c17",
   "metadata": {},
   "source": [
    "## Process experiments"
   ]
  },
  {
   "cell_type": "code",
   "execution_count": 61,
   "id": "d30073c2",
   "metadata": {},
   "outputs": [
    {
     "name": "stdout",
     "output_type": "stream",
     "text": [
      "Processing GIMP TW\n",
      "================================================\n",
      "\n",
      "Converting netcdf files to pandas.DataFrame\n",
      "-------------------------------------------\n"
     ]
    },
    {
     "name": "stderr",
     "output_type": "stream",
     "text": [
      "Processing files: 100%|███████████████████████████████████████████████████████████████████████████████████████████████████████████████████████████████████████████████████████████████| 5/5 [00:00<00:00, 29.25it/s]"
     ]
    },
    {
     "name": "stdout",
     "output_type": "stream",
     "text": [
      "Conversion finished in 0 seconds\n",
      "-------------------------------------------\n"
     ]
    },
    {
     "name": "stderr",
     "output_type": "stream",
     "text": [
      "\n"
     ]
    },
    {
     "name": "stdout",
     "output_type": "stream",
     "text": [
      "-------------------------------------------\n",
      "\n",
      "Processing RAGIS TW\n",
      "================================================\n",
      "\n",
      "Converting netcdf files to pandas.DataFrame\n",
      "-------------------------------------------\n"
     ]
    },
    {
     "name": "stderr",
     "output_type": "stream",
     "text": [
      "Processing files: 100%|███████████████████████████████████████████████████████████████████████████████████████████████████████████████████████████████████████████████████████████████| 4/4 [00:00<00:00, 22.01it/s]"
     ]
    },
    {
     "name": "stdout",
     "output_type": "stream",
     "text": [
      "Conversion finished in 0 seconds\n",
      "-------------------------------------------\n"
     ]
    },
    {
     "name": "stderr",
     "output_type": "stream",
     "text": [
      "\n"
     ]
    },
    {
     "name": "stdout",
     "output_type": "stream",
     "text": [
      "-------------------------------------------\n",
      "\n"
     ]
    }
   ],
   "source": [
    "experiments = []\n",
    "\n",
    "for exp in exps:\n",
    "    print(f\"\"\"Processing {exp[\"Experiment\"]}\"\"\")\n",
    "    print(\"================================================\\n\")\n",
    "    ens_file = os.path.join(data_dir, exp[\"proj_dir\"], \"uq\", f\"\"\"{exp[\"lhs\"]}.csv\"\"\")\n",
    "    s_dir = os.path.join(data_dir, exp[\"proj_dir\"], exp[\"scalar_dir\"])\n",
    "    scalar_files = sorted(glob(os.path.join(s_dir, f\"\"\"ts_gris_g*00m_*{exp[\"DEM\"]}_id_*_1980-1-1_2020-1-1.nc\"\"\")))\n",
    "    processed_path = os.path.join(data_dir, exp[\"proj_dir\"], exp[\"processed_dir\"])\n",
    "    for scalar_file in scalar_files:\n",
    "        if check_file(scalar_file):\n",
    "            copy_file(scalar_file, processed_path)\n",
    "        \n",
    "    processed_files = sorted(glob(os.path.join(processed_path, f\"\"\"ts_gris_g*00m_*{exp[\"DEM\"]}_id_*_1980-1-1_2020-1-1.nc\"\"\")))\n",
    "    exp_df = convert_netcdf_to_dataframe(processed_files, resample=\"yearly\", verbose=False, n_jobs=n_jobs)\n",
    "    exp_df[\"Experiment\"] = exp[\"Experiment\"]\n",
    "    exp[\"data_df\"] = exp_df\n",
    "    exp[\"run_stats\"] = run_stats(processed_files, experiment=exp[\"Experiment\"])\n",
    "    try:\n",
    "        sa_df = sensitivity_analysis(exp_df.dropna(), ensemble_file=ens_file, n_jobs=n_jobs)\n",
    "        exp[\"sensitivity_df\"] = sa_df\n",
    "    except:\n",
    "        pass\n",
    "    experiments.append(exp)\n"
   ]
  },
  {
   "cell_type": "code",
   "execution_count": 62,
   "id": "9212adf9",
   "metadata": {},
   "outputs": [
    {
     "name": "stdout",
     "output_type": "stream",
     "text": [
      "Peformace Summary for Experiment GIMP TW (5 members)\n",
      "---------------------------------------------------\n",
      "\n",
      "processor_hours                   4865.816641\n",
      "wall_clock_hours                    40.548472\n",
      "model_years_per_processor_hour       0.014942\n",
      "dtype: float64\n",
      "---------------------------------------------------\n",
      "\n",
      "Peformace Summary for Experiment RAGIS TW (4 members)\n",
      "---------------------------------------------------\n",
      "\n",
      "processor_hours                   3910.319109\n",
      "wall_clock_hours                    32.585993\n",
      "model_years_per_processor_hour       0.018190\n",
      "dtype: float64\n",
      "---------------------------------------------------\n",
      "\n"
     ]
    },
    {
     "data": {
      "image/png": "[encoded data removed]",
      "text/plain": [
       "<Figure size 620x200 with 3 Axes>"
      ]
     },
     "metadata": {},
     "output_type": "display_data"
    }
   ],
   "source": [
    "plt.rc('font', size=6)\n",
    "plt.style.use(\"tableau-colorblind10\")\n",
    "\n",
    "e = experiments[0][\"run_stats\"]\n",
    "m_vars = [\"processor_hours\", \"wall_clock_hours\", \"model_years_per_processor_hour\"]\n",
    "for m in range(len(experiments)):\n",
    "    e_df = experiments[m][\"run_stats\"]\n",
    "    print(f\"\"\"Peformace Summary for Experiment {experiments[m][\"Experiment\"]} ({len(e_df)} members)\"\"\")\n",
    "    print(\"---------------------------------------------------\\n\")\n",
    "    print(e_df.agg({'processor_hours': 'sum', 'wall_clock_hours': \"sum\", \"model_years_per_processor_hour\": \"mean\"}))\n",
    "    print(\"---------------------------------------------------\\n\")\n",
    "\n",
    "fig, axs = plt.subplots(nrows=1, ncols=len(m_vars), sharey=\"row\", figsize=[6.2, 2.0])\n",
    "fig.subplots_adjust(wspace=0)\n",
    "\n",
    "\n",
    "all_run_stats = pd.concat([experiments[k][\"run_stats\"] for k in range(len(experiments))]).reset_index(drop=True)\n",
    "[sns.histplot(data=all_run_stats, x=m_var, bins=11, kde=True, hue=\"Experiment\", ax=axs[k]) for k, m_var in enumerate(m_vars)]\n",
    "axs[0].legend([], [], frameon=False)\n",
    "axs[1].legend([], [], frameon=False)\n",
    "\n",
    "\n",
    "fig.tight_layout()\n",
    "fig.savefig(\"run_stats.pdf\")\n",
    "!open run_stats.pdf"
   ]
  },
  {
   "cell_type": "markdown",
   "id": "e4e09670",
   "metadata": {},
   "source": [
    "## Plot\n",
    "\n",
    "Plot time series of cumulative mass change (cm SLE) and discharge at grounding line (Gt/yr)"
   ]
  },
  {
   "cell_type": "code",
   "execution_count": 66,
   "id": "a013891f",
   "metadata": {},
   "outputs": [
    {
     "name": "stdout",
     "output_type": "stream",
     "text": [
      "time\n",
      "1980-01-01   -509.842431\n",
      "1981-01-01   -467.551620\n",
      "1982-01-01   -466.826135\n",
      "1983-01-01   -466.523785\n",
      "1984-01-01   -469.528302\n",
      "1985-01-01   -467.540824\n",
      "1986-01-01   -456.506758\n",
      "1987-01-01   -448.612834\n",
      "1988-01-01   -447.272429\n",
      "1989-01-01   -446.566089\n",
      "1990-01-01   -450.576754\n",
      "1991-01-01   -447.569279\n",
      "1992-01-01   -447.090755\n",
      "1993-01-01   -447.204692\n",
      "1994-01-01   -442.141221\n",
      "1995-01-01   -306.723521\n",
      "1996-01-01   -301.865325\n",
      "Name: D (Gt/yr), dtype: float64\n",
      "time\n",
      "1980-01-01   -284.552863\n",
      "1981-01-01   -275.820612\n",
      "1982-01-01   -284.670114\n",
      "1983-01-01   -297.905561\n",
      "1984-01-01   -298.728507\n",
      "1985-01-01   -303.877166\n",
      "1986-01-01   -300.277894\n",
      "1987-01-01   -301.907749\n",
      "1988-01-01   -298.761237\n",
      "1989-01-01   -297.010763\n",
      "1990-01-01   -300.678243\n",
      "1991-01-01   -303.324245\n",
      "1992-01-01   -305.653478\n",
      "1993-01-01   -304.084085\n",
      "1994-01-01   -305.808694\n",
      "1995-01-01   -306.307934\n",
      "1996-01-01   -301.865325\n",
      "Name: D (Gt/yr), dtype: float64\n",
      "time\n",
      "1980-01-01   -450.586044\n",
      "1981-01-01   -417.655741\n",
      "1982-01-01   -413.145228\n",
      "1983-01-01   -421.117189\n",
      "1984-01-01   -416.955020\n",
      "1985-01-01   -417.491769\n",
      "1986-01-01   -420.238426\n",
      "1987-01-01   -418.559972\n",
      "1988-01-01   -418.303266\n",
      "1989-01-01   -415.409314\n",
      "1990-01-01   -411.259584\n",
      "1991-01-01   -406.498400\n",
      "1992-01-01   -410.187783\n",
      "1993-01-01   -405.448191\n",
      "1994-01-01   -403.227527\n",
      "1995-01-01   -405.883749\n",
      "1996-01-01   -406.491225\n",
      "1997-01-01   -379.935973\n",
      "1998-01-01   -290.915016\n",
      "1999-01-01   -278.379672\n",
      "2000-01-01   -288.670502\n",
      "Name: D (Gt/yr), dtype: float64\n",
      "time\n",
      "1980-01-01   -245.787664\n",
      "1981-01-01   -239.370789\n",
      "1982-01-01   -248.769143\n",
      "1983-01-01   -253.996629\n",
      "1984-01-01   -256.325545\n",
      "1985-01-01   -261.167754\n",
      "1986-01-01   -264.690737\n",
      "1987-01-01   -258.622674\n",
      "1988-01-01   -265.340239\n",
      "1989-01-01   -266.685139\n",
      "1990-01-01   -265.769831\n",
      "1991-01-01   -267.944932\n",
      "1992-01-01   -269.105243\n",
      "1993-01-01   -271.753355\n",
      "1994-01-01   -275.974908\n",
      "1995-01-01   -281.428415\n",
      "1996-01-01   -278.987150\n",
      "1997-01-01   -279.581031\n",
      "1998-01-01   -278.511707\n",
      "1999-01-01   -278.379672\n",
      "2000-01-01   -288.670502\n",
      "Name: D (Gt/yr), dtype: float64\n"
     ]
    },
    {
     "data": {
      "image/png": "[encoded data removed]",
      "text/plain": [
       "<Figure size 620x420 with 3 Axes>"
      ]
     },
     "metadata": {},
     "output_type": "display_data"
    }
   ],
   "source": [
    "plt.rc('font', size=6)\n",
    "plt.style.use(\"tableau-colorblind10\")\n",
    "\n",
    "fig, axs = plt.subplots(nrows=3, ncols=1, sharex=\"col\", figsize=(6.2, 4.2), height_ratios=[3.5, 2, 2])\n",
    "fig.subplots_adjust(wspace=-0.5, hspace=-0.5)\n",
    "\n",
    "\n",
    "for obs, o, obs_color, obs_loc, obs_alpha  in zip([imbie, mou_gis], [\"IMBIE\", \"Mouginot (2019)\"], \n",
    "                                       [imbie_color, mou_color], [(0.1, 0.0), (0.3, 0.0)], [0.2, 0.4]):\n",
    "    obs_ci = axs[0].fill_between(obs[\"Date\"], \n",
    "                    (obs[mass_varname] + sigma * obs[mass_uncertainty_varname]), \n",
    "                    (obs[mass_varname] - sigma * obs[mass_uncertainty_varname]), \n",
    "                    ls=\"solid\", color=obs_color, lw=0, alpha=obs_alpha, label=f\"{sigma}-$\\sigma$\")\n",
    "    axs[1].fill_between(obs[\"Date\"], \n",
    "                    (obs[discharge_varname] + sigma * obs[discharge_uncertainty_varname]), \n",
    "                    (obs[discharge_varname] - sigma * obs[discharge_uncertainty_varname]), \n",
    "                    ls=\"solid\", color=obs_color, lw=0, alpha=obs_alpha)\n",
    "    axs[2].fill_between(obs[\"Date\"], \n",
    "                    (obs[smb_varname] + sigma * obs[smb_uncertainty_varname]), \n",
    "                    (obs[smb_varname] - sigma * obs[smb_uncertainty_varname]), \n",
    "                    ls=\"solid\", color=obs_color, lw=0, alpha=obs_alpha)\n",
    "    obs_line = axs[0].plot(obs[\"Date\"], obs[mass_varname], color=obs_color, lw=1, label=\"Mean\")\n",
    "    axs[1].plot(obs[\"Date\"], obs[discharge_varname], color=obs_color, lw=1)\n",
    "\n",
    "    legend_obs = axs[0].legend(handles=[obs_line[0], obs_ci], loc=\"lower center\", bbox_to_anchor=obs_loc, \n",
    "                               title=f\"Observed ({o})\")\n",
    "    legend_obs.get_frame().set_linewidth(0.0)\n",
    "    legend_obs.get_frame().set_alpha(0.0)\n",
    "    axs[0].add_artist(legend_obs)\n",
    "\n",
    "\n",
    "sims_cis = []\n",
    "sims_lines = []\n",
    "for k, exp in enumerate(experiments):\n",
    "    df = exp[\"data_df\"]\n",
    "    q_05 = df.groupby(by=\"time\").quantile(0.05, numeric_only=True)\n",
    "    q_50 = df.groupby(by=\"time\").quantile(0.50, numeric_only=True)\n",
    "    q_95 = df.groupby(by=\"time\").quantile(0.95, numeric_only=True)\n",
    "    sims_line = axs[0].plot(q_50.index, q_50[mass_varname], color=sim_colors[k], alpha=1.0, lw=1)\n",
    "    axs[1].plot(q_50.index, q_50[discharge_varname], color=sim_colors[k], alpha=1.0, lw=1)\n",
    "    axs[2].plot(q_50.index, q_50[smb_varname], color=sim_colors[k], alpha=1.0, lw=1)\n",
    "    print(q_05[discharge_varname])\n",
    "    print(q_95[discharge_varname])\n",
    "    sims_ci = axs[0].fill_between(q_05.index, q_05[mass_varname], \n",
    "                        q_95[mass_varname], color=sim_colors[k], alpha=0.4, lw=0, label=exp[\"Experiment\"])\n",
    "    axs[1].fill_between(q_05.index, q_05[discharge_varname], \n",
    "                        q_95[discharge_varname], color=sim_colors[k], alpha=0.0, lw=1)\n",
    "    axs[2].fill_between(q_05.index, q_05[smb_varname], \n",
    "                        q_95[smb_varname], color=sim_colors[k], alpha=0.4, lw=0)\n",
    "    sims_cis.append(sims_ci)\n",
    "    sims_lines.append(sims_line[0])\n",
    "    \n",
    "legend_sims = axs[0].legend(handles=sims_cis, loc=\"lower center\", bbox_to_anchor=[0.8, .0], \n",
    "                           title=f\"Simulated\")\n",
    "legend_sims.get_frame().set_linewidth(0.0)\n",
    "legend_sims.get_frame().set_alpha(0.0)\n",
    "axs[0].add_artist(legend_sims)\n",
    "    \n",
    "axs[0].plot(imbie[\"Date\"], imbie[mass_varname], color=imbie_color, lw=1)\n",
    "axs[1].plot(imbie[\"Date\"], imbie[discharge_varname], color=imbie_color, lw=1)\n",
    "axs[2].plot(imbie[\"Date\"], imbie[smb_varname], color=imbie_color, lw=1)\n",
    "\n",
    "\n",
    "\n",
    "fig.set_facecolor(bg_color)\n",
    "for ax in axs:\n",
    "    ax.set_facecolor(bg_color)\n",
    "fig.set_facecolor(bg_color)\n",
    "\n",
    "axs[0].axhline(0, color=\"k\", ls=\"dotted\", lw=1.0)\n",
    "axs[0].set_xlabel(\"\")\n",
    "axs[0].set_ylabel(\"Contribution to sea-level\\nsince 1992 (cm SLE)\")\n",
    "axs[-1].set_xlabel(\"Year\")\n",
    "axs[1].set_ylabel(\"Solid Discharge (Gt/yr)\")\n",
    "axs[2].set_ylabel(\"SMB (Gt/yr)\")\n",
    "axs[0].set_xlim(pd.to_datetime(\"1980-1-1\"), pd.to_datetime(\"2020-1-1\"))\n",
    "axs[0].set_ylim(-2, 2)\n",
    "axs[1].set_ylim(-1200, 0)\n",
    "#axs[1].set_ylim(-1000, 100)\n",
    "\n",
    "fig.tight_layout()\n",
    "fig.savefig(\"ragis-comp_scalar.pdf\")\n",
    "!open ragis-comp_scalar.pdf"
   ]
  },
  {
   "cell_type": "markdown",
   "id": "66402b7f",
   "metadata": {},
   "source": [
    "## Plot sensitivity index"
   ]
  },
  {
   "cell_type": "code",
   "execution_count": null,
   "id": "ba5ac98e",
   "metadata": {},
   "outputs": [],
   "source": [
    "plt.rc('font', size=6)\n",
    "plt.style.use(\"tableau-colorblind10\")\n",
    "\n",
    "\n",
    "for e in experiments:\n",
    "    sa_df = e[\"sensitivity_df\"]\n",
    "    si = \"S1\"\n",
    "    outfile = f\"\"\"{e[\"lhs\"]}.pdf\"\"\"\n",
    "    fig, axs = plt.subplots(\n",
    "        2,\n",
    "        1,\n",
    "        sharex=\"col\",\n",
    "        figsize=[6.2, 3.8],\n",
    "    )\n",
    "    fig.subplots_adjust(bottom=0.0)\n",
    "    for k, m_var in enumerate([\"limnsw (kg)\", \"grounding_line_flux (Gt year-1)\"]):\n",
    "        m_df = sa_df[sa_df[\"Variable\"] == m_var]\n",
    "        ax = axs.ravel()[k]\n",
    "        p_df = m_df[m_df[\"Si\"] == si].drop(columns=[\"Si\", \"Variable\"]).set_index(\"Date\")\n",
    "        p_conf_df = m_df[m_df[\"Si\"] == si + \"_conf\"].drop(columns=[\"Si\"])\n",
    "\n",
    "        [\n",
    "            ax.plot(p_df.index, p_df[v], lw=1, label=v)\n",
    "            for v in sa_df.drop(columns=[\"Si\", \"Variable\", \"Date\"]).keys()\n",
    "        ]\n",
    "\n",
    "        [\n",
    "            ax.fill_between(\n",
    "                p_df.index,\n",
    "                p_df[v].values - p_conf_df[v].values,\n",
    "                p_df[v].values + p_conf_df[v].values,\n",
    "                alpha=0.2,\n",
    "                lw=0,\n",
    "            )\n",
    "            for v in sa_df.drop(columns=[\"Si\", \"Variable\", \"Date\"]).keys()\n",
    "        ]\n",
    "        ax.set_xlim(datetime(1980, 1, 1), datetime(2020, 1, 1))\n",
    "        lgd = ax.set_title(f\"{si} indices for '{m_var}'\")\n",
    "    legend = axs[-1].legend(loc=\"lower left\", ncols=3, bbox_to_anchor=(0, -0.75))\n",
    "    fig.tight_layout()\n",
    "    fig.savefig(f\"{si}_{outfile}\")\n"
   ]
  },
  {
   "cell_type": "code",
   "execution_count": null,
   "id": "1ef451a4",
   "metadata": {},
   "outputs": [],
   "source": [
    "m_e = experiments[0][\"data_df\"]\n",
    "ragis_calib, weights = resample_ensemble_by_data(imbie, m_e, \n",
    "                                        fudge_factor=3, verbose=True)\n",
    "calib_exps = ragis_calib[\"id\"].unique()\n",
    "print(calib_exps)"
   ]
  },
  {
   "cell_type": "code",
   "execution_count": null,
   "id": "43d852e8",
   "metadata": {},
   "outputs": [],
   "source": [
    "fig, axs = plt.subplots(nrows=2, ncols=1, sharex=\"col\", figsize=(12, 8))\n",
    "fig.subplots_adjust(wspace=0.0, hspace=0.0)\n",
    "\n",
    "q_5 = ragis_calib.groupby(by=\"Year\").quantile(0.05, numeric_only=True)\n",
    "q_16 = ragis_calib.groupby(by=\"Year\").quantile(0.16, numeric_only=True)\n",
    "q_50 = ragis_calib.groupby(by=\"Year\").quantile(0.50, numeric_only=True)\n",
    "q_84 = ragis_calib.groupby(by=\"Year\").quantile(0.84, numeric_only=True)\n",
    "q_95 = ragis_calib.groupby(by=\"Year\").quantile(0.95, numeric_only=True)\n",
    "for exp in m_e:\n",
    "    print(exp)\n",
    "    e = m_e[m_e[\"id\"] == exp]\n",
    "    axs[0].plot(e[\"Year\"], e[mass_varname], color=\"k\", lw=1)\n",
    "    print(e)\n",
    "    axs[1].plot(e[\"Year\"], e[discharge_varname], color=\"k\", lw=1)\n",
    "\n",
    "for exp in calib_exps:\n",
    "    e = m_e[m_e[\"id\"] == exp]\n",
    "    axs[0].plot(e[\"Year\"], e[mass_varname], lw=1)\n",
    "    axs[1].plot(e[\"Year\"], e[discharge_varname], lw=1)\n",
    "\n",
    "axs[0].fill_between(q_50.index, q_16[mass_varname], q_84[mass_varname], color=\"w\")\n",
    "axs[0].fill_between(imbie[\"Year\"], \n",
    "                    (imbie[mass_varname] + sigma * imbie[mass_uncertainty_varname]), \n",
    "                    (imbie[mass_varname] - sigma * imbie[mass_uncertainty_varname]), \n",
    "                    ls=\"solid\", lw=0, alpha=0.35, label=\"2-$\\sigma$ IMBIE\")\n",
    "axs[1].fill_between(imbie[\"Year\"], \n",
    "                    (imbie[discharge_varname] + sigma * imbie[discharge_uncertainty_varname]), \n",
    "                    (imbie[discharge_varname] - sigma * imbie[discharge_uncertainty_varname]), \n",
    "                    ls=\"solid\", lw=0, alpha=0.35, color=imbie_color)\n",
    "\n",
    "\n",
    "axs[0].set_xlim(1992, 2020)\n",
    "axs[0].set_ylim(0, 2)\n",
    "fig.set_facecolor(bg_color)\n",
    "for ax in axs:\n",
    "    ax.set_facecolor(bg_color)\n",
    "fig.set_facecolor(bg_color)\n",
    "\n",
    "\n"
   ]
  },
  {
   "cell_type": "code",
   "execution_count": null,
   "id": "e34d7026",
   "metadata": {},
   "outputs": [],
   "source": [
    "from scipy.interpolate import interp1d\n",
    "from tqdm import tqdm\n"
   ]
  },
  {
   "cell_type": "code",
   "execution_count": null,
   "id": "3c763e47",
   "metadata": {},
   "outputs": [],
   "source": [
    "np.array([  634.45744104  -235.12952599 -1167.45917464  -531.87414125\n",
    "  -904.57676904    91.04033758   722.82730577   114.16742036\n",
    "   423.55949261   625.02532308  -293.90580578   647.25631402\n",
    "  -586.31879794 -1381.01064481   349.68201297   716.26847793\n",
    "   363.33248697 -1011.23876497   -48.85983816   406.46475582\n",
    "   605.17371227  -949.29602232  -988.06082517  -534.95763144\n",
    "   405.57114816  -986.00865133  -649.38528098   665.06762932\n",
    "   625.46368323   385.91494928 -1067.25259603  1053.83389006\n",
    "   230.25552736  -390.24453682   176.72057353 -1066.75620664\n",
    "  -303.09711807   312.49178881   942.86270865   783.1536109\n",
    "   111.79503873  -139.82581505   570.4991376   -757.75426472\n",
    "   586.62399324    39.56232318   879.51778518   524.42354351]\n",
    "[  634.45744104  -235.12952599 -1167.45917464  -531.87414125\n",
    "  -904.57676904    91.04033758   722.82730577   114.16742036\n",
    "   423.55949261   625.02532308  -293.90580578   647.25631402\n",
    "  -586.31879794 -1381.01064481   349.68201297   716.26847793\n",
    "   363.33248697 -1011.23876497   -48.85983816   406.46475582\n",
    "   605.17371227  -949.29602232  -988.06082517  -534.95763144\n",
    "   405.57114816  -986.00865133  -649.38528098   665.06762932\n",
    "   625.46368323   385.91494928 -1067.25259603  1053.83389006\n",
    "   230.25552736  -390.24453682   176.72057353 -1066.75620664\n",
    "  -303.09711807   312.49178881   942.86270865   783.1536109\n",
    "   111.79503873  -139.82581505   570.4991376   -757.75426472\n",
    "   586.62399324    39.56232318   879.51778518   524.42354351])"
   ]
  },
  {
   "cell_type": "code",
   "execution_count": null,
   "id": "6cb63ea0",
   "metadata": {},
   "outputs": [],
   "source": [
    "np.exp(weights)"
   ]
  },
  {
   "cell_type": "code",
   "execution_count": null,
   "id": "15ebb3f1",
   "metadata": {},
   "outputs": [],
   "source": [
    "imbie"
   ]
  },
  {
   "cell_type": "code",
   "execution_count": null,
   "id": "66cbd79e",
   "metadata": {},
   "outputs": [],
   "source": [
    "e"
   ]
  },
  {
   "cell_type": "code",
   "execution_count": null,
   "id": "d0e77bf6",
   "metadata": {},
   "outputs": [],
   "source": [
    "calib_exps"
   ]
  },
  {
   "cell_type": "code",
   "execution_count": null,
   "id": "554553ff",
   "metadata": {},
   "outputs": [],
   "source": [
    "e"
   ]
  },
  {
   "cell_type": "code",
   "execution_count": null,
   "id": "eb56b898",
   "metadata": {},
   "outputs": [],
   "source": [
    "m_e"
   ]
  },
  {
   "cell_type": "code",
   "execution_count": null,
   "id": "a607ee8d",
   "metadata": {},
   "outputs": [],
   "source": [
    "experiments[1][\"data_df\"]"
   ]
  },
  {
   "cell_type": "code",
   "execution_count": null,
   "id": "3f87ceb3",
   "metadata": {},
   "outputs": [],
   "source": [
    "m_e = experiments[2][\"data_df\"]"
   ]
  },
  {
   "cell_type": "code",
   "execution_count": null,
   "id": "d6b8caec",
   "metadata": {},
   "outputs": [],
   "source": [
    "m_e"
   ]
  },
  {
   "cell_type": "code",
   "execution_count": null,
   "id": "b028bb3a",
   "metadata": {},
   "outputs": [],
   "source": [
    "def resample_ensemble_by_data_o(\n",
    "    observed: pd.DataFrame,\n",
    "    simulated: pd.DataFrame,\n",
    "    id_var: str = \"id\",\n",
    "    calibration_start: float = 1992.0,\n",
    "    calibration_end: float = 2017.0,\n",
    "    fudge_factor: float = 3,\n",
    "    n_samples: int = 100,\n",
    "    verbose: bool = False,\n",
    "    m_var: str = \"Mass (Gt)\",\n",
    "    m_var_std: str = \"Mass uncertainty (Gt)\",\n",
    ") -> pd.DataFrame:\n",
    "    \"\"\"\n",
    "    Resampling algorithm by Douglas C. Brinkerhoff\n",
    "\n",
    "\n",
    "    Parameters\n",
    "    ----------\n",
    "    observed : pandas.DataFrame\n",
    "        A dataframe with observations\n",
    "    simulated : pandas.DataFrame\n",
    "        A dataframe with simulations\n",
    "    calibration_start : float\n",
    "        Start year for calibration\n",
    "    calibration_end : float\n",
    "        End year for calibration\n",
    "    fudge_factor : float\n",
    "        Tolerance for simulations. Calculated as fudge_factor * standard deviation of observed\n",
    "    n_samples : int\n",
    "        Number of samples to draw.\n",
    "\n",
    "    \"\"\"\n",
    "\n",
    "    observed_calib_time = (observed[\"Year\"] >= calibration_start) & (\n",
    "        observed[\"Year\"] <= calibration_end\n",
    "    )\n",
    "    observed_calib_period = observed[observed_calib_time]\n",
    "    observed_interp_mean = interp1d(\n",
    "        observed_calib_period[\"Year\"], observed_calib_period[m_var]\n",
    "    )\n",
    "    observed_interp_std = interp1d(\n",
    "        observed_calib_period[\"Year\"], observed_calib_period[m_var_std]\n",
    "    )\n",
    "    simulated_calib_time = (simulated[\"Year\"] >= calibration_start) & (\n",
    "        simulated[\"Year\"] <= calibration_end\n",
    "    )\n",
    "    simulated_calib_period = simulated[simulated_calib_time]\n",
    "\n",
    "    resampled_list = []\n",
    "    log_likes = []\n",
    "    experiments = sorted(simulated_calib_period[id_var].unique())\n",
    "    evals = []\n",
    "    for i in experiments:\n",
    "        exp_ = simulated_calib_period[(simulated_calib_period[id_var] == i)]\n",
    "        exp_interp = interp1d(exp_[\"Year\"], exp_[m_var])\n",
    "        log_like = 0.0\n",
    "        for year, observed_mean, observed_std in zip(\n",
    "            observed_calib_period[\"Year\"],\n",
    "            observed_calib_period[m_var],\n",
    "            observed_calib_period[m_var_std],\n",
    "        ):\n",
    "            try:\n",
    "                observed_std *= fudge_factor\n",
    "                exp_mean = exp_interp(year)\n",
    "\n",
    "                log_like -= 0.5 * (\n",
    "                    (exp_mean - observed_mean) / observed_std\n",
    "                ) ** 2 + 0.5 * np.log(2 * np.pi * observed_std**2)\n",
    "            except ValueError:\n",
    "                pass\n",
    "        if log_like != 0:\n",
    "            evals.append(i)\n",
    "            log_likes.append(log_like)\n",
    "            if verbose:\n",
    "                print(f\"Experiment {i:.0f}: {log_like:.2f}\")\n",
    "    experiments = np.array(evals)\n",
    "    w = np.array(log_likes)\n",
    "    w -= w.mean()\n",
    "    weights = np.exp(w)\n",
    "    weights /= weights.sum()\n",
    "    resampled_experiments = np.random.choice(experiments, n_samples, p=weights)\n",
    "    new_frame = []\n",
    "    for i in resampled_experiments:\n",
    "        new_frame.append(simulated[(simulated[id_var] == i)])\n",
    "    simulated_resampled = pd.concat(new_frame)\n",
    "    resampled_list.append(simulated_resampled)\n",
    "\n",
    "    simulated_resampled = pd.concat(resampled_list)\n",
    "\n",
    "    return simulated_resampled\n"
   ]
  },
  {
   "cell_type": "code",
   "execution_count": null,
   "id": "e5bd9906",
   "metadata": {},
   "outputs": [],
   "source": [
    "def resample_ensemble_by_data(\n",
    "    observed: pd.DataFrame,\n",
    "    simulated: pd.DataFrame,\n",
    "    id_var: str = \"id\",\n",
    "    calibration_start: float = 1992.0,\n",
    "    calibration_end: float = 2017.0,\n",
    "    fudge_factor: float = 3,\n",
    "    n_samples: int = 100,\n",
    "    verbose: bool = False,\n",
    "    m_var: str = \"Mass (Gt)\",\n",
    "    m_var_std: str = \"Mass uncertainty (Gt)\",\n",
    ") -> pd.DataFrame:\n",
    "    \"\"\"\n",
    "    Resampling algorithm by Douglas C. Brinkerhoff\n",
    "\n",
    "\n",
    "    Parameters\n",
    "    ----------\n",
    "    observed : pandas.DataFrame\n",
    "        A dataframe with observations\n",
    "    simulated : pandas.DataFrame\n",
    "        A dataframe with simulations\n",
    "    calibration_start : float\n",
    "        Start year for calibration\n",
    "    calibration_end : float\n",
    "        End year for calibration\n",
    "    fudge_factor : float\n",
    "        Tolerance for simulations. Calculated as fudge_factor * standard deviation of observed\n",
    "    n_samples : int\n",
    "        Number of samples to draw.\n",
    "\n",
    "    \"\"\"\n",
    "\n",
    "    observed_calib_time = (observed[\"Year\"] >= calibration_start) & (\n",
    "        observed[\"Year\"] <= calibration_end\n",
    "    )\n",
    "    observed_calib_period = observed[observed_calib_time]\n",
    "    observed_interp_mean = interp1d(\n",
    "        observed_calib_period[\"Year\"], observed_calib_period[m_var]\n",
    "    )\n",
    "    observed_interp_std = interp1d(\n",
    "        observed_calib_period[\"Year\"], observed_calib_period[m_var_std]\n",
    "    )\n",
    "    simulated_calib_time = (simulated[\"Year\"] >= calibration_start) & (\n",
    "        simulated[\"Year\"] <= calibration_end\n",
    "    )\n",
    "    simulated_calib_period = simulated[simulated_calib_time]\n",
    "\n",
    "    resampled_list = []\n",
    "    log_likes = []\n",
    "    experiments = sorted(simulated_calib_period[id_var].unique())\n",
    "    evals = []\n",
    "    for i in experiments:\n",
    "        exp_ = simulated_calib_period[(simulated_calib_period[id_var] == i)]\n",
    "        exp_interp = interp1d(exp_[\"Year\"], exp_[m_var])\n",
    "        log_like = 0.0\n",
    "        for year, exp_mean in zip(exp_[\"Year\"], exp_[m_var]):\n",
    "            try:\n",
    "                observed_mean = observed_interp_mean(year)\n",
    "                observed_std = observed_interp_std(year) * fudge_factor\n",
    "                log_like -= 0.5 * (\n",
    "                    (exp_mean - observed_mean) / observed_std\n",
    "                ) ** 2 + 0.5 * np.log(2 * np.pi * observed_std**2)\n",
    "                print(i, year, f\"{observed_mean:.3f}\", f\"{observed_std:.3f}\", f\"{exp_mean:.3f}\")\n",
    "\n",
    "            except ValueError:\n",
    "                pass\n",
    "        if log_like != 0:\n",
    "            evals.append(i)\n",
    "            log_likes.append(log_like)\n",
    "            if verbose:\n",
    "                print(f\"Experiment {i:.0f}: {log_like:.2f}\")\n",
    "    experiments = np.array(evals)\n",
    "    w = np.array(log_likes)\n",
    "    w -= w.mean()\n",
    "    weights = np.exp(w)\n",
    "    weights /= weights.sum()\n",
    "    resampled_experiments = np.random.choice(experiments, n_samples, p=weights)\n",
    "    new_frame = []\n",
    "    for i in resampled_experiments:\n",
    "        new_frame.append(simulated[(simulated[id_var] == i)])\n",
    "    simulated_resampled = pd.concat(new_frame)\n",
    "    resampled_list.append(simulated_resampled)\n",
    "\n",
    "    simulated_resampled = pd.concat(resampled_list)\n",
    "\n",
    "    return simulated_resampled, weights"
   ]
  },
  {
   "cell_type": "code",
   "execution_count": null,
   "id": "660a0ad5",
   "metadata": {},
   "outputs": [],
   "source": [
    "import xarray as xr"
   ]
  },
  {
   "cell_type": "code",
   "execution_count": null,
   "id": "b4f8905e",
   "metadata": {},
   "outputs": [],
   "source": [
    "xr.open_dataset(\"../../pism-emulator/pddemulator/DMI-HIRHAM5_1980_2020_MMS.nc\")"
   ]
  },
  {
   "cell_type": "code",
   "execution_count": null,
   "id": "ae40de11",
   "metadata": {},
   "outputs": [],
   "source": [
    "exp_df"
   ]
  },
  {
   "cell_type": "code",
   "execution_count": null,
   "id": "5bb37d4f",
   "metadata": {},
   "outputs": [],
   "source": [
    "experiments[0].items()"
   ]
  },
  {
   "cell_type": "code",
   "execution_count": null,
   "id": "020cf785",
   "metadata": {},
   "outputs": [],
   "source": [
    "uq_df = pd.read_csv(\"../uq/gris_ragis_calving_simple_lhs_50.csv\")"
   ]
  },
  {
   "cell_type": "code",
   "execution_count": null,
   "id": "3f49304f",
   "metadata": {},
   "outputs": [],
   "source": [
    "uq_df.hist()"
   ]
  },
  {
   "cell_type": "code",
   "execution_count": null,
   "id": "2d80acd6",
   "metadata": {},
   "outputs": [],
   "source": [
    "mou"
   ]
  },
  {
   "cell_type": "code",
   "execution_count": null,
   "id": "08e21597",
   "metadata": {},
   "outputs": [],
   "source": [
    "    url = \"/Users/andy/Google Drive/My Drive/Projects/RAGIS/data/pnas.1904242116.sd02.xlsx\"\n",
    "    norm_year = 1992.0\n"
   ]
  },
  {
   "cell_type": "code",
   "execution_count": null,
   "id": "e6620657",
   "metadata": {},
   "outputs": [],
   "source": [
    "dfs = []\n",
    "for basin, idx in zip([\"GIS\", \"SE\", \"CE\", \"NE\", \"NW\", \"CW\", \"SW\"], \n",
    "                      [[7, 19, 29, 41], \n",
    "                       [6, 18, 28, 40], \n",
    "                       [5, 17, 27, 39], \n",
    "                       [4, 16, 26, 38],\n",
    "                       [3, 15, 25, 37],\n",
    "                       [2, 14, 24, 36],\n",
    "                       [1, 13, 23, 35]]):\n",
    "    \n",
    "    df_m = pd.read_excel(\n",
    "        url,\n",
    "        sheet_name=\"(2) MB_GIS\",\n",
    "        header=8,\n",
    "        usecols=\"B,P:BJ\",\n",
    "        engine=\"openpyxl\",\n",
    "    )\n",
    "\n",
    "    d = df_m.iloc[idx[0]]\n",
    "    smb = df_m.iloc[idx[1]]\n",
    "    mass = df_m.iloc[idx[3]]\n",
    "\n",
    "    df_u = pd.read_excel(\n",
    "        url,\n",
    "        sheet_name=\"(2) MB_GIS\",\n",
    "        header=8,\n",
    "        usecols=\"B,CE:DY\",\n",
    "        engine=\"openpyxl\",\n",
    "    )\n",
    "    d_u = df_u.iloc[idx[0]]\n",
    "    smb_u = df_u.iloc[idx[1]]\n",
    "    mass_u = df_u.iloc[idx[2]]\n",
    "    mass_uc = df_u.iloc[idx[3]]\n",
    "\n",
    "    df = pd.DataFrame(\n",
    "        data=np.hstack(\n",
    "            [\n",
    "                df_m.columns[1::].values.reshape(-1, 1),\n",
    "                mass.values[1::].reshape(-1, 1),\n",
    "                smb.values[1::].reshape(-1, 1),\n",
    "                -d.values[1::].reshape(-1, 1),\n",
    "                mass_uc.values[1::].reshape(-1, 1),\n",
    "                smb_u.values[1::].reshape(-1, 1),\n",
    "                d_u.values[1::].reshape(-1, 1),\n",
    "            ]\n",
    "        ),\n",
    "        columns=[\n",
    "            \"Year\",\n",
    "            \"Mass (Gt)\",\n",
    "            \"SMB (Gt/yr)\",\n",
    "            \"D (Gt/yr)\",\n",
    "            \"Mass uncertainty (Gt)\",\n",
    "            \"SMB uncertainty (Gt/yr)\",\n",
    "            \"D uncertainty (Gt/yr)\",\n",
    "        ],\n",
    "    )\n",
    "    df = df.astype(\n",
    "        {\n",
    "            \"Year\": float,\n",
    "            \"Mass (Gt)\": float,\n",
    "            \"Mass uncertainty (Gt)\": float,\n",
    "            \"SMB (Gt/yr)\": float,\n",
    "            \"SMB uncertainty (Gt/yr)\": float,\n",
    "            \"D (Gt/yr)\": float,\n",
    "            \"D uncertainty (Gt/yr)\": float,\n",
    "        }\n",
    "    )\n",
    "\n",
    "    df[\"Date\"] = pd.date_range(start=\"1972-1-1\", end=\"2018-1-1\", freq=\"AS\")\n",
    "\n",
    "    # Normalize\n",
    "    for v in [\n",
    "        \"Mass (Gt)\",\n",
    "    ]:\n",
    "        df[v] -= df[df[\"Year\"] == norm_year][v].values\n",
    "\n",
    "    cmSLE = 1.0 / 362.5 / 10.0\n",
    "    df[\"SLE (cm)\"] = -df[\"Mass (Gt)\"] * cmSLE\n",
    "    df[\"SLE uncertainty (cm)\"] = -df[\"Mass uncertainty (Gt)\"] * cmSLE\n",
    "    df[\"Basin\"] = basin\n",
    "    dfs.append(df)\n",
    "df = pd.concat(dfs).reset_index(drop=True)"
   ]
  },
  {
   "cell_type": "code",
   "execution_count": null,
   "id": "a316e5a1",
   "metadata": {},
   "outputs": [],
   "source": [
    "df[\"Mass (Gt)\"]"
   ]
  },
  {
   "cell_type": "code",
   "execution_count": null,
   "id": "9a1069da",
   "metadata": {},
   "outputs": [],
   "source": [
    "df[df[\"Basin\"] == \"SE\"]"
   ]
  },
  {
   "cell_type": "code",
   "execution_count": null,
   "id": "94be2208",
   "metadata": {},
   "outputs": [],
   "source": [
    "df"
   ]
  },
  {
   "cell_type": "code",
   "execution_count": null,
   "id": "882f79cd",
   "metadata": {},
   "outputs": [],
   "source": []
  }
 ],
 "metadata": {
  "kernelspec": {
   "display_name": "Python 3 (ipykernel)",
   "language": "python",
   "name": "python3"
  },
  "language_info": {
   "codemirror_mode": {
    "name": "ipython",
    "version": 3
   },
   "file_extension": ".py",
   "mimetype": "text/x-python",
   "name": "python",
   "nbconvert_exporter": "python",
   "pygments_lexer": "ipython3",
   "version": "3.11.4"
  }
 },
 "nbformat": 4,
 "nbformat_minor": 5
}
