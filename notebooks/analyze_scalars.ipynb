{
 "cells": [
  {
   "cell_type": "markdown",
   "id": "43204f3d",
   "metadata": {},
   "source": [
    "# Analyze RAGIS scalar timeseries"
   ]
  },
  {
   "cell_type": "code",
   "execution_count": 1,
   "id": "de938c1e",
   "metadata": {},
   "outputs": [],
   "source": [
    "from datetime import datetime\n",
    "import numpy as np\n",
    "import pylab as plt\n",
    "import xarray as xr\n",
    "from glob import glob\n",
    "import pandas as pd\n",
    "import os\n",
    "import re\n",
    "\n",
    "import seaborn as sns\n",
    "\n",
    "from pismragis.observations import load_imbie, load_mouginot\n",
    "from pismragis.analysis import resample_ensemble_by_data, sensitivity_analysis\n",
    "from pismragis.processing import convert_netcdf_to_dataframe, check_file, copy_file, ncfile2dataframe\n",
    "from pismragis.stats import run_stats"
   ]
  },
  {
   "cell_type": "code",
   "execution_count": 2,
   "id": "a4d3493a",
   "metadata": {},
   "outputs": [],
   "source": [
    "n_jobs = 2\n",
    "norm_year = 1992.0\n",
    "\n",
    "plt.rc('font', size=6)\n",
    "plt.style.use(\"tableau-colorblind10\")\n",
    "\n",
    "mass_varname = \"SLE (cm)\"\n",
    "mass_uncertainty_varname = \"SLE uncertainty (cm)\"\n",
    "discharge_varname = \"D (Gt/yr)\"\n",
    "discharge_uncertainty_varname = \"D uncertainty (Gt/yr)\"\n",
    "smb_varname = \"SMB (Gt/yr)\"\n",
    "smb_uncertainty_varname = \"SMB uncertainty (Gt/yr)\"\n",
    "\n",
    "\n",
    "bg_color = \"#216779\"\n",
    "bg_color = \"w\"\n",
    "sim_colors = plt.rcParams['axes.prop_cycle'].by_key()['color'][1::]\n",
    "imbie_color = plt.rcParams['axes.prop_cycle'].by_key()['color'][0]\n",
    "sim_colors = [\"#882255\", \"#AA4499\", \"#CC6677\", \"#DDCC77\", \"#88CCEE\", \"#44AA99\", \"#117733\", \"#332288\"]\n",
    "imbie_color = \"k\"\n",
    "imbie_color = \"#238b45\"\n",
    "mou_color = \"#6a51a3\"\n",
    "    \n",
    "kg2cmsle = 1 / 1e12 * 1.0 / 362.5 / 10.0\n",
    "gt2cmsle = 1 / 362.5 / 10.0\n",
    "sigma = 2"
   ]
  },
  {
   "cell_type": "markdown",
   "id": "d67ae0ff",
   "metadata": {},
   "source": [
    "## Load IMBIE"
   ]
  },
  {
   "cell_type": "code",
   "execution_count": 3,
   "id": "1408e106",
   "metadata": {},
   "outputs": [],
   "source": [
    "# imbie = load_imbie(url=\"../imbie_dataset_greenland_dynamics-2020_02_28.xlsx\")\n",
    "imbie = load_imbie()\n",
    "# Glacier and Ice cap bias 30 Gt/yr, add it back\n",
    "imbie[mass_varname] -= 30 * gt2cmsle\n",
    "imbie[smb_varname] += 30"
   ]
  },
  {
   "cell_type": "code",
   "execution_count": null,
   "id": "5714d19f",
   "metadata": {},
   "outputs": [],
   "source": []
  },
  {
   "cell_type": "code",
   "execution_count": 4,
   "id": "33c60b76",
   "metadata": {},
   "outputs": [],
   "source": [
    "mou = load_mouginot(url=\"/Users/andy/Google Drive/My Drive/Projects/RAGIS/data/pnas.1904242116.sd02.xlsx\")"
   ]
  },
  {
   "cell_type": "markdown",
   "id": "0c689537",
   "metadata": {},
   "source": [
    "## Make a list of all experiments"
   ]
  },
  {
   "cell_type": "code",
   "execution_count": null,
   "id": "e5777a58",
   "metadata": {},
   "outputs": [],
   "source": [
    "data_dir = \"/Users/andy/Google Drive/My Drive/Projects/RAGIS/data/pism/\"\n",
    "\n",
    "sims = {\n",
    "    \"no frontal melt\": os.path.join(data_dir, \"2023_08_ragis_tillwat/scalar/ts_gris_g900m_v2023_RAGIS_id_FM-0-VCM-0.45-S-0_1980-1-1_2020-1-1.nc\"),\n",
    "    \"with frontal melt\": os.path.join(data_dir, \"2023_08_ragis_tillwat/scalar/ts_gris_g900m_v2023_RAGIS_id_FM-1-VCM-0.45-S-0_1980-1-1_2020-1-1.nc\"),\n",
    "}\n",
    "\n",
    "# sims = {\n",
    "#     \"CTRL VCM-0.40\": os.path.join(data_dir, \"2023_08_ragis_tillwat/scalar/ts_gris_g900m_v2023_RAGIS_id_FM-0-VCM-0.40-S-0_1980-1-1_2020-1-1.nc\"),\n",
    "#     \"CTRL VCM-0.41\": os.path.join(data_dir, \"2023_08_ragis_tillwat/scalar/ts_gris_g900m_v2023_RAGIS_id_FM-0-VCM-0.41-S-0_1980-1-1_2020-1-1.nc\"),\n",
    "#     \"FM VCM-0.40\": os.path.join(data_dir, \"2023_08_ragis_tillwat/scalar/ts_gris_g900m_v2023_RAGIS_id_FM-1-VCM-0.40-S-0_1980-1-1_2020-1-1.nc\"),\n",
    "#     \"FM VCM-0.45\": os.path.join(data_dir, \"2023_08_ragis_tillwat/scalar/ts_gris_g900m_v2023_RAGIS_id_FM-1-VCM-0.45-S-0_1980-1-1_2020-1-1.nc\"),\n",
    "# }\n",
    "\n",
    "# sims = {\n",
    "#     \"RAGIS VCM-0.40\": os.path.join(data_dir, \"2023_08_ragis_tillwat/scalar/ts_gris_g900m_v2023_RAGIS_id_FM-0-VCM-0.40-S-0_1980-1-1_2020-1-1.nc\"),\n",
    "#     \"RAGIS VCM-0.41\": os.path.join(data_dir, \"2023_08_ragis_tillwat/scalar/ts_gris_g900m_v2023_RAGIS_id_FM-0-VCM-0.41-S-0_1980-1-1_2020-1-1.nc\"),\n",
    "#     \"RAGIS VCM-0.42\": os.path.join(data_dir, \"2023_08_ragis_tillwat/scalar/ts_gris_g900m_v2023_RAGIS_id_FM-0-VCM-0.42-S-0_1980-1-1_2020-1-1.nc\"),\n",
    "#     \"RAGIS VCM-0.45\": os.path.join(data_dir, \"2023_08_ragis_tillwat/scalar/ts_gris_g900m_v2023_RAGIS_id_FM-0-VCM-0.45-S-0_1980-1-1_2020-1-1.nc\"),\n",
    "#     \"GIMP VCM-0.41\": os.path.join(data_dir, \"2023_08_gimp_tillwat/scalar/ts_gris_g900m_v2023_GIMP_id_FM-0-VCM-0.41-S-0_1980-1-1_2020-1-1.nc\"),\n",
    "#     \"GIMP VCM-0.42\": os.path.join(data_dir, \"2023_08_gimp_tillwat/scalar/ts_gris_g900m_v2023_GIMP_id_FM-0-VCM-0.42-S-0_1980-1-1_2020-1-1.nc\"),\n",
    "#     \"GIMP VCM-0.45\": os.path.join(data_dir, \"2023_08_gimp_tillwat/scalar/ts_gris_g900m_v2023_GIMP_id_FM-0-VCM-0.45-S-0_1980-1-1_2020-1-1.nc\"),\n",
    "# }\n",
    "\n",
    "# sims = {\n",
    "#     \"RAGIS VCM-0.40\": os.path.join(data_dir, \"2023_08_ragis_tillwat/scalar/ts_gris_g900m_v2023_RAGIS_id_FM-0-VCM-0.40-S-0_1980-1-1_2020-1-1.nc\"),\n",
    "#     \"RAGIS VCM-0.405\": os.path.join(data_dir, \"2023_08_ragis_tillwat/scalar/ts_gris_g900m_v2023_RAGIS_id_FM-0-VCM-0.405-S-0_1980-1-1_2020-1-1.nc\"),\n",
    "#     \"RAGIS VCM-0.41\": os.path.join(data_dir, \"2023_08_ragis_tillwat/scalar/ts_gris_g900m_v2023_RAGIS_id_FM-0-VCM-0.41-S-0_1980-1-1_2020-1-1.nc\"),\n",
    "#     \"RAGIS VCM-0.42\": os.path.join(data_dir, \"2023_08_ragis_tillwat/scalar/ts_gris_g900m_v2023_RAGIS_id_FM-0-VCM-0.42-S-0_1980-1-1_2020-1-1.nc\"),\n",
    "#     \"RAGIS VCM-0.45\": os.path.join(data_dir, \"2023_08_ragis_tillwat/scalar/ts_gris_g900m_v2023_RAGIS_id_FM-0-VCM-0.45-S-0_1980-1-1_2020-1-1.nc\"),\n",
    "#     \"RAGIS VCM-0.75\": os.path.join(data_dir, \"2023_08_ragis_tillwat/scalar/ts_gris_g900m_v2023_RAGIS_id_FM-0-VCM-0.75-S-0_1980-1-1_2020-1-1.nc\"),\n",
    "# }\n",
    "\n",
    "sims = {\n",
    "    \"GIMP\": os.path.join(data_dir, \"2023_08_gimp_tillwat/scalar/ts_gris_g900m_v2023_GIMP_id_FM-1-VCM-0.45-S-0_1980-1-1_2020-1-1.nc\"),\n",
    "    \"RAGIS\": os.path.join(data_dir, \"2023_08_ragis_tillwat/scalar/ts_gris_g900m_v2023_RAGIS_id_FM-1-VCM-0.45-S-0_1980-1-1_2020-1-1.nc\"),\n",
    "}\n",
    "\n",
    "sims = {\n",
    "    \"GrIMP BAYES-MEDIAN\": \n",
    "    \"GrIMP CTRL\": \n",
    "}\n"
   ]
  },
  {
   "cell_type": "markdown",
   "id": "58a69c17",
   "metadata": {},
   "source": [
    "## Process experiments"
   ]
  },
  {
   "cell_type": "code",
   "execution_count": null,
   "id": "d0ed65d7",
   "metadata": {},
   "outputs": [],
   "source": [
    "\n",
    "\n",
    "exp_dfs = []\n",
    "for sim_key, sim_val in sims.items():\n",
    "    if check_file(sim_val):\n",
    "        df = ncfile2dataframe(sim_val, resample=\"yearly\")\n",
    "        exp_dfs.append(df)\n"
   ]
  },
  {
   "cell_type": "code",
   "execution_count": null,
   "id": "c05c0626",
   "metadata": {},
   "outputs": [],
   "source": [
    "plt.rc('font', size=6)\n",
    "plt.style.use(\"tableau-colorblind10\")\n",
    "\n",
    "fig, axs = plt.subplots(nrows=2, ncols=1, sharex=\"col\", figsize=(6.2, 3.8), height_ratios=[3, 2])\n",
    "fig.subplots_adjust(wspace=-0.5, hspace=-0.5)\n",
    "\n",
    "for obs, o, obs_color, obs_loc  in zip([imbie, mou], [\"IMBIE\", \"Mouginot (2019)\"], \n",
    "                                       [imbie_color, mou_color], [(0.1, 0.0), (0.3, 0.0)]):\n",
    "    obs_ci = axs[0].fill_between(obs[\"Date\"], \n",
    "                    (obs[mass_varname] + sigma * obs[mass_uncertainty_varname]), \n",
    "                    (obs[mass_varname] - sigma * obs[mass_uncertainty_varname]), \n",
    "                    ls=\"solid\", color=obs_color, lw=0, alpha=0.30, label=\"1-$\\sigma$\")\n",
    "    axs[1].fill_between(obs[\"Date\"], \n",
    "                    (obs[discharge_varname] + sigma * obs[discharge_uncertainty_varname]), \n",
    "                    (obs[discharge_varname] - sigma * obs[discharge_uncertainty_varname]), \n",
    "                    ls=\"solid\", color=obs_color, lw=0, alpha=0.30)\n",
    "    obs_line = axs[0].plot(obs[\"Date\"], obs[mass_varname], color=obs_color, lw=1, label=\"Mean\")\n",
    "    axs[1].plot(obs[\"Date\"], obs[discharge_varname], color=obs_color, lw=1)\n",
    "\n",
    "    legend_obs = axs[0].legend(handles=[obs_line[0], obs_ci], loc=\"lower center\", bbox_to_anchor=obs_loc, \n",
    "                               title=f\"Observed ({o})\")\n",
    "    legend_obs.get_frame().set_linewidth(0.0)\n",
    "    legend_obs.get_frame().set_alpha(0.0)\n",
    "    axs[0].add_artist(legend_obs)\n",
    "\n",
    "\n",
    "sim_handles = []\n",
    "sim_labels = []\n",
    "for k, exp in enumerate(exp_dfs):\n",
    "    sim_label = list(sims.keys())[k]\n",
    "    sim_handle = axs[0].plot(exp[\"time\"], exp[mass_varname], color=sim_colors[k], alpha=1.0, lw=0.75)\n",
    "    axs[1].plot(exp[\"time\"], exp[discharge_varname], color=sim_colors[k], alpha=1.0, lw=0.75)\n",
    "    sim_handles.append(sim_handle[0])\n",
    "    sim_labels.append(sim_label)\n",
    "\n",
    "\n",
    "fig.set_facecolor(bg_color)\n",
    "for ax in axs:\n",
    "    ax.set_facecolor(bg_color)\n",
    "fig.set_facecolor(bg_color)\n",
    "\n",
    "axs[0].axhline(0, color=\"k\", ls=\"dotted\", lw=1.0)\n",
    "axs[0].set_xlabel(\"\")\n",
    "axs[0].set_ylabel(\"Contribution to sea-level\\nsince 1992 (cm SLE)\")\n",
    "axs[-1].set_xlabel(\"Year\")\n",
    "axs[1].set_ylabel(\"Solid Discharge (Gt/yr)\")\n",
    "axs[0].set_xlim(pd.to_datetime(\"1980-1-1\"), pd.to_datetime(\"2020-1-1\"))\n",
    "axs[0].set_ylim(-1.5, 1.5)\n",
    "axs[1].set_ylim(-1200, 0)\n",
    "\n",
    "\n",
    "legend_sim = axs[0].legend(handles=sim_handles, labels=sim_labels, loc=\"lower center\", bbox_to_anchor=(0.7, 0.0), \n",
    "                           ncols=2, title=\"Simulated\")\n",
    "legend_sim.get_frame().set_linewidth(0.0)\n",
    "legend_sim.get_frame().set_alpha(0.0)\n",
    "axs[0].add_artist(legend_sim)\n",
    "\n",
    "fig.tight_layout()\n",
    "fig.savefig(\"ragis-comp_scalar.pdf\")\n",
    "!open ragis-comp_scalar.pdf"
   ]
  },
  {
   "cell_type": "code",
   "execution_count": null,
   "id": "fa8881bf",
   "metadata": {},
   "outputs": [],
   "source": [
    ".00314 * 365"
   ]
  },
  {
   "cell_type": "code",
   "execution_count": 6,
   "id": "d512825d",
   "metadata": {},
   "outputs": [
    {
     "data": {
      "text/plain": [
       "138.88888888888889"
      ]
     },
     "execution_count": 6,
     "metadata": {},
     "output_type": "execute_result"
    }
   ],
   "source": [
    "0.2e12 / 1000 / 1200**2"
   ]
  },
  {
   "cell_type": "code",
   "execution_count": 7,
   "id": "44dc6bbe",
   "metadata": {},
   "outputs": [
    {
     "data": {
      "text/plain": [
       "-720500"
      ]
     },
     "execution_count": 7,
     "metadata": {},
     "output_type": "execute_result"
    }
   ],
   "source": [
    "-720000 - 500"
   ]
  },
  {
   "cell_type": "code",
   "execution_count": null,
   "id": "d5f412c5",
   "metadata": {},
   "outputs": [],
   "source": []
  }
 ],
 "metadata": {
  "kernelspec": {
   "display_name": "Python 3 (ipykernel)",
   "language": "python",
   "name": "python3"
  },
  "language_info": {
   "codemirror_mode": {
    "name": "ipython",
    "version": 3
   },
   "file_extension": ".py",
   "mimetype": "text/x-python",
   "name": "python",
   "nbconvert_exporter": "python",
   "pygments_lexer": "ipython3",
   "version": "3.11.5"
  }
 },
 "nbformat": 4,
 "nbformat_minor": 5
}
