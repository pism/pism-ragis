{
 "cells": [
  {
   "cell_type": "markdown",
   "id": "6ba2c915-a0cf-4672-ad58-839841728c22",
   "metadata": {},
   "source": [
    "# Create a retreat mask from basins and Calfin"
   ]
  },
  {
   "cell_type": "code",
   "execution_count": null,
   "id": "5bdf99df-94cc-40b4-af2a-51fcefb6aca8",
   "metadata": {},
   "outputs": [],
   "source": [
    "import geopandas as gp\n",
    "gp.options.io_engine = \"pyogrio\"\n",
    "import pandas as pd\n",
    "from tqdm.auto import tqdm\n",
    "import xarray as xr\n",
    "from geocube.api.core import make_geocube\n",
    "import numpy as np\n",
    "import rioxarray as rxr\n",
    "from joblib import Parallel, delayed\n",
    "from pathlib import Path\n",
    "from typing import Union"
   ]
  },
  {
   "cell_type": "markdown",
   "id": "32de1a5a-25a9-4b69-b4c9-fd9ea0ac5cbb",
   "metadata": {},
   "source": [
    "## Set horizontal grid resolution"
   ]
  },
  {
   "cell_type": "code",
   "execution_count": null,
   "id": "ea8a8d70-714e-4314-adfa-1c91785367bf",
   "metadata": {},
   "outputs": [],
   "source": [
    "resolution = 450"
   ]
  },
  {
   "cell_type": "markdown",
   "id": "616bd961-f9a6-4a73-beda-ad000033da2a",
   "metadata": {},
   "source": [
    "## Set path to data directory"
   ]
  },
  {
   "cell_type": "code",
   "execution_count": null,
   "id": "7c6f83ad-cce5-405d-9e84-6236760a31fc",
   "metadata": {},
   "outputs": [],
   "source": [
    "data_dir = Path(\"/Users/andy/Google Drive/My Drive/\")"
   ]
  },
  {
   "cell_type": "markdown",
   "id": "50f22573-fbad-4219-849b-1871ff35fd08",
   "metadata": {},
   "source": [
    "## Read IMBIE and Calfin using geopandas"
   ]
  },
  {
   "cell_type": "code",
   "execution_count": null,
   "id": "0c9894a4-900f-466f-b262-b5bc8cd26d67",
   "metadata": {},
   "outputs": [],
   "source": [
    "imbie = gp.read_file(data_dir / \"data/gris-outline/gris-outline-imbie-1980.shp\").to_crs(\"EPSG:3413\")\n",
    "calfin = gp.read_file(data_dir / \"data/Calfin/level-1_shapefiles-greenland-termini-closed/termini_1972-2019_Greenland_closed_v1.0.shp\")"
   ]
  },
  {
   "cell_type": "code",
   "execution_count": null,
   "id": "1c29baae-a22f-4ec9-a307-8c3e3f393a4c",
   "metadata": {},
   "outputs": [],
   "source": [
    "geom_valid = calfin.geometry.make_valid()\n",
    "calfin.geometry = geom_valid"
   ]
  },
  {
   "cell_type": "code",
   "execution_count": null,
   "id": "9eb183b5-29c5-4f08-bd91-9a3a09c1a0b6",
   "metadata": {},
   "outputs": [],
   "source": [
    "calfin_dissolved = calfin.dissolve()"
   ]
  },
  {
   "cell_type": "code",
   "execution_count": null,
   "id": "4bfd8d77-4cc8-4e38-bd74-244b10ee1822",
   "metadata": {},
   "outputs": [],
   "source": [
    "calfin_ds = calfin.set_index(\"QDate\").groupby(by=pd.Grouper(freq='ME'))\n",
    "nt = len(calfin_ds)"
   ]
  },
  {
   "cell_type": "code",
   "execution_count": null,
   "id": "ce6d060e-c9de-44bf-b660-cacc01e70656",
   "metadata": {},
   "outputs": [],
   "source": [
    "imbie_union = imbie.union(calfin_dissolved)"
   ]
  },
  {
   "cell_type": "code",
   "execution_count": null,
   "id": "d8afb4c3-8599-455f-bf7f-87d410d6f960",
   "metadata": {},
   "outputs": [],
   "source": [
    "x_min = -653000\n",
    "x_max = 879700\n",
    "y_min = -632750\n",
    "y_max = -3384350\n",
    "bbox = [x_min, y_min, x_max, y_max]\n",
    "geom = {\n",
    "    \"type\": \"Polygon\",\n",
    "    \"crs\": {\"properties\": {\"name\": \"EPSG:3413\"}},\n",
    "    \"bbox\": bbox,\n",
    "    \"coordinates\": [[\n",
    "        (x_min, y_min), \n",
    "        (x_max, y_min), \n",
    "        (x_max, y_max), \n",
    "        (x_min, y_max),\n",
    "        (x_min, y_min)  # Close the loop by repeating the first point\n",
    "    ]]\n",
    "}"
   ]
  },
  {
   "cell_type": "code",
   "execution_count": null,
   "id": "7d237f74-0c4e-42d1-848d-07c7ec5c0432",
   "metadata": {},
   "outputs": [],
   "source": [
    "def create_ds(ds1, ds2, date, resolution: float = 450, crs: str = \"EPSG:3413\", like: Union[None, xr.Dataset] = None):\n",
    "    import cf_xarray\n",
    "    if len(ds1) > 0:\n",
    "        diff = ds2.difference(ds1.dissolve().buffer(5))\n",
    "        n = len(diff)\n",
    "        diff_df = {\"land_ice_area_fraction_retreat\": np.ones(n)}\n",
    "        diff_gp = gp.GeoDataFrame(data=diff_df, geometry=diff, crs=crs)\n",
    "        ds = make_geocube(vector_data=diff_gp, geom=geom, resolution=(resolution, resolution))\n",
    "        ds.land_ice_area_fraction_retreat[\"units\"] = \"1\"\n",
    "        ds = ds.expand_dims(time=[date])\n",
    "        fn = Path(f\"frontretreat_g{resolution}m_{date.year}-{date.month}.nc\", encoding={\"zlib\": True, \"complevel\": 2})\n",
    "        ds.to_netcdf(fn)\n",
    "        del ds\n",
    "        return fn"
   ]
  },
  {
   "cell_type": "code",
   "execution_count": null,
   "id": "74d4e6ed-0166-4432-9130-71b10bf66e54",
   "metadata": {},
   "outputs": [],
   "source": [
    "n_jobs = 8\n",
    "result = Parallel(n_jobs=n_jobs)(\n",
    "    delayed(create_ds)(ds,\n",
    "        imbie_union, date, resolution=resolution)\n",
    "    for date, ds in tqdm(calfin_ds))"
   ]
  },
  {
   "cell_type": "markdown",
   "id": "8142262a-e146-4341-800f-ae3c534cb198",
   "metadata": {},
   "source": [
    "## Merge files and add time bounds\n",
    "\n",
    "This could probably be done with *xarray* but setting the time axis and time_bounds correctly appears hard."
   ]
  },
  {
   "cell_type": "code",
   "execution_count": null,
   "id": "1d1142e3-a7ba-4c86-a9bd-19302b5250f9",
   "metadata": {},
   "outputs": [],
   "source": [
    "fn = Path(f\"pism_g{resolution}m_frontretreat_calfin_1972_2019.nc\")\n",
    "!cdo -f nc4 -z zip_2 settbounds,1month -setmisstoc,0 -mergetime frontretreat_g450m_* $fn"
   ]
  },
  {
   "cell_type": "code",
   "execution_count": null,
   "id": "22bc0d65-da77-473f-89b5-e8a13544c263",
   "metadata": {},
   "outputs": [],
   "source": []
  }
 ],
 "metadata": {
  "kernelspec": {
   "display_name": "Python 3 (ipykernel)",
   "language": "python",
   "name": "python3"
  },
  "language_info": {
   "codemirror_mode": {
    "name": "ipython",
    "version": 3
   },
   "file_extension": ".py",
   "mimetype": "text/x-python",
   "name": "python",
   "nbconvert_exporter": "python",
   "pygments_lexer": "ipython3",
   "version": "3.11.6"
  }
 },
 "nbformat": 4,
 "nbformat_minor": 5
}
