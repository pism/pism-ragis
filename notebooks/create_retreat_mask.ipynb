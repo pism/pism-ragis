{
 "cells": [
  {
   "cell_type": "markdown",
   "id": "6ba2c915-a0cf-4672-ad58-839841728c22",
   "metadata": {},
   "source": [
    "# Create a retreat mask from basins and Calfin"
   ]
  },
  {
   "cell_type": "code",
   "execution_count": 1,
   "id": "5bdf99df-94cc-40b4-af2a-51fcefb6aca8",
   "metadata": {},
   "outputs": [],
   "source": [
    "import geopandas as gp\n",
    "gp.options.io_engine = \"pyogrio\"\n",
    "import pandas as pd\n",
    "from tqdm.auto import tqdm\n",
    "import xarray as xr\n",
    "from geocube.api.core import make_geocube\n",
    "import numpy as np\n",
    "import rioxarray as rxr\n",
    "from joblib import Parallel, delayed\n",
    "from pathlib import Path\n",
    "from typing import Union"
   ]
  },
  {
   "cell_type": "code",
   "execution_count": 2,
   "id": "0c9894a4-900f-466f-b262-b5bc8cd26d67",
   "metadata": {},
   "outputs": [
    {
     "name": "stderr",
     "output_type": "stream",
     "text": [
      "/Users/andy/miniforge3/envs/pism-ragis/lib/python3.11/site-packages/pyogrio/geopandas.py:49: FutureWarning: errors='ignore' is deprecated and will raise in a future version. Use to_datetime without passing `errors` and catch exceptions explicitly instead\n",
      "  res = pd.to_datetime(ser, **datetime_kwargs)\n"
     ]
    }
   ],
   "source": [
    "imbie = gp.read_file(\"/Users/andy/Google Drive/My Drive/data/gris-outline/gris-outline-imbie-1980.shp\").to_crs(\"EPSG:3413\")\n",
    "calfin = gp.read_file(\"/Users/andy/Google Drive/My Drive/data/Calfin/level-1_shapefiles-greenland-termini-closed/termini_1980-2019_Greenland_closed_valid_v1.gpkg\")"
   ]
  },
  {
   "cell_type": "code",
   "execution_count": 3,
   "id": "22770d39-eb3e-4f21-a5eb-ad1c82fbc624",
   "metadata": {},
   "outputs": [],
   "source": [
    "bm = rxr.open_rasterio(\"/Users/andy/Google Drive/My Drive/data/MCdataset/BedMachineGreenland-v5.nc\")"
   ]
  },
  {
   "cell_type": "code",
   "execution_count": 4,
   "id": "9eb183b5-29c5-4f08-bd91-9a3a09c1a0b6",
   "metadata": {},
   "outputs": [],
   "source": [
    "calfin_dissolved = calfin.dissolve()"
   ]
  },
  {
   "cell_type": "code",
   "execution_count": 5,
   "id": "ce6d060e-c9de-44bf-b660-cacc01e70656",
   "metadata": {},
   "outputs": [],
   "source": [
    "imbie_union = imbie.union(calfin_dissolved)"
   ]
  },
  {
   "cell_type": "code",
   "execution_count": 6,
   "id": "d8afb4c3-8599-455f-bf7f-87d410d6f960",
   "metadata": {},
   "outputs": [],
   "source": [
    "x_min = -653000\n",
    "x_max = 879700\n",
    "y_min = -632750\n",
    "y_max = -3384350\n",
    "bbox = [x_min, y_min, x_max, y_max]\n",
    "geom = {\"type\": \"Polygon\", \"crs\": {\"properties\": {\"name\": \"EPSG:3413\"}}, \"bbox\": bbox, \n",
    "        \"coordinates\": [[x_min, y_min], [x_max, y_min], [x_max, y_max], [x_min, y_max]]}"
   ]
  },
  {
   "cell_type": "code",
   "execution_count": 19,
   "id": "7d237f74-0c4e-42d1-848d-07c7ec5c0432",
   "metadata": {},
   "outputs": [],
   "source": [
    "def create_ds(ds1, ds2, mon, crs: str = \"EPSG:3413\", like: Union[None, xr.Dataset] = None):\n",
    "    if len(ds1) > 0:\n",
    "        diff = ds2.difference(ds1.dissolve().buffer(5))\n",
    "        n = len(diff)\n",
    "        diff_df = {\"land_ice_area_fraction_retreat\": np.ones(n)}\n",
    "        diff_gp = gp.GeoDataFrame(data=diff_df, geometry=diff, crs=crs)\n",
    "        ds = make_geocube(vector_data=diff_gp, geom=geom, like=bm)\n",
    "        ds = ds.expand_dims(time=[mon])\n",
    "        fn = Path(f\"frontretreat_{mon.year}-{mon.month}.nc\", encoding={\"zlib\": True, \"complevel\": 2})\n",
    "        print(ds)\n",
    "        ds.to_netcdf(fn)\n",
    "        del ds\n",
    "        return fn"
   ]
  },
  {
   "cell_type": "code",
   "execution_count": 8,
   "id": "4bfd8d77-4cc8-4e38-bd74-244b10ee1822",
   "metadata": {},
   "outputs": [],
   "source": [
    "calfin_ds = calfin.set_index(\"QDate\").groupby(by=pd.Grouper(freq='ME'))\n",
    "nt = len(calfin_ds)\n"
   ]
  },
  {
   "cell_type": "code",
   "execution_count": null,
   "id": "74d4e6ed-0166-4432-9130-71b10bf66e54",
   "metadata": {},
   "outputs": [
    {
     "data": {
      "application/vnd.jupyter.widget-view+json": {
       "model_id": "7f7ff34af6104626a2f4b6632a01f4fb",
       "version_major": 2,
       "version_minor": 0
      },
      "text/plain": [
       "  0%|          | 0/466 [00:00<?, ?it/s]"
      ]
     },
     "metadata": {},
     "output_type": "display_data"
    }
   ],
   "source": [
    "n_jobs = 6\n",
    "result = Parallel(n_jobs=n_jobs)(\n",
    "    delayed(create_ds)(ds,\n",
    "        imbie_union, mon, like=bm)\n",
    "    for mon, ds in tqdm(calfin_ds))"
   ]
  },
  {
   "cell_type": "code",
   "execution_count": null,
   "id": "1d1142e3-a7ba-4c86-a9bd-19302b5250f9",
   "metadata": {},
   "outputs": [],
   "source": [
    "ds = xr.open_mfdataset(result)"
   ]
  }
 ],
 "metadata": {
  "kernelspec": {
   "display_name": "Python 3 (ipykernel)",
   "language": "python",
   "name": "python3"
  },
  "language_info": {
   "codemirror_mode": {
    "name": "ipython",
    "version": 3
   },
   "file_extension": ".py",
   "mimetype": "text/x-python",
   "name": "python",
   "nbconvert_exporter": "python",
   "pygments_lexer": "ipython3",
   "version": "3.11.6"
  }
 },
 "nbformat": 4,
 "nbformat_minor": 5
}
