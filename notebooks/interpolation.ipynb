{
 "cells": [
  {
   "cell_type": "markdown",
   "id": "7865f8dd",
   "metadata": {},
   "source": [
    "# Compute trajectories for Greenland"
   ]
  },
  {
   "cell_type": "code",
   "execution_count": null,
   "id": "a1a86d55",
   "metadata": {},
   "outputs": [],
   "source": [
    "import numpy as np\n",
    "import pylab as plt\n",
    "import xarray as xr\n",
    "from joblib import Parallel, delayed\n",
    "import geopandas as gp\n",
    "from pathlib import Path\n",
    "from pism_ragis.trajectories import compute_trajectory, compute_perturbation, get_perturbed_velocities\n",
    "from pism_ragis.processing import tqdm_joblib\n",
    "import pandas as pd\n",
    "from pyDOE import lhs\n",
    "from scipy.stats.distributions import uniform\n",
    "from tqdm.auto import tqdm"
   ]
  },
  {
   "cell_type": "code",
   "execution_count": null,
   "id": "8eb74282",
   "metadata": {},
   "outputs": [],
   "source": [
    "data_url = Path(\"~/Google Drive/My Drive/data/ITS_LIVE/GRE_G0240_0000.nc\")\n",
    "ogr_url = Path(\"/Users/andy/Google Drive/My Drive/data/GreenlandFluxGatesAschwanden/greenland-flux-gates-jibneighbors.shp\")"
   ]
  },
  {
   "cell_type": "code",
   "execution_count": null,
   "id": "ab90d538",
   "metadata": {},
   "outputs": [],
   "source": [
    "n_draw_samples = 10\n",
    "unif_sample = lhs(2, n_draw_samples)"
   ]
  },
  {
   "cell_type": "code",
   "execution_count": null,
   "id": "41c5619a",
   "metadata": {},
   "outputs": [],
   "source": [
    "with tqdm_joblib(tqdm(desc=\"Processing perturbations\", total=n_draw_samples, position=0, leave=True)) as progress_bar:\n",
    "    all_perturb_glaciers = Parallel(n_jobs=10)(\n",
    "        delayed(compute_perturbation)(data_url, ogr_url,\n",
    "                                       perturbation=perturb, sample=unif_sample[perturb, :], \n",
    "                                       total_time=1_000, dt=1, reverse=True)\n",
    "                for perturb in range(n_draw_samples))\n",
    "    del progress_bar\n",
    "\n",
    "all_perturb_glaciers = pd.concat(all_perturb_glaciers).reset_index(drop=True)"
   ]
  },
  {
   "cell_type": "code",
   "execution_count": null,
   "id": "2e2c577e",
   "metadata": {},
   "outputs": [],
   "source": [
    "\n"
   ]
  },
  {
   "cell_type": "code",
   "execution_count": null,
   "id": "8028c9b5",
   "metadata": {},
   "outputs": [],
   "source": [
    "from tqdm.auto import trange"
   ]
  },
  {
   "cell_type": "code",
   "execution_count": null,
   "id": "d79a6de2",
   "metadata": {},
   "outputs": [],
   "source": []
  }
 ],
 "metadata": {
  "kernelspec": {
   "display_name": "Python 3 (ipykernel)",
   "language": "python",
   "name": "python3"
  },
  "language_info": {
   "codemirror_mode": {
    "name": "ipython",
    "version": 3
   },
   "file_extension": ".py",
   "mimetype": "text/x-python",
   "name": "python",
   "nbconvert_exporter": "python",
   "pygments_lexer": "ipython3"
  }
 },
 "nbformat": 4,
 "nbformat_minor": 5
}
