{
 "cells": [
  {
   "cell_type": "code",
   "execution_count": 1,
   "id": "a1a86d55",
   "metadata": {},
   "outputs": [],
   "source": [
    "import numpy as np\n",
    "import pylab as plt\n",
    "import xarray as xr\n",
    "from pismragis.trajectories import compute_trajectory, compute_perturbation\n",
    "from joblib import Parallel, delayed\n",
    "import geopandas as gp\n",
    "from pathlib import Path\n",
    "from pismragis.processing import tqdm_joblib\n",
    "import pandas as pd\n",
    "from pyDOE import lhs\n",
    "from scipy.stats.distributions import uniform\n",
    "from tqdm.auto import tqdm"
   ]
  },
  {
   "cell_type": "code",
   "execution_count": 2,
   "id": "8eb74282",
   "metadata": {},
   "outputs": [],
   "source": [
    "ds = xr.open_dataset(\"~/Google Drive/My Drive/data/ITS_LIVE/GRE_G0240_0000.nc\")"
   ]
  },
  {
   "cell_type": "code",
   "execution_count": 3,
   "id": "c055319a",
   "metadata": {},
   "outputs": [],
   "source": [
    "url = Path(\"/Users/andy/Google Drive/My Drive/data/GreenlandFluxGatesAschwanden/greenland-flux-gates-jibneighbors.shp\")"
   ]
  },
  {
   "cell_type": "code",
   "execution_count": 4,
   "id": "ecf859ca",
   "metadata": {},
   "outputs": [],
   "source": [
    "sigma = 1\n",
    "VX = np.squeeze(ds[\"vx\"].to_numpy())\n",
    "VY = np.squeeze(ds[\"vy\"].to_numpy())\n",
    "VX_e = np.squeeze(ds[\"vx_err\"].to_numpy())\n",
    "VY_e = np.squeeze(ds[\"vy_err\"].to_numpy())\n",
    "\n",
    "x = ds[\"x\"].to_numpy()\n",
    "y = ds[\"y\"].to_numpy()\n",
    "nx = len(x)\n",
    "ny = len(y)\n",
    "\n",
    "VX_min, VX_max = VX - sigma * VX_e, VX + sigma * VX_e\n",
    "VY_min, VY_max = VY - sigma * VY_e, VY + sigma * VY_e"
   ]
  },
  {
   "cell_type": "code",
   "execution_count": 5,
   "id": "ab90d538",
   "metadata": {},
   "outputs": [
    {
     "data": {
      "application/vnd.jupyter.widget-view+json": {
       "model_id": "1733512d0d644008ae61873c0408a497",
       "version_major": 2,
       "version_minor": 0
      },
      "text/plain": [
       "Processing perturbations:   0%|          | 0/20 [00:00<?, ?it/s]"
      ]
     },
     "metadata": {},
     "output_type": "display_data"
    },
    {
     "name": "stderr",
     "output_type": "stream",
     "text": [
      "                                                                              \r"
     ]
    }
   ],
   "source": [
    "n_draw_samples = 20\n",
    "unif_sample = lhs(2, n_draw_samples)\n",
    "\n",
    "with tqdm_joblib(tqdm(desc=\"Processing perturbations\", total=n_draw_samples, position=0)) as progress_bar:\n",
    "    all_perturb_glaciers = Parallel(n_jobs=10)(\n",
    "        delayed(compute_perturbation)(url, VX_min, VX_max, VY_min, VY_max, x, y, \n",
    "                                       perturbation=perturb, sample=unif_sample[perturb, :], \n",
    "                                       total_time=1_000, dt=1, reverse=True)\n",
    "                for perturb in range(n_draw_samples))\n",
    "    del progress_bar\n",
    "\n",
    "all_perturb_glaciers = pd.concat(all_perturb_glaciers).reset_index(drop=True)\n",
    "# all_perturb_glaciers.to_file(\"all_perturb_traj.gpkg\")"
   ]
  }
 ],
 "metadata": {
  "kernelspec": {
   "display_name": "Python 3 (ipykernel)",
   "language": "python",
   "name": "python3"
  },
  "language_info": {
   "codemirror_mode": {
    "name": "ipython",
    "version": 3
   },
   "file_extension": ".py",
   "mimetype": "text/x-python",
   "name": "python",
   "nbconvert_exporter": "python",
   "pygments_lexer": "ipython3",
   "version": "3.11.6"
  }
 },
 "nbformat": 4,
 "nbformat_minor": 5
}
