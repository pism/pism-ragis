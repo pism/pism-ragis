{
 "cells": [
  {
   "cell_type": "markdown",
   "id": "fee54d31",
   "metadata": {},
   "source": [
    "# Test the pathline code"
   ]
  },
  {
   "cell_type": "code",
   "execution_count": 1,
   "id": "a1a86d55",
   "metadata": {},
   "outputs": [],
   "source": [
    "import numpy as np\n",
    "import pylab as plt\n",
    "import xarray as xr\n",
    "from pismragis.trajectories import compute_trajectory, trajectories_to_geopandas\n",
    "from shapely import Point\n",
    "from osgeo import ogr, osr\n",
    "from joblib import Parallel, delayed\n",
    "import geopandas as gp\n",
    "from typing import Union\n",
    "from pismragis.processing import tqdm_joblib\n",
    "from tqdm.auto import tqdm\n",
    "import pandas as pd"
   ]
  },
  {
   "cell_type": "code",
   "execution_count": 2,
   "id": "8eb74282",
   "metadata": {},
   "outputs": [],
   "source": [
    "def create_circular() -> xr.Dataset:\n",
    "    \"\"\"\n",
    "    Create xr.Dataset with radial velocity field\n",
    "    \"\"\"\n",
    "    time = pd.date_range(\"2000-01-01\", periods=1)\n",
    "    reference_time = pd.Timestamp(\"2000-01-01\")\n",
    "\n",
    "    nx = 201\n",
    "    ny = 401\n",
    "    x = np.linspace(-100e3, 100e3, nx)\n",
    "    y = np.linspace(-100e3, 100e3, ny)\n",
    "    X, Y = np.meshgrid(x, y)\n",
    "\n",
    "    # Directional vectors\n",
    "    vx = -Y / np.sqrt(X**2 + Y**2) * 250\n",
    "    vy = X / np.sqrt(X**2 + Y**2) * 250\n",
    "    v = np.sqrt(vx**2 + vy**2)\n",
    "\n",
    "    vx = vx.reshape(1, ny, nx)\n",
    "    vy = vy.reshape(1, ny, nx)\n",
    "    v = v.reshape(1, ny, nx)\n",
    "\n",
    "    v_err = v / 10\n",
    "    vx_err = np.abs(vx / 20)\n",
    "    vy_err = np.abs(vy / 20)\n",
    "\n",
    "    coords = {\n",
    "        \"x\": (\n",
    "            [\"x\"],\n",
    "            x,\n",
    "            {\n",
    "                \"units\": \"m\",\n",
    "                \"axis\": \"X\",\n",
    "                \"standard_name\": \"projection_x_coordinate\",\n",
    "                \"long_name\": \"x-coordinate in projected coordinate system\",\n",
    "            },\n",
    "        ),\n",
    "        \"y\": (\n",
    "            [\"y\"],\n",
    "            y,\n",
    "            {\n",
    "                \"units\": \"m\",\n",
    "                \"axis\": \"Y\",\n",
    "                \"standard_name\": \"projection_y_coordinate\",\n",
    "                \"long_name\": \"y-coordinate in projected coordinate system\",\n",
    "            },\n",
    "        ),\n",
    "        \"time\": ([\"time\"], time, {}),\n",
    "    }\n",
    "\n",
    "    ds = xr.Dataset(\n",
    "        {\n",
    "            \"vx\": xr.DataArray(\n",
    "                data=vx,\n",
    "                dims=[\"time\", \"y\", \"x\"],\n",
    "                coords=coords,\n",
    "                attrs={\"standard_name\": \"velocity in x-direction\", \"units\": \"m/yr\"},\n",
    "            ),\n",
    "            \"vy\": xr.DataArray(\n",
    "                data=vy,\n",
    "                dims=[\"time\", \"y\", \"x\"],\n",
    "                coords=coords,\n",
    "                attrs={\"standard_name\": \"velocity in y-direction\", \"units\": \"m/yr\"},\n",
    "            ),\n",
    "            \"v\": xr.DataArray(\n",
    "                data=v,\n",
    "                dims=[\"time\", \"y\", \"x\"],\n",
    "                coords=coords,\n",
    "                attrs={\n",
    "                    \"standard_name\": \"magnitude\",\n",
    "                    \"units\": \"m/yr\",\n",
    "                    \"grid_mapping\": \"polar_stereographic\",\n",
    "                },\n",
    "            ),\n",
    "            \"vx_err\": xr.DataArray(\n",
    "                data=vx_err,\n",
    "                dims=[\"time\", \"y\", \"x\"],\n",
    "                coords=coords,\n",
    "                attrs={\"standard_name\": \"velocity in x-direction\", \"units\": \"m/yr\"},\n",
    "            ),\n",
    "            \"vy_err\": xr.DataArray(\n",
    "                data=vy_err,\n",
    "                dims=[\"time\", \"y\", \"x\"],\n",
    "                coords=coords,\n",
    "                attrs={\"standard_name\": \"velocity in y-direction\", \"units\": \"m/yr\"},\n",
    "            ),\n",
    "            \"v_err\": xr.DataArray(\n",
    "                data=v_err,\n",
    "                dims=[\"time\", \"y\", \"x\"],\n",
    "                coords=coords,\n",
    "                attrs={\n",
    "                    \"standard_name\": \"magnitude\",\n",
    "                    \"units\": \"m/yr\",\n",
    "                    \"grid_mapping\": \"polar_stereographic\",\n",
    "                },\n",
    "            ),\n",
    "        },\n",
    "        attrs={\"Conventions\": \"CF-1.7\"},\n",
    "    )\n",
    "    ds[\"Polar_Stereographic\"] = int()\n",
    "    ds.Polar_Stereographic.attrs[\"grid_mapping_name\"] = \"polar_stereographic\"\n",
    "    ds.Polar_Stereographic.attrs[\"false_easting\"] = 0.0\n",
    "    ds.Polar_Stereographic.attrs[\"false_northing\"] = 0.0\n",
    "    ds.Polar_Stereographic.attrs[\"latitude_of_projection_origin\"] = 90.0\n",
    "    ds.Polar_Stereographic.attrs[\"scale_factor_at_projection_origin\"] = 1.0\n",
    "    ds.Polar_Stereographic.attrs[\"standard_parallel\"] = 70.0\n",
    "    ds.Polar_Stereographic.attrs[\"straight_vertical_longitude_from_pole\"] = -45\n",
    "    ds.Polar_Stereographic.attrs[\"proj_params\"] = \"epsg:3413\"\n",
    "    \n",
    "    return ds\n"
   ]
  },
  {
   "cell_type": "code",
   "execution_count": 3,
   "id": "4c596a3e",
   "metadata": {},
   "outputs": [
    {
     "name": "stderr",
     "output_type": "stream",
     "text": [
      "/var/folders/pb/9bmdq04j7h9126gzz9zd3b_80000gn/T/ipykernel_4375/3240849145.py:15: RuntimeWarning: invalid value encountered in divide\n",
      "  vx = -Y / np.sqrt(X**2 + Y**2) * 250\n",
      "/var/folders/pb/9bmdq04j7h9126gzz9zd3b_80000gn/T/ipykernel_4375/3240849145.py:16: RuntimeWarning: invalid value encountered in divide\n",
      "  vy = X / np.sqrt(X**2 + Y**2) * 250\n"
     ]
    }
   ],
   "source": [
    "ds = create_circular()\n",
    "Vx = np.squeeze(ds[\"vx\"].to_numpy())\n",
    "Vy = np.squeeze(ds[\"vy\"].to_numpy())\n",
    "V = np.squeeze(ds[\"v\"].to_numpy())\n",
    "x = ds[\"x\"].to_numpy()\n",
    "y = ds[\"y\"].to_numpy()\n",
    "nx = len(x)\n",
    "ny = len(y)"
   ]
  },
  {
   "cell_type": "code",
   "execution_count": 4,
   "id": "540c429b",
   "metadata": {},
   "outputs": [
    {
     "data": {
      "application/vnd.jupyter.widget-view+json": {
       "model_id": "830bcc3fa3c0439ab588a637b7676bde",
       "version_major": 2,
       "version_minor": 0
      },
      "text/plain": [
       "  0%|          | 0/4 [00:00<?, ?it/s]"
      ]
     },
     "metadata": {},
     "output_type": "display_data"
    },
    {
     "ename": "NameError",
     "evalue": "name 'point_velocity' is not defined",
     "output_type": "error",
     "traceback": [
      "\u001b[0;31m---------------------------------------------------------------------------\u001b[0m",
      "\u001b[0;31mNameError\u001b[0m                                 Traceback (most recent call last)",
      "Cell \u001b[0;32mIn[4], line 13\u001b[0m\n\u001b[1;32m     11\u001b[0m r \u001b[38;5;241m=\u001b[39m p\u001b[38;5;241m.\u001b[39mdistance(Point(\u001b[38;5;241m0\u001b[39m, \u001b[38;5;241m0\u001b[39m))\n\u001b[1;32m     12\u001b[0m circ \u001b[38;5;241m=\u001b[39m \u001b[38;5;241m2\u001b[39m \u001b[38;5;241m*\u001b[39m r \u001b[38;5;241m*\u001b[39m np\u001b[38;5;241m.\u001b[39mpi\n\u001b[0;32m---> 13\u001b[0m vx, vy \u001b[38;5;241m=\u001b[39m \u001b[43mpoint_velocity\u001b[49m(Vx, Vy, x, y, p)\n\u001b[1;32m     14\u001b[0m v \u001b[38;5;241m=\u001b[39m np\u001b[38;5;241m.\u001b[39msqrt(vx\u001b[38;5;241m*\u001b[39m\u001b[38;5;241m*\u001b[39m\u001b[38;5;241m2\u001b[39m \u001b[38;5;241m+\u001b[39m vy\u001b[38;5;241m*\u001b[39m\u001b[38;5;241m*\u001b[39m\u001b[38;5;241m2\u001b[39m)\n\u001b[1;32m     15\u001b[0m total_time \u001b[38;5;241m=\u001b[39m circ \u001b[38;5;241m/\u001b[39m v\n",
      "\u001b[0;31mNameError\u001b[0m: name 'point_velocity' is not defined"
     ]
    }
   ],
   "source": [
    "points = [Point(0, -25000), Point(0, -50000), Point(0, -75000)]\n",
    "\n",
    "dts = [0.01, 0.1, 1, 10]\n",
    "dt_trajs = []\n",
    "\n",
    "progress = tqdm(dts, total=len(dts), leave=False, position=0)\n",
    "for dt in progress:\n",
    "    progress.set_description(f\"Time step {dt}\")\n",
    "    total_times = []\n",
    "    for p in points:\n",
    "        r = p.distance(Point(0, 0))\n",
    "        circ = 2 * r * np.pi\n",
    "        vx, vy = point_velocity(Vx, Vy, x, y, p)\n",
    "        v = np.sqrt(vx**2 + vy**2)\n",
    "        total_time = circ / v\n",
    "        total_times.append(total_time)\n",
    "    \n",
    "    with tqdm_joblib(tqdm(desc=\"Processing trajectory\", total=len(points), leave=False, position=1)) as progress_bar:\n",
    "        trajs = Parallel(n_jobs=1)(\n",
    "            delayed(compute_trajectory)(points[k], Vx, Vy, x, y, total_time=total_times[k], dt=dt, reverse=True)\n",
    "            for k in range(len(points)))\n",
    "    dt_trajs.append(trajs)\n"
   ]
  },
  {
   "cell_type": "code",
   "execution_count": null,
   "id": "ecf859ca",
   "metadata": {},
   "outputs": [],
   "source": [
    "\n",
    "fig, axs = plt.subplots(1, len(dt_trajs), sharey=True, figsize=(12, 3))\n",
    "ax.set_aspect(\"equal\")\n",
    "for k, trajs in enumerate(dt_trajs):\n",
    "    if k == len(dt_trajs)-1:\n",
    "        add_cb = True\n",
    "    else:\n",
    "        add_cb = False\n",
    "    ds[\"v\"].plot(ax=axs[k], vmin=0, vmax=500, add_colorbar=add_cb)\n",
    "    for traj in trajs:\n",
    "        ps = np.array([[p.x, p.y] for p in traj]).T\n",
    "        axs[k].scatter(*ps, s=0.5)\n",
    "    axs[k].set_title(f\"\"\"dt={dts[k]}\"\"\")\n",
    "\n",
    "fig, ax = plt.subplots(1, 1, figsize=(3.2, 3.2))\n",
    "for k in range(len(points)):\n",
    "    ax.plot(dts, [dt_trajs[n][k][0].distance(dt_trajs[n][k][-1]) for n in range(len(dt_trajs))])\n",
    "ax.set_xscale(\"log\")\n",
    "ax.set_yscale(\"log\")\n",
    "ax.set_ylabel(\"distance (m)\")\n",
    "ax.set_xlabel(\"dt (years)\")"
   ]
  },
  {
   "cell_type": "code",
   "execution_count": 28,
   "id": "96196d12",
   "metadata": {},
   "outputs": [],
   "source": [
    "from pismragis.interpolation import (\n",
    "    interpolate_rkf,\n",
    "    velocity_at_point,\n",
    "    interpolate_rkf_fast,\n",
    "    velocity_at_point_fast,\n",
    ")\n",
    "\n",
    "\n",
    "def compute_trajectory(\n",
    "    point: Point,\n",
    "    Vx: Union[ndarray, DataArray],\n",
    "    Vy: Union[ndarray, DataArray],\n",
    "    x: Union[ndarray, DataArray],\n",
    "    y: Union[ndarray, DataArray],\n",
    "    dt: float = 0.1,\n",
    "    total_time: float = 1000,\n",
    "    reverse: bool = False,\n",
    ") -> Tuple[list[Point], list]:\n",
    "    \"\"\"\n",
    "    Compute trajectory\n",
    "    \"\"\"\n",
    "    if reverse:\n",
    "        Vx = -Vx\n",
    "        Vy = -Vy\n",
    "    pts = [point]\n",
    "    pts_error_estim = [0.0]\n",
    "    time = 0.0\n",
    "    while abs(time) <= (total_time):\n",
    "        point, point_error_estim = interpolate_rkf(Vx, Vy, x, y, point, delta_time=dt)\n",
    "        if (point is None) or (point_error_estim is None):\n",
    "            break\n",
    "        pts.append(point)\n",
    "        pts_error_estim.append(point_error_estim)\n",
    "        time += dt\n",
    "    return pts, pts_error_estim\n",
    "\n",
    "def compute_trajectory_fast(\n",
    "    point: Point,\n",
    "    Vx: Union[ndarray, DataArray],\n",
    "    Vy: Union[ndarray, DataArray],\n",
    "    x: Union[ndarray, DataArray],\n",
    "    y: Union[ndarray, DataArray],\n",
    "    dt: float = 0.1,\n",
    "    total_time: float = 1000,\n",
    "    reverse: bool = False,\n",
    ") -> Tuple[list[Point], list]:\n",
    "    \"\"\"\n",
    "    Compute trajectory\n",
    "    \"\"\"\n",
    "    if reverse:\n",
    "        Vx = -Vx\n",
    "        Vy = -Vy\n",
    "    pts = [point]\n",
    "    pts_error_estim = [0.0]\n",
    "    time = 0.0\n",
    "    while abs(time) <= (total_time):\n",
    "        point, point_error_estim = interpolate_rkf_fast(Vx, Vy, x, y, point, delta_time=dt)\n",
    "        if (point is None) or (point_error_estim is None):\n",
    "            break\n",
    "        pts.append(point)\n",
    "        pts_error_estim.append(point_error_estim)\n",
    "        time += dt\n",
    "    return pts, pts_error_estim\n"
   ]
  },
  {
   "cell_type": "code",
   "execution_count": 14,
   "id": "3bc678b9",
   "metadata": {},
   "outputs": [],
   "source": [
    "def old():\n",
    "    for p in points:\n",
    "        compute_trajectory(p, Vx, Vy, x, y)\n"
   ]
  },
  {
   "cell_type": "code",
   "execution_count": 15,
   "id": "6bb9272e",
   "metadata": {},
   "outputs": [],
   "source": [
    "def new():\n",
    "    \n",
    "    for p in points:\n",
    "        compute_trajectory_fast(p, Vx, Vy, x, y)\n"
   ]
  },
  {
   "cell_type": "code",
   "execution_count": 22,
   "id": "a8884927",
   "metadata": {},
   "outputs": [],
   "source": [
    "from typing import Optional, Tuple, Union\n",
    "\n",
    "import numpy as np\n",
    "import scipy\n",
    "from numpy import ndarray\n",
    "from shapely import Point\n",
    "from xarray import DataArray\n",
    "from pismragis.interpolation import InterpolationMatrix"
   ]
  },
  {
   "cell_type": "code",
   "execution_count": null,
   "id": "57f5b917",
   "metadata": {},
   "outputs": [],
   "source": [
    "p = Point(0, -50000)"
   ]
  },
  {
   "cell_type": "code",
   "execution_count": 18,
   "id": "0ab09322",
   "metadata": {},
   "outputs": [
    {
     "name": "stdout",
     "output_type": "stream",
     "text": [
      "5.9 s ± 31.3 ms per loop (mean ± std. dev. of 7 runs, 1 loop each)\n"
     ]
    }
   ],
   "source": [
    "%timeit compute_trajectory(p, Vx, Vy, x, y)"
   ]
  },
  {
   "cell_type": "code",
   "execution_count": null,
   "id": "60f778c4",
   "metadata": {},
   "outputs": [],
   "source": [
    "%timeit compute_trajectory_fast(p, Vx, Vy, x, y)"
   ]
  },
  {
   "cell_type": "code",
   "execution_count": 29,
   "id": "276bc5c6",
   "metadata": {},
   "outputs": [
    {
     "ename": "NameError",
     "evalue": "name 'px' is not defined",
     "output_type": "error",
     "traceback": [
      "\u001b[0;31m---------------------------------------------------------------------------\u001b[0m",
      "\u001b[0;31mNameError\u001b[0m                                 Traceback (most recent call last)",
      "Cell \u001b[0;32mIn[29], line 1\u001b[0m\n\u001b[0;32m----> 1\u001b[0m \u001b[43mcompute_trajectory_fast\u001b[49m\u001b[43m(\u001b[49m\u001b[43mp\u001b[49m\u001b[43m,\u001b[49m\u001b[43m \u001b[49m\u001b[43mVx\u001b[49m\u001b[43m,\u001b[49m\u001b[43m \u001b[49m\u001b[43mVy\u001b[49m\u001b[43m,\u001b[49m\u001b[43m \u001b[49m\u001b[43mx\u001b[49m\u001b[43m,\u001b[49m\u001b[43m \u001b[49m\u001b[43my\u001b[49m\u001b[43m)\u001b[49m\n",
      "Cell \u001b[0;32mIn[28], line 57\u001b[0m, in \u001b[0;36mcompute_trajectory_fast\u001b[0;34m(point, Vx, Vy, x, y, dt, total_time, reverse)\u001b[0m\n\u001b[1;32m     55\u001b[0m time \u001b[38;5;241m=\u001b[39m \u001b[38;5;241m0.0\u001b[39m\n\u001b[1;32m     56\u001b[0m \u001b[38;5;28;01mwhile\u001b[39;00m \u001b[38;5;28mabs\u001b[39m(time) \u001b[38;5;241m<\u001b[39m\u001b[38;5;241m=\u001b[39m (total_time):\n\u001b[0;32m---> 57\u001b[0m     point, point_error_estim \u001b[38;5;241m=\u001b[39m \u001b[43minterpolate_rkf_fast\u001b[49m\u001b[43m(\u001b[49m\u001b[43mVx\u001b[49m\u001b[43m,\u001b[49m\u001b[43m \u001b[49m\u001b[43mVy\u001b[49m\u001b[43m,\u001b[49m\u001b[43m \u001b[49m\u001b[43mx\u001b[49m\u001b[43m,\u001b[49m\u001b[43m \u001b[49m\u001b[43my\u001b[49m\u001b[43m,\u001b[49m\u001b[43m \u001b[49m\u001b[43mpoint\u001b[49m\u001b[43m,\u001b[49m\u001b[43m \u001b[49m\u001b[43mdelta_time\u001b[49m\u001b[38;5;241;43m=\u001b[39;49m\u001b[43mdt\u001b[49m\u001b[43m)\u001b[49m\n\u001b[1;32m     58\u001b[0m     \u001b[38;5;28;01mif\u001b[39;00m (point \u001b[38;5;129;01mis\u001b[39;00m \u001b[38;5;28;01mNone\u001b[39;00m) \u001b[38;5;129;01mor\u001b[39;00m (point_error_estim \u001b[38;5;129;01mis\u001b[39;00m \u001b[38;5;28;01mNone\u001b[39;00m):\n\u001b[1;32m     59\u001b[0m         \u001b[38;5;28;01mbreak\u001b[39;00m\n",
      "File \u001b[0;32m~/Library/Python/3.11/lib/python/site-packages/pismragis/interpolation.py:393\u001b[0m, in \u001b[0;36minterpolate_rkf_fast\u001b[0;34m(Vx, Vy, x, y, start_pt, delta_time)\u001b[0m\n\u001b[1;32m    390\u001b[0m \u001b[38;5;28;01mif\u001b[39;00m \u001b[38;5;28misinstance\u001b[39m(y, DataArray):\n\u001b[1;32m    391\u001b[0m     y \u001b[38;5;241m=\u001b[39m y\u001b[38;5;241m.\u001b[39mto_numpy()\n\u001b[0;32m--> 393\u001b[0m A \u001b[38;5;241m=\u001b[39m InterpolationMatrix(x, y, \u001b[43mpx\u001b[49m, py)\n\u001b[1;32m    395\u001b[0m k1_vx, k1_vy \u001b[38;5;241m=\u001b[39m velocity_at_point_fast(Vx, Vy, x, y, start_pt)\n\u001b[1;32m    397\u001b[0m \u001b[38;5;28;01mif\u001b[39;00m k1_vx \u001b[38;5;129;01mis\u001b[39;00m \u001b[38;5;28;01mNone\u001b[39;00m \u001b[38;5;129;01mor\u001b[39;00m k1_vy \u001b[38;5;129;01mis\u001b[39;00m \u001b[38;5;28;01mNone\u001b[39;00m:\n",
      "\u001b[0;31mNameError\u001b[0m: name 'px' is not defined"
     ]
    }
   ],
   "source": [
    "compute_trajectory_fast(p, Vx, Vy, x, y)"
   ]
  },
  {
   "cell_type": "markdown",
   "id": "14cbbd3c",
   "metadata": {},
   "source": [
    "## Create doc-string examples"
   ]
  },
  {
   "cell_type": "code",
   "execution_count": 34,
   "id": "7435948e",
   "metadata": {},
   "outputs": [
    {
     "name": "stderr",
     "output_type": "stream",
     "text": [
      "/var/folders/pb/9bmdq04j7h9126gzz9zd3b_80000gn/T/ipykernel_4375/2199642644.py:11: RuntimeWarning: invalid value encountered in divide\n",
      "  vx = -Y / np.sqrt(X**2 + Y**2) * 250\n",
      "/var/folders/pb/9bmdq04j7h9126gzz9zd3b_80000gn/T/ipykernel_4375/2199642644.py:12: RuntimeWarning: invalid value encountered in divide\n",
      "  vy = X / np.sqrt(X**2 + Y**2) * 250\n"
     ]
    }
   ],
   "source": [
    "import numpy as np\n",
    "from shapely import Point\n",
    "\n",
    "nx = 201\n",
    "ny = 401\n",
    "x = np.linspace(-100e3, 100e3, nx)\n",
    "y = np.linspace(-100e3, 100e3, ny)\n",
    "X, Y = np.meshgrid(x, y)\n",
    "\n",
    "# Directional vectors\n",
    "vx = -Y / np.sqrt(X**2 + Y**2) * 250\n",
    "vy = X / np.sqrt(X**2 + Y**2) * 250\n",
    "\n",
    "p = Point(0, -50000)\n",
    "\n",
    "pts, pts_error_estim = compute_trajectory(p, vx, vx, x, y, dt=1, total_time=10)"
   ]
  },
  {
   "cell_type": "code",
   "execution_count": 35,
   "id": "0dd6ec91",
   "metadata": {},
   "outputs": [
    {
     "data": {
      "text/plain": [
       "[<POINT (0 -50000)>,\n",
       " <POINT (249.994 -49750.006)>,\n",
       " <POINT (499.975 -49500.025)>,\n",
       " <POINT (749.943 -49250.057)>,\n",
       " <POINT (999.897 -49000.103)>,\n",
       " <POINT (1249.825 -48750.175)>,\n",
       " <POINT (1499.713 -48500.287)>,\n",
       " <POINT (1749.56 -48250.44)>,\n",
       " <POINT (1999.364 -48000.636)>,\n",
       " <POINT (2249.113 -47750.887)>,\n",
       " <POINT (2498.79 -47501.21)>,\n",
       " <POINT (2748.394 -47251.606)>]"
      ]
     },
     "execution_count": 35,
     "metadata": {},
     "output_type": "execute_result"
    }
   ],
   "source": [
    "pts"
   ]
  },
  {
   "cell_type": "code",
   "execution_count": null,
   "id": "67c24505",
   "metadata": {},
   "outputs": [],
   "source": []
  }
 ],
 "metadata": {
  "kernelspec": {
   "display_name": "Python 3 (ipykernel)",
   "language": "python",
   "name": "python3"
  },
  "language_info": {
   "codemirror_mode": {
    "name": "ipython",
    "version": 3
   },
   "file_extension": ".py",
   "mimetype": "text/x-python",
   "name": "python",
   "nbconvert_exporter": "python",
   "pygments_lexer": "ipython3",
   "version": "3.11.6"
  }
 },
 "nbformat": 4,
 "nbformat_minor": 5
}
