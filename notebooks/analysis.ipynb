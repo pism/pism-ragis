{
 "cells": [
  {
   "cell_type": "code",
   "execution_count": null,
   "id": "00f919a7-8d1b-4f55-b019-df7be337634e",
   "metadata": {},
   "outputs": [],
   "source": [
    "import pylab as plt\n",
    "import xarray as xr\n",
    "import pint_xarray\n",
    "from pathlib import Path\n",
    "import pandas as pd\n",
    "import numpy as np\n",
    "import matplotlib.ticker as ticker\n",
    "import seaborn as sns\n",
    "\n",
    "from pism_ragis.observations import load_imbie, load_mouginot"
   ]
  },
  {
   "cell_type": "code",
   "execution_count": null,
   "id": "12116021-11fc-4127-a3e5-079b984cf830",
   "metadata": {},
   "outputs": [],
   "source": [
    "reference_year = 1992\n",
    "golden_ratio = (1 + np.sqrt(5)) / 2"
   ]
  },
  {
   "cell_type": "code",
   "execution_count": null,
   "id": "ce932992-19ae-4d0d-8613-b44a5670abc5",
   "metadata": {},
   "outputs": [],
   "source": [
    "    mass_cumulative_varname = \"Cumulative ice sheet mass change (Gt)\"\n",
    "    mass_cumulative_uncertainty_varname = (\n",
    "        \"Cumulative ice sheet mass change uncertainty (Gt)\"\n",
    "    )\n",
    "    mass_flux_varname = \"Rate of ice sheet mass change (Gt/yr)\"\n",
    "    mass_flux_uncertainty_varname = \"Rate of ice sheet mass change uncertainty (Gt/yr)\"\n",
    "\n",
    "    discharge_cumulative_varname = \"Cumulative ice discharge anomaly (Gt)\"\n",
    "    discharge_cumulative_uncertainty_varname = (\n",
    "        \"Cumulative ice discharge anomaly uncertainty (Gt)\"\n",
    "    )\n",
    "    discharge_flux_varname = \"Rate of ice discharge (Gt/yr)\"\n",
    "    discharge_flux_uncertainty_varname = \"Rate of ice discharge uncertainty (Gt/yr)\"\n",
    "\n",
    "    smb_cumulative_varname = \"Cumulative surface mass balance anomaly (Gt)\"\n",
    "    smb_cumulative_uncertainty_varname = (\n",
    "        \"Cumulative surface mass balance anomaly uncertainty (Gt)\"\n",
    "    )\n",
    "    smb_flux_varname = \"Rate of surface mass balance (Gt/yr)\"\n",
    "    smb_flux_uncertainty_varname = \"Rate of surface mass balance uncertainty (Gt/yr)\"\n",
    "\n",
    "    basal_flux_varname = \"tendency_of_ice_mass_due_to_basal_mass_flux\"\n",
    "    basal_grounded_flux_varname = \"tendency_of_ice_mass_due_to_basal_mass_flux_grounded\"\n",
    "    basal_floating_flux_varname = \"tendency_of_ice_mass_due_to_basal_mass_flux_floating\"\n",
    "\n",
    "    sim_mass_cumulative_varname = \"ice_mass\"\n",
    "    sim_mass_flux_varname = \"tendency_of_ice_mass\"\n",
    "    sim_smb_flux_varname = \"tendency_of_ice_mass_due_to_surface_mass_flux\"\n",
    "    sim_discharge_flux_varname = \"ice_mass_transport_across_grounding_line\"\n"
   ]
  },
  {
   "cell_type": "code",
   "execution_count": null,
   "id": "126a526a-2f34-4c96-8232-4eda4bdd3a94",
   "metadata": {},
   "outputs": [],
   "source": [
    "mouginot_url = Path(\"/mnt/storstrommen/data/mouginot/pnas.1904242116.sd02.xlsx\")\n",
    "mouginot_url = Path(\"/Users/andy/Google Drive/My Drive/data/mouginot_discharge/pnas.1904242116.sd02.xlsx\")\n",
    "\n",
    "# Load observations\n",
    "imbie = load_imbie()\n",
    "mou = load_mouginot(url=mouginot_url, norm_year=reference_year)\n",
    "mou[discharge_flux_varname] = -mou[discharge_flux_varname]\n",
    "mou_gis = mou[mou[\"Basin\"] == \"GIS\"]\n",
    "\n",
    "imbie_mean = imbie[imbie.Date.between(\"1992-1-1\", \"2012-1-1\")][\n",
    "[\n",
    "    mass_flux_uncertainty_varname,\n",
    "    smb_flux_uncertainty_varname,\n",
    "    discharge_flux_uncertainty_varname,\n",
    "    ]\n",
    "].mean()\n",
    "mou_mean = mou[mou.Date.between(\"1992-1-1\", \"2012-1-1\")][\n",
    "[\n",
    "    mass_flux_uncertainty_varname,\n",
    "    smb_flux_uncertainty_varname,\n",
    "    discharge_flux_uncertainty_varname,        ]\n",
    "].mean()\n",
    "u_ratio = imbie_mean / mou_mean / 2\n",
    "sigma_adjusted = np.maximum(u_ratio, 1)"
   ]
  },
  {
   "cell_type": "code",
   "execution_count": null,
   "id": "56d1929e-d116-49ff-b857-ba4dd57bd463",
   "metadata": {},
   "outputs": [],
   "source": [
    "imbie_2021 = pd.read_csv(\"/Volumes/pism/data/imbie/imbie_greenland_2021_Gt.csv\").rename(columns={'Cumulative mass balance (Gt)': mass_cumulative_varname,\n",
    "                                                                                                 'Cumulative mass balance uncertainty (Gt)': mass_cumulative_uncertainty_varname})\n",
    "y = imbie_2021[\"Year\"].astype(\"int\")\n",
    "imbie_2021[\"Date\"] = pd.to_datetime({\"year\": y, \"month\": 1, \"day\": 1}) + pd.to_timedelta(\n",
    "    (imbie_2021[\"Year\"] - imbie_2021[\"Year\"].astype(\"int\")) * 3.15569259747e7, \"seconds\"\n",
    ")"
   ]
  },
  {
   "cell_type": "code",
   "execution_count": null,
   "id": "ed3c301e-14a5-4a9c-b526-8cd336153f3a",
   "metadata": {},
   "outputs": [],
   "source": [
    "ds_ctrl = xr.open_mfdataset(\"../analysis/2024_07_ragis_ctrl/basins_sums_ensemble_RAGIS_id_BM-*.nc\")\n",
    "ds_ctrl = ds_ctrl.sel(ensemble_id=\"RAGIS\").sel(time=slice(\"1980-01-01\", \"2020-01-01\"))\n",
    "ds_ctrl[sim_mass_cumulative_varname] -= ds_ctrl.sel(time=f\"{reference_year}-01-01\", method=\"nearest\")[sim_mass_cumulative_varname]\n",
    "ds_ctrl[sim_discharge_flux_varname] += ds_ctrl[\"tendency_of_ice_mass_due_to_basal_mass_flux_grounded\"]\n",
    "ds_ctrl = ds_ctrl.rolling(time=13).mean()"
   ]
  },
  {
   "cell_type": "code",
   "execution_count": null,
   "id": "2f032894-2cb4-4e3d-b560-70c332604af9",
   "metadata": {},
   "outputs": [],
   "source": [
    "ds_tw = xr.open_mfdataset(\"../analysis/2024_07_ragis_tw/basins_sums_ensemble_RAGIS_id_BM-*.nc\")\n",
    "ds_tw = ds_tw.sel(ensemble_id=\"RAGIS\").sel(time=slice(\"1980-01-01\", \"2020-01-01\"))\n",
    "ds_tw[sim_mass_cumulative_varname] -= ds_tw.sel(time=f\"{reference_year}-01-01\", method=\"nearest\")[sim_mass_cumulative_varname]\n",
    "ds_tw[sim_discharge_flux_varname] += ds_tw[\"tendency_of_ice_mass_due_to_basal_mass_flux_grounded\"]\n",
    "ds_tw = ds_tw.rolling(time=13).mean()"
   ]
  },
  {
   "cell_type": "code",
   "execution_count": null,
   "id": "b0753e87-2b16-428d-b256-e7877bcf7f34",
   "metadata": {},
   "outputs": [],
   "source": [
    "mb = (ds_tw[\"tendency_of_ice_mass_due_to_surface_mass_flux\"] + ds_tw[\"ice_mass_transport_across_grounding_line\"]).cumsum() / 12\n",
    "mb -= mb.sel(time=f\"{reference_year}-01-01\", method=\"nearest\")\n",
    "mb_with_bmb = (ds_tw[\"tendency_of_ice_mass_due_to_surface_mass_flux\"] + ds_tw[\"ice_mass_transport_across_grounding_line\"] + ds_tw[basal_floating_flux_varname]).cumsum() / 12\n",
    "mb_with_bmb -= mb_with_bmb.sel(time=f\"{reference_year}-01-01\", method=\"nearest\")"
   ]
  },
  {
   "cell_type": "code",
   "execution_count": null,
   "id": "782ab9a7-f54f-4dd9-aec0-13eb9c5e925d",
   "metadata": {},
   "outputs": [],
   "source": [
    "obs_cmap = sns.color_palette(\"crest\", n_colors=4)\n",
    "obs_cmap = [\"0.4\", \"0.0\", \"0.6\", \"0.0\"]\n",
    "sim_cmap = sns.color_palette(\"flare\", n_colors=len(ds_tw.exp_id))"
   ]
  },
  {
   "cell_type": "code",
   "execution_count": null,
   "id": "168f3509-948a-4539-97bc-ab63adafe1fc",
   "metadata": {},
   "outputs": [],
   "source": [
    "plt.rcParams[\"font.size\"] = 6\n",
    "\n",
    "fig, axs = plt.subplots(3, 1, sharex=True, figsize=(6.2, 4.2), height_ratios=[golden_ratio, 1, 1])\n",
    "ds_tw_gis = ds_tw.sel(basin=\"GIS\")\n",
    "sim_labels = []\n",
    "exp_labels = [\"Forced Retreat\", \"Control\"]\n",
    "sim_lines = []\n",
    "for k, exp_id in enumerate(ds_tw_gis.exp_id):\n",
    "    exp = ds_tw_gis.sel(exp_id=exp_id)\n",
    "    sim_l = axs[0].plot(exp.time, exp[sim_mass_cumulative_varname], color=sim_cmap[k], lw=1, label=exp_labels[k])\n",
    "    sim_lines.append(sim_l[0])\n",
    "    axs[1].plot(exp.time, exp[sim_discharge_flux_varname], color=sim_cmap[k], lw=1)\n",
    "    axs[2].plot(exp.time, exp[sim_smb_flux_varname], color=sim_cmap[k], lw=1)\n",
    "mou_ci = axs[0].fill_between(mou_gis[\"Date\"], \n",
    "                mou_gis[mass_cumulative_varname] - mou_gis[mass_cumulative_uncertainty_varname], \n",
    "                mou_gis[mass_cumulative_varname] + mou_gis[mass_cumulative_uncertainty_varname], color=obs_cmap[0], alpha=0.5, lw=0, \n",
    "                    label=\"Mouginot et al (2019)\")\n",
    "# axs[0].plot(mou_gis[\"Date\"], mou_gis[\"Cumulative ice sheet mass change (Gt)\"], color=obs_cmap[1], lw=1)\n",
    "imbie_ci = axs[0].fill_between(imbie_2021[\"Date\"], \n",
    "                imbie_2021[mass_cumulative_varname] - imbie_2021[mass_cumulative_uncertainty_varname], \n",
    "                imbie_2021[mass_cumulative_varname] + imbie_2021[mass_cumulative_uncertainty_varname], color=obs_cmap[2], alpha=0.5, lw=0,\n",
    "                   label=\"IMBIE 2021\")\n",
    "#axs[0].plot(imbie_2021[\"Date\"], imbie_2021[mass_cumulative_varname], color=obs_cmap[3], lw=1)\n",
    "\n",
    "axs[1].fill_between(mou_gis[\"Date\"], \n",
    "                mou_gis[discharge_flux_varname] - sigma_adjusted[discharge_flux_uncertainty_varname] * mou_gis[discharge_flux_uncertainty_varname], \n",
    "                mou_gis[discharge_flux_varname] + sigma_adjusted[discharge_flux_uncertainty_varname] * mou_gis[discharge_flux_uncertainty_varname], \n",
    "                    color=obs_cmap[2], alpha=0.5, lw=0)\n",
    "# axs[1].fill_between(imbie[\"Date\"], \n",
    "#                 imbie[discharge_flux_varname] - imbie[discharge_flux_uncertainty_varname], \n",
    "#                 imbie[discharge_flux_varname] + imbie[discharge_flux_uncertainty_varname], \n",
    "#                     color=obs_cmap[0], alpha=0.5, lw=0)\n",
    "axs[1].fill_between(mou_gis[\"Date\"], \n",
    "                mou_gis[discharge_flux_varname] - mou_gis[discharge_flux_uncertainty_varname], \n",
    "                mou_gis[discharge_flux_varname] + mou_gis[discharge_flux_uncertainty_varname], \n",
    "                    color=obs_cmap[0], alpha=0.5, lw=0)\n",
    "axs[2].fill_between(imbie[\"Date\"], \n",
    "                imbie[smb_flux_varname] - imbie[smb_flux_uncertainty_varname], \n",
    "                imbie[smb_flux_varname] + imbie[smb_flux_uncertainty_varname], \n",
    "                    color=obs_cmap[0], alpha=0.5, lw=0)\n",
    "axs[2].fill_between(mou_gis[\"Date\"], \n",
    "                mou_gis[smb_flux_varname] - mou_gis[smb_flux_uncertainty_varname], \n",
    "                mou_gis[smb_flux_varname] + mou_gis[smb_flux_uncertainty_varname], \n",
    "                    color=obs_cmap[0], alpha=0.5, lw=0)\n",
    "# axs[1].plot(mou_gis[\"Date\"], mou_gis[discharge_flux_varname], color=obs_cmap[0], alpha=0.5, lw=1, )\n",
    "\n",
    "legend_obs = axs[0].legend(handles=[mou_ci, imbie_ci], loc=\"lower left\",\n",
    "                       title=\"Observed\")\n",
    "legend_obs.get_frame().set_linewidth(0.0)\n",
    "legend_obs.get_frame().set_alpha(0.0)\n",
    "\n",
    "legend_sim = axs[0].legend(handles=sim_lines, loc=\"upper left\",\n",
    "                               title=\"Simulated (13-month rolling mean)\")\n",
    "legend_sim.get_frame().set_linewidth(0.0)\n",
    "legend_sim.get_frame().set_alpha(0.0)\n",
    "\n",
    "axs[0].add_artist(legend_obs)\n",
    "axs[0].add_artist(legend_sim)\n",
    "\n",
    "axs[0].set_ylim(-6000, 1500)\n",
    "axs[0].xaxis.set_tick_params(labelbottom=False)\n",
    "\n",
    "axs[0].set_ylabel(f\"Cumulative mass\\nloss since {reference_year} (Gt)\")\n",
    "axs[0].set_xlabel(\"\")\n",
    "axs[0].set_title(\"basin = GIS\")\n",
    "axs[1].set_title(\"\")\n",
    "axs[1].set_ylim(-800, 00)\n",
    "axs[1].set_ylabel(\"Grounding Line\\nFlux (Gt/yr)\")\n",
    "axs[2].set_ylabel(\"Climatic Mass\\nBalance (Gt/yr)\")\n",
    "axs[-1].set_xlim(np.datetime64(\"1980-01-01\"), np.datetime64(\"2021-01-01\"))\n",
    "fig.tight_layout()\n",
    "fig.savefig(\"GIS_mass_accounting.pdf\")"
   ]
  },
  {
   "cell_type": "code",
   "execution_count": null,
   "id": "0b9fac23-6758-4d81-98ed-64a368af32d3",
   "metadata": {},
   "outputs": [],
   "source": [
    "fig, axs = plt.subplots(2, 1, sharex=True, figsize=(6.2, 6.2), height_ratios=[3, 3])\n",
    "labels = []\n",
    "f = ds_tw.sel(basin=\"GIS\", exp_id=\"BM-FR-SC-1.1-VCM-0.45\")[sim_mass_cumulative_varname].plot.line(x=\"time\", ax=axs[0], label=\"ice_mass\")\n",
    "labels.append(f[0].get_label())\n",
    "f = mb.sel(basin=\"GIS\", exp_id=\"BM-FR-SC-1.1-VCM-0.45\").plot.line(ax=axs[0], label=\"SMB+D+BMB_grounded\")\n",
    "labels.append(f[0].get_label())\n",
    "f = mb_with_bmb.sel(basin=\"GIS\", exp_id=\"BM-FR-SC-1.1-VCM-0.45\").plot.line(ax=axs[0], label=\"SMB+D+BMB_total\")\n",
    "labels.append(f[0].get_label())\n",
    "axs[0].fill_between(mou_gis[\"Date\"], \n",
    "                mou_gis[mass_cumulative_varname] - mou_gis[mass_cumulative_uncertainty_varname], \n",
    "                mou_gis[mass_cumulative_varname] + mou_gis[mass_cumulative_uncertainty_varname], color=\"0.75\")\n",
    "axs[0].plot(mou_gis[\"Date\"], mou_gis[\"Cumulative ice sheet mass change (Gt)\"], color=\"k\", lw=2)\n",
    "\n",
    "labels_flux = []\n",
    "f = ds_tw.sel(basin=\"GIS\", exp_id=\"BM-FR-SC-1.1-VCM-0.45\")[sim_discharge_flux_varname].plot.line(x=\"time\", add_legend=False, ax=axs[1])\n",
    "labels_flux.append(f[0].get_label())\n",
    "f = ds_tw.sel(basin=\"GIS\", exp_id=\"BM-FR-SC-1.1-VCM-0.45\")[basal_flux_varname].plot.line(x=\"time\", add_legend=False, ax=axs[1])\n",
    "labels_flux.append(f[0].get_label())\n",
    "f = ds_tw.sel(basin=\"GIS\", exp_id=\"BM-FR-SC-1.1-VCM-0.45\")[basal_grounded_flux_varname].plot.line(x=\"time\", add_legend=False, ax=axs[1], label=\"BMB grounded\")\n",
    "labels_flux.append(f[0].get_label())\n",
    "f = ds_tw.sel(basin=\"GIS\", exp_id=\"BM-FR-SC-1.1-VCM-0.45\")[basal_floating_flux_varname].plot.line(x=\"time\", add_legend=False, ax=axs[1], label=\"BMB floating\")\n",
    "labels_flux.append(f[0].get_label())\n",
    "axs[0].legend(labels)\n",
    "axs[1].legend(labels_flux)\n",
    "axs[1].set_ylabel(\"Flux\\n(Gt/yr)\")\n",
    "axs[-1].set_xlim(np.datetime64(\"1980-01-01\"), np.datetime64(\"2020-01-01\"))"
   ]
  },
  {
   "cell_type": "code",
   "execution_count": null,
   "id": "31f86b28-d84f-48ed-8688-76b6be3b9a3d",
   "metadata": {},
   "outputs": [],
   "source": []
  },
  {
   "cell_type": "code",
   "execution_count": null,
   "id": "2d98b653-b68c-413e-a3a1-0d4e172bd48c",
   "metadata": {},
   "outputs": [],
   "source": [
    "import cartopy"
   ]
  },
  {
   "cell_type": "code",
   "execution_count": null,
   "id": "172384fd-f412-4e6a-9de0-a01ef95b4562",
   "metadata": {},
   "outputs": [],
   "source": [
    "crs = cartopy.crs.RotatedGeodetic(20, 10, central_rotated_longitude=0.0, globe=None)"
   ]
  },
  {
   "cell_type": "code",
   "execution_count": null,
   "id": "d5d948ff-02de-4d91-9f98-0fe1fabd0001",
   "metadata": {},
   "outputs": [],
   "source": [
    "crs.proj4_params"
   ]
  },
  {
   "cell_type": "code",
   "execution_count": null,
   "id": "baad582b-0416-4107-bfdf-0bda679d7c6d",
   "metadata": {},
   "outputs": [],
   "source": [
    "crs.to_proj4()"
   ]
  },
  {
   "cell_type": "code",
   "execution_count": null,
   "id": "04453f5b-1818-4451-9f4b-9ee75ded5e0c",
   "metadata": {},
   "outputs": [],
   "source": [
    "imbie"
   ]
  },
  {
   "cell_type": "code",
   "execution_count": null,
   "id": "a760da67-3657-4d23-9356-87db0bc51293",
   "metadata": {},
   "outputs": [],
   "source": []
  }
 ],
 "metadata": {
  "kernelspec": {
   "display_name": "Python 3 (ipykernel)",
   "language": "python",
   "name": "python3"
  },
  "language_info": {
   "codemirror_mode": {
    "name": "ipython",
    "version": 3
   },
   "file_extension": ".py",
   "mimetype": "text/x-python",
   "name": "python",
   "nbconvert_exporter": "python",
   "pygments_lexer": "ipython3"
  }
 },
 "nbformat": 4,
 "nbformat_minor": 5
}
