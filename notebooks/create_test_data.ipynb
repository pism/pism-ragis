{
 "cells": [
  {
   "cell_type": "code",
   "execution_count": 45,
   "id": "614ee8eb",
   "metadata": {},
   "outputs": [],
   "source": [
    "from glob import glob\n",
    "import pandas as pd\n",
    "import xarray as xr\n",
    "\n",
    "import contextlib\n",
    "import os\n",
    "import pathlib\n",
    "import re\n",
    "import shutil\n",
    "import time\n",
    "from datetime import datetime\n",
    "from typing import Union\n",
    "\n",
    "import joblib\n",
    "import numpy as np\n",
    "import pandas as pd\n",
    "import xarray as xr\n",
    "from joblib import Parallel, delayed\n",
    "from tqdm import tqdm\n",
    "\n",
    "from pandas.testing import assert_frame_equal\n",
    "\n",
    "from pismragis.processing import convert_netcdf_to_dataframe, ncfile2dataframe, nc_add_id\n",
    "from pismragis.analysis import prepare_df, sensitivity_analysis\n"
   ]
  },
  {
   "cell_type": "code",
   "execution_count": 6,
   "id": "7be7322c",
   "metadata": {},
   "outputs": [
    {
     "name": "stdout",
     "output_type": "stream",
     "text": [
      "Converting netcdf files to pandas.DataFrame\n",
      "-------------------------------------------\n"
     ]
    },
    {
     "name": "stderr",
     "output_type": "stream",
     "text": [
      "Processing files: 100%|███████████████████████████████████████████████████████████████████████████████████████████████████████████████████████████████████████████████████████████████████████████████████████████████████████████████████████████████████████████████████████████████████████████████████████████████████████████████████████████████████████████████████| 24/24 [00:00<00:00, 110.34it/s]\n"
     ]
    },
    {
     "name": "stdout",
     "output_type": "stream",
     "text": [
      "Conversion finished in 0 seconds\n",
      "-------------------------------------------\n"
     ]
    }
   ],
   "source": [
    "infiles = glob(\"../tests/data/ts_gris_g1200m_v2023_RAGIS_id_*_1980-1-1_2020-1-1.nc\")\n",
    "df = convert_netcdf_to_dataframe(infiles, add_vars=False)\n",
    "df.to_parquet(\"../tests/data/test_scalar.parquet\")\n",
    "df.to_csv(\"../tests/data/test_scalar.csv\")"
   ]
  },
  {
   "cell_type": "code",
   "execution_count": 33,
   "id": "b6a08881",
   "metadata": {},
   "outputs": [
    {
     "name": "stdout",
     "output_type": "stream",
     "text": [
      "Converting netcdf files to pandas.DataFrame\n",
      "-------------------------------------------\n"
     ]
    },
    {
     "name": "stderr",
     "output_type": "stream",
     "text": [
      "Processing files: 100%|████████████████████████████████████████████████████████████████████████████████████████████████████████████████████████████████████████████████████████████████████████████████████████████████████████████████████████████████████████████████████████████████████████████████████████████████████████████████████████████████████████████████████| 24/24 [00:01<00:00, 23.99it/s]"
     ]
    },
    {
     "name": "stdout",
     "output_type": "stream",
     "text": [
      "Conversion finished in 1 seconds\n",
      "-------------------------------------------\n"
     ]
    },
    {
     "name": "stderr",
     "output_type": "stream",
     "text": [
      "\n"
     ]
    }
   ],
   "source": [
    "df = convert_netcdf_to_dataframe(infiles, add_vars=False, resample=\"yearly\")\n",
    "df = df[df.time.between(\"1980-01-01\", \"1982-01-01\")].reset_index(drop=True)\n",
    "df.to_parquet(\"../tests/data/test_scalar_YM.parquet\")\n",
    "df.to_csv(\"../tests/data/test_scalar_YM.csv\")\n"
   ]
  },
  {
   "cell_type": "code",
   "execution_count": 13,
   "id": "756d917a",
   "metadata": {},
   "outputs": [],
   "source": [
    "infile = \"../tests/data/ts_gris_g1200m_v2023_RAGIS_id_0_1980-1-1_2020-1-1.nc\""
   ]
  },
  {
   "cell_type": "code",
   "execution_count": 14,
   "id": "b8a1504e",
   "metadata": {},
   "outputs": [],
   "source": [
    "df = ncfile2dataframe(infile, add_vars=False)\n",
    "df.to_parquet(\"../tests/data/test_scalar_file.parquet\")\n",
    "df.to_csv(\"../tests/data/test_scalar_file.csv\")"
   ]
  },
  {
   "cell_type": "code",
   "execution_count": 15,
   "id": "92615439",
   "metadata": {},
   "outputs": [],
   "source": [
    "df = ncfile2dataframe(infile, add_vars=True)\n",
    "df.to_parquet(\"../tests/data/test_scalar_file_add_vars.parquet\")\n",
    "df.to_csv(\"../tests/data/test_scalar_file_add_vars.csv\")"
   ]
  },
  {
   "cell_type": "code",
   "execution_count": 39,
   "id": "87f1971c",
   "metadata": {},
   "outputs": [],
   "source": [
    "n_jobs = 1"
   ]
  },
  {
   "cell_type": "code",
   "execution_count": 63,
   "id": "730552fb",
   "metadata": {},
   "outputs": [
    {
     "name": "stdout",
     "output_type": "stream",
     "text": [
      "-------------------------------------------\n",
      "\n",
      "Program finished in 4 seconds\n"
     ]
    }
   ],
   "source": [
    "    X_df = (\n",
    "        pd.read_parquet(\"../tests/data/test_scalar_YM.parquet\")\n",
    "        .drop(columns=[\"Year\", \"resolution_m\"])\n",
    "        .sort_values(by=[\"time\", \"id\"])\n",
    "    )\n",
    "    ensemble_file = \"../tests/data/gris_ragis_ocean_simple_lhs_50_w_posterior.csv\"\n",
    "    Y_df = sensitivity_analysis(\n",
    "        X_df, ensemble_file=ensemble_file, n_jobs=n_jobs, seed=seed\n",
    "    )\n",
    "    Y_df.to_parquet(\"../tests/data/test_sensitivity.parquet\")\n"
   ]
  },
  {
   "cell_type": "code",
   "execution_count": 64,
   "id": "17bf69a3",
   "metadata": {},
   "outputs": [
    {
     "name": "stdout",
     "output_type": "stream",
     "text": [
      "-------------------------------------------\n",
      "\n",
      "Program finished in 4 seconds\n"
     ]
    }
   ],
   "source": [
    "    Y_true_df = pd.read_parquet(\"../tests/data/test_sensitivity.parquet\")\n",
    "    Y_df = sensitivity_analysis(\n",
    "        X_df, ensemble_file=ensemble_file, n_jobs=n_jobs, seed=seed\n",
    "    )\n",
    "    assert_frame_equal(Y_df, Y_true_df, rtol=1e-04)\n"
   ]
  },
  {
   "cell_type": "code",
   "execution_count": 71,
   "id": "2819d8b4",
   "metadata": {},
   "outputs": [
    {
     "name": "stdout",
     "output_type": "stream",
     "text": [
      "-------------------------------------------\n",
      "\n",
      "Program finished in 4 seconds\n"
     ]
    }
   ],
   "source": [
    "    ds = xr.open_mfdataset(\n",
    "        \"../tests/data/ts_gris_g1200m_v2023_RAGIS_id_*.nc\",\n",
    "        combine=\"nested\",\n",
    "        concat_dim=\"id\",\n",
    "        preprocess=nc_add_id,\n",
    "        parallel=True,\n",
    "    )\n",
    "    ens = (\n",
    "        ds.sel(time=slice(\"1980-01-01\", \"1982-01-01\"))[ens_vars_dict.keys()]\n",
    "        .resample(time=\"1AS\")\n",
    "        .mean()\n",
    "    )\n",
    "    X_xr_df = (\n",
    "        ens.to_dataframe()\n",
    "        .rename(columns=ens_vars_dict)\n",
    "        .reset_index()\n",
    "        .dropna()\n",
    "        .sort_values(by=[\"time\", \"id\"])\n",
    "        .reset_index(drop=True)\n",
    "    )\n",
    "\n",
    "    Y_xr_df = sensitivity_analysis(\n",
    "        X_xr_df, ensemble_file=ensemble_file, n_jobs=n_jobs, seed=seed\n",
    "    )\n",
    "    assert_frame_equal(Y_xr_df, Y_true_df, atol=1e-01, rtol=1e-06)\n"
   ]
  },
  {
   "cell_type": "code",
   "execution_count": 62,
   "id": "ca43f662",
   "metadata": {},
   "outputs": [
    {
     "ename": "AssertionError",
     "evalue": "DataFrame.iloc[:, 2] (column name=\"grounding_line_flux (Gt year-1)\") are different\n\nDataFrame.iloc[:, 2] (column name=\"grounding_line_flux (Gt year-1)\") values are different (33.33333 %)\n[index]: [0, 1, 2, 3, 4, 5, 6, 7, 8, 9, 10, 11, 12, 13, 14, 15, 16, 17, 18, 19, 20, 21, 22, 23, 24, 25, 26, 27, 28, 29, 30, 31, 32, 33, 34, 35, 36, 37, 38, 39, 40, 41, 42, 43, 44, 45, 46, 47, 48, 49, 50, 51, 52, 53, 54, 55, 56, 57, 58, 59, 60, 61, 62, 63, 64, 65, 66, 67, 68, 69, 70, 71]\n[left]:  [-495.44469421231486, -621.2099698962929, -506.2794002183069, -405.9281420559522, -410.0130248316154, -487.3418805882292, -260.3822451538001, -609.4455916017278, -364.88419849142537, -570.408210953245, -648.0276372156358, -514.6736017760769, -618.9941917023837, -430.99957952693103, -487.41190848258526, -596.016570582292, -362.3516911117341, -296.81436772054667, -619.5575682891493, -431.4708764896751, -360.10085458034723, -579.7777990543784, -569.3830269464477, -295.06630388144004, -471.42399446526446, -572.7562316724536, -529.6906211687773, -385.5188755775252, -429.03956518992135, -473.07671147799596, -247.6892930379634, -565.1223095068947, -355.26634609816597, -545.9662939305024, -611.1587912148973, -517.7650024664033, -588.1773018114511, -430.942681533938, -450.8328413982206, -600.7162056201064, -332.77085495661413, -277.0065951338282, -677.0145161082551, -433.20620490021855, -358.8516868768419, -539.0476020474115, -542.2789089577229, -273.92579333894867, -468.6145877854916, -555.0578141004252, -519.1056900810482, -404.4738979845279, -423.95568085808037, -487.50666151626257, -256.12335392587016, -538.4259647666335, -380.81820812432665, -540.7018523843246, -586.4623414861018, -500.54097926013935, -553.320122515353, -424.4090793224693, -449.94331171113186, -569.1658424062786, -341.5005517692266, -291.8896596390345, -745.7801408568182, -423.80261502844155, -369.53214138065647, -557.5497110356974, -531.2472681530578, -280.9081828318304]\n[right]: [-495.44469421231486, -621.2099698962929, -506.2794002183069, -405.9281420559522, -410.0130248316154, -487.3418805882292, -260.3822451538001, -609.4455916017278, -364.88419849142537, -570.408210953245, -648.0276372156358, -514.6736017760769, -618.9941917023837, -430.99957952693103, -487.41190848258526, -596.016570582292, -362.3516911117341, -296.81436772054667, -619.5575682891493, -431.4708764896751, -360.10085458034723, -579.7777990543784, -569.3830269464477, -295.06630388144004, -471.42399446526446, -572.7562316724536, -529.6906211687773, -385.5188755775252, -429.03956518992135, -473.07671147799596, -247.6892930379634, -565.1223095068947, -355.26634609816597, -545.9662939305024, -611.1587912148973, -517.7650024664033, -588.1773018114511, -430.942681533938, -450.8328413982206, -600.7162056201064, -332.77085495661413, -277.0065951338282, -677.0145161082551, -433.20620490021855, -358.8516868768419, -539.0476020474115, -542.2789089577229, -273.92579333894867, -466.69576214887576, -554.1887759791375, -523.4926898014403, -421.3644748618334, -442.2019019441836, -499.40447170472646, -248.87437067160403, -546.2936679215907, -382.21089163304293, -558.7376829690298, -653.1942823032142, -523.30052389817, -570.1044614999063, -447.1904661759332, -452.11172539788697, -588.971659800059, -353.2700247380329, -310.09184246626467, -706.1522250777915, -462.068329328975, -407.33693646303846, -534.0981409774178, -532.179654808654, -268.3017752985473]",
     "output_type": "error",
     "traceback": [
      "\u001b[0;31m---------------------------------------------------------------------------\u001b[0m",
      "\u001b[0;31mAssertionError\u001b[0m                            Traceback (most recent call last)",
      "Cell \u001b[0;32mIn[62], line 1\u001b[0m\n\u001b[0;32m----> 1\u001b[0m \u001b[43massert_frame_equal\u001b[49m\u001b[43m(\u001b[49m\u001b[43mX_df\u001b[49m\u001b[43m,\u001b[49m\u001b[43m \u001b[49m\u001b[43mX_xr_df\u001b[49m\u001b[43m)\u001b[49m\n",
      "    \u001b[0;31m[... skipping hidden 2 frame]\u001b[0m\n",
      "File \u001b[0;32m/opt/local/Library/Frameworks/Python.framework/Versions/3.11/lib/python3.11/site-packages/pandas/_libs/testing.pyx:52\u001b[0m, in \u001b[0;36mpandas._libs.testing.assert_almost_equal\u001b[0;34m()\u001b[0m\n",
      "File \u001b[0;32m/opt/local/Library/Frameworks/Python.framework/Versions/3.11/lib/python3.11/site-packages/pandas/_libs/testing.pyx:167\u001b[0m, in \u001b[0;36mpandas._libs.testing.assert_almost_equal\u001b[0;34m()\u001b[0m\n",
      "File \u001b[0;32m/opt/local/Library/Frameworks/Python.framework/Versions/3.11/lib/python3.11/site-packages/pandas/_testing/asserters.py:679\u001b[0m, in \u001b[0;36mraise_assert_detail\u001b[0;34m(obj, message, left, right, diff, index_values)\u001b[0m\n\u001b[1;32m    676\u001b[0m \u001b[38;5;28;01mif\u001b[39;00m diff \u001b[38;5;129;01mis\u001b[39;00m \u001b[38;5;129;01mnot\u001b[39;00m \u001b[38;5;28;01mNone\u001b[39;00m:\n\u001b[1;32m    677\u001b[0m     msg \u001b[38;5;241m+\u001b[39m\u001b[38;5;241m=\u001b[39m \u001b[38;5;124mf\u001b[39m\u001b[38;5;124m\"\u001b[39m\u001b[38;5;130;01m\\n\u001b[39;00m\u001b[38;5;124m[diff]: \u001b[39m\u001b[38;5;132;01m{\u001b[39;00mdiff\u001b[38;5;132;01m}\u001b[39;00m\u001b[38;5;124m\"\u001b[39m\n\u001b[0;32m--> 679\u001b[0m \u001b[38;5;28;01mraise\u001b[39;00m \u001b[38;5;167;01mAssertionError\u001b[39;00m(msg)\n",
      "\u001b[0;31mAssertionError\u001b[0m: DataFrame.iloc[:, 2] (column name=\"grounding_line_flux (Gt year-1)\") are different\n\nDataFrame.iloc[:, 2] (column name=\"grounding_line_flux (Gt year-1)\") values are different (33.33333 %)\n[index]: [0, 1, 2, 3, 4, 5, 6, 7, 8, 9, 10, 11, 12, 13, 14, 15, 16, 17, 18, 19, 20, 21, 22, 23, 24, 25, 26, 27, 28, 29, 30, 31, 32, 33, 34, 35, 36, 37, 38, 39, 40, 41, 42, 43, 44, 45, 46, 47, 48, 49, 50, 51, 52, 53, 54, 55, 56, 57, 58, 59, 60, 61, 62, 63, 64, 65, 66, 67, 68, 69, 70, 71]\n[left]:  [-495.44469421231486, -621.2099698962929, -506.2794002183069, -405.9281420559522, -410.0130248316154, -487.3418805882292, -260.3822451538001, -609.4455916017278, -364.88419849142537, -570.408210953245, -648.0276372156358, -514.6736017760769, -618.9941917023837, -430.99957952693103, -487.41190848258526, -596.016570582292, -362.3516911117341, -296.81436772054667, -619.5575682891493, -431.4708764896751, -360.10085458034723, -579.7777990543784, -569.3830269464477, -295.06630388144004, -471.42399446526446, -572.7562316724536, -529.6906211687773, -385.5188755775252, -429.03956518992135, -473.07671147799596, -247.6892930379634, -565.1223095068947, -355.26634609816597, -545.9662939305024, -611.1587912148973, -517.7650024664033, -588.1773018114511, -430.942681533938, -450.8328413982206, -600.7162056201064, -332.77085495661413, -277.0065951338282, -677.0145161082551, -433.20620490021855, -358.8516868768419, -539.0476020474115, -542.2789089577229, -273.92579333894867, -468.6145877854916, -555.0578141004252, -519.1056900810482, -404.4738979845279, -423.95568085808037, -487.50666151626257, -256.12335392587016, -538.4259647666335, -380.81820812432665, -540.7018523843246, -586.4623414861018, -500.54097926013935, -553.320122515353, -424.4090793224693, -449.94331171113186, -569.1658424062786, -341.5005517692266, -291.8896596390345, -745.7801408568182, -423.80261502844155, -369.53214138065647, -557.5497110356974, -531.2472681530578, -280.9081828318304]\n[right]: [-495.44469421231486, -621.2099698962929, -506.2794002183069, -405.9281420559522, -410.0130248316154, -487.3418805882292, -260.3822451538001, -609.4455916017278, -364.88419849142537, -570.408210953245, -648.0276372156358, -514.6736017760769, -618.9941917023837, -430.99957952693103, -487.41190848258526, -596.016570582292, -362.3516911117341, -296.81436772054667, -619.5575682891493, -431.4708764896751, -360.10085458034723, -579.7777990543784, -569.3830269464477, -295.06630388144004, -471.42399446526446, -572.7562316724536, -529.6906211687773, -385.5188755775252, -429.03956518992135, -473.07671147799596, -247.6892930379634, -565.1223095068947, -355.26634609816597, -545.9662939305024, -611.1587912148973, -517.7650024664033, -588.1773018114511, -430.942681533938, -450.8328413982206, -600.7162056201064, -332.77085495661413, -277.0065951338282, -677.0145161082551, -433.20620490021855, -358.8516868768419, -539.0476020474115, -542.2789089577229, -273.92579333894867, -466.69576214887576, -554.1887759791375, -523.4926898014403, -421.3644748618334, -442.2019019441836, -499.40447170472646, -248.87437067160403, -546.2936679215907, -382.21089163304293, -558.7376829690298, -653.1942823032142, -523.30052389817, -570.1044614999063, -447.1904661759332, -452.11172539788697, -588.971659800059, -353.2700247380329, -310.09184246626467, -706.1522250777915, -462.068329328975, -407.33693646303846, -534.0981409774178, -532.179654808654, -268.3017752985473]"
     ]
    }
   ],
   "source": [
    "assert_frame_equal(X_df, X_xr_df)"
   ]
  },
  {
   "cell_type": "code",
   "execution_count": 58,
   "id": "fee01e7f",
   "metadata": {},
   "outputs": [
    {
     "data": {
      "text/plain": [
       "0     0.000000\n",
       "1     0.000000\n",
       "2     0.000000\n",
       "3     0.000000\n",
       "4     0.000000\n",
       "5     0.000000\n",
       "6     0.000000\n",
       "7     0.000000\n",
       "8     0.000000\n",
       "9     0.000000\n",
       "10    0.000000\n",
       "11    0.000000\n",
       "12    0.000000\n",
       "13    0.000000\n",
       "14    0.000000\n",
       "15    0.000000\n",
       "16    0.004471\n",
       "17    0.008890\n",
       "18   -0.010666\n",
       "19    0.006321\n",
       "20   -0.010479\n",
       "21   -0.004852\n",
       "22   -0.005918\n",
       "23   -0.002317\n",
       "Name: vcm, dtype: float64"
      ]
     },
     "execution_count": 58,
     "metadata": {},
     "output_type": "execute_result"
    }
   ],
   "source": [
    "Y_df[\"vcm\"] - Y_true_df[\"vcm\"]"
   ]
  },
  {
   "cell_type": "code",
   "execution_count": null,
   "id": "1c99c23b",
   "metadata": {},
   "outputs": [],
   "source": [
    "n_jobs=4\n",
    "Y_true = sensitivity_analysis(df, ensemble_file=ensemble_file, n_jobs=n_jobs)[\n",
    "            sens_vars\n",
    "        ]"
   ]
  },
  {
   "cell_type": "code",
   "execution_count": null,
   "id": "0d7b7f11",
   "metadata": {},
   "outputs": [],
   "source": [
    "Y_true.to_parquet(\"tests/data/test_sensitivity.parquet\")"
   ]
  },
  {
   "cell_type": "code",
   "execution_count": null,
   "id": "8653f2b9",
   "metadata": {},
   "outputs": [],
   "source": [
    "ds = xr.open_mfdataset(\"tests/data/ts_gris_g1200m_v2023_RAGIS_id_*.nc\", combine=\"nested\", concat_dim=\"id\", parallel=True)"
   ]
  },
  {
   "cell_type": "code",
   "execution_count": null,
   "id": "88a1930c",
   "metadata": {},
   "outputs": [],
   "source": [
    "ens_vars = [\"grounding_line_flux\", \"limnsw\"]\n",
    "ens = ds.sel(time=slice(\"1980-01-01\" ,\"1983-01-01\"))[ens_vars].resample(time=\"1AS\").mean()\n",
    "ens_df = ens.to_dataframe().reset_index().dropna()"
   ]
  },
  {
   "cell_type": "code",
   "execution_count": null,
   "id": "d77cea83",
   "metadata": {},
   "outputs": [],
   "source": [
    "ens_vars"
   ]
  },
  {
   "cell_type": "code",
   "execution_count": null,
   "id": "d404955a",
   "metadata": {},
   "outputs": [],
   "source": [
    "n_jobs=4\n",
    "\n",
    "Y_true_xr = sensitivity_analysis(ens_df, ensemble_file=ensemble_file, n_jobs=n_jobs, calc_variables=ens_vars)[sens_vars]"
   ]
  },
  {
   "cell_type": "code",
   "execution_count": null,
   "id": "01616486",
   "metadata": {},
   "outputs": [],
   "source": [
    "ens_df"
   ]
  },
  {
   "cell_type": "code",
   "execution_count": null,
   "id": "07caf062",
   "metadata": {},
   "outputs": [],
   "source": [
    "Y_true.mean()"
   ]
  },
  {
   "cell_type": "code",
   "execution_count": null,
   "id": "1dfa6e80",
   "metadata": {},
   "outputs": [],
   "source": [
    "Y_true_xr.mean()"
   ]
  },
  {
   "cell_type": "code",
   "execution_count": null,
   "id": "a24c1d63",
   "metadata": {},
   "outputs": [],
   "source": [
    "Y_true"
   ]
  },
  {
   "cell_type": "code",
   "execution_count": null,
   "id": "904a5dd4",
   "metadata": {},
   "outputs": [],
   "source": [
    "import numpy as np\n",
    "\n",
    "for i in [0, 1, 2]:\n",
    "    sa_df = sensitivity_analysis(df, ensemble_file=ensemble_file, n_jobs=n_jobs)\n",
    "    print(sa_df.head())\n",
    "#sa_xr_df = sensitivity_analysis(ens_df, ensemble_file=ensemble_file, n_jobs=n_jobs, calc_variables=ens_vars)"
   ]
  },
  {
   "cell_type": "code",
   "execution_count": null,
   "id": "7f09433f",
   "metadata": {},
   "outputs": [],
   "source": [
    "sa_df.head()"
   ]
  },
  {
   "cell_type": "code",
   "execution_count": null,
   "id": "94c3d782",
   "metadata": {},
   "outputs": [],
   "source": [
    "sa_xr_df.head()"
   ]
  },
  {
   "cell_type": "code",
   "execution_count": null,
   "id": "a30faf54",
   "metadata": {},
   "outputs": [],
   "source": [
    "import pathlib\n",
    "import time\n",
    "from typing import Union\n",
    "\n",
    "import numpy as np\n",
    "import pandas as pd\n",
    "from joblib import Parallel, delayed\n",
    "from pandas.api.types import is_string_dtype\n",
    "from SALib.analyze import delta\n",
    "from scipy.interpolate import interp1d\n",
    "from tqdm import tqdm\n",
    "\n",
    "from pismragis.processing import tqdm_joblib\n",
    "\n",
    "np.random.seed(42)\n"
   ]
  },
  {
   "cell_type": "code",
   "execution_count": null,
   "id": "0ba7b1b9",
   "metadata": {},
   "outputs": [],
   "source": [
    "    df = X_df[X_df.time.between(\"1980-01-01\", \"1983-01-01\")]\n",
    "    id_df = (pd.read_csv(ensemble_file) * 1).replace(np.nan, 0)\n",
    "\n",
    "    param_names = id_df.drop(columns=\"id\").columns.values.tolist()\n",
    "    for k, col in id_df.items():\n",
    "        if is_string_dtype(col):\n",
    "            u = col.unique()\n",
    "            u.sort()\n",
    "            v = [k for k, v in enumerate(u)]\n",
    "            col.replace(to_replace=dict(zip(u, v)), inplace=True)\n",
    "    # Define a salib \"problem\"\n",
    "    problem = {\n",
    "        \"num_vars\": len(id_df.drop(columns=\"id\").columns.values),\n",
    "        \"names\": param_names,  # Parameter names\n",
    "        \"bounds\": zip(\n",
    "            id_df.drop(columns=\"id\").min().values,\n",
    "            id_df.drop(columns=\"id\").max().values,\n",
    "        ),  # Parameter bounds\n",
    "    }\n",
    "\n",
    "    df = pd.merge(id_df, df, on=\"id\")\n",
    "    # filter out dates with only 1 experiment, e.g., due to\n",
    "    # CDO changing the mid-point time when running averaging\n",
    "    df = pd.concat([x for _, x in df.groupby(by=\"time\") if len(x) > 1])\n",
    "    n_dates = len(df[\"time\"].unique())\n"
   ]
  },
  {
   "cell_type": "code",
   "execution_count": null,
   "id": "f6efc3a9",
   "metadata": {},
   "outputs": [],
   "source": [
    "for m_date, s_df in df.groupby(by=\"time\"):"
   ]
  },
  {
   "cell_type": "code",
   "execution_count": null,
   "id": "1efedea9",
   "metadata": {},
   "outputs": [],
   "source": [
    "    missing_ids = list(set(id_df[\"id\"]).difference(s_df[\"id\"]))\n",
    "    if missing_ids:\n",
    "        if verbose:\n",
    "            print(f\"The following simulation ids are missing:\\n   {missing_ids}\")\n",
    "\n",
    "        id_df_missing_removed = id_df[~id_df[\"id\"].isin(missing_ids)]\n",
    "        params = np.array(\n",
    "            id_df_missing_removed.drop(columns=\"id\").values, dtype=np.float32\n",
    "        )\n",
    "    else:\n",
    "        params = np.array(id_df.drop(columns=\"id\").values, dtype=np.float32)\n",
    "        Si = delta.analyze(\n",
    "            problem,\n",
    "            params,\n",
    "            response_matrix,\n",
    "            num_resamples=100,\n",
    "            print_to_console=False,\n",
    "        )\n",
    "        Si_df = Si.to_df()\n"
   ]
  },
  {
   "cell_type": "code",
   "execution_count": null,
   "id": "3596b4f3",
   "metadata": {},
   "outputs": [],
   "source": [
    "from glob import glob\n",
    "import pandas as pd\n",
    "import xarray as xr\n",
    "from pismragis.processing import convert_netcdf_to_dataframe, ncfile2dataframe\n",
    "from pismragis.analysis import prepare_df, sensitivity_analysis\n",
    "\n",
    "import pathlib\n",
    "import time\n",
    "from typing import Union\n",
    "\n",
    "import numpy as np\n",
    "import pandas as pd\n",
    "from joblib import Parallel, delayed\n",
    "from pandas.api.types import is_string_dtype\n",
    "from SALib.analyze import delta\n",
    "from scipy.interpolate import interp1d\n",
    "from tqdm import tqdm\n",
    "\n",
    "from pismragis.processing import tqdm_joblib\n"
   ]
  },
  {
   "cell_type": "code",
   "execution_count": null,
   "id": "1b977af1",
   "metadata": {},
   "outputs": [],
   "source": [
    "cd .."
   ]
  },
  {
   "cell_type": "code",
   "execution_count": null,
   "id": "ddd69472",
   "metadata": {},
   "outputs": [],
   "source": [
    "X_df = pd.read_parquet(\"tests/data/test_scalar_YM.parquet\")"
   ]
  },
  {
   "cell_type": "code",
   "execution_count": null,
   "id": "70d99baf",
   "metadata": {},
   "outputs": [],
   "source": [
    "    sens_vars = [\n",
    "        \"vcm\",\n",
    "        \"gamma_T\",\n",
    "        \"thickness_calving_threshold\",\n",
    "        \"ocean_file\",\n",
    "        \"sia_e\",\n",
    "        \"ssa_n\",\n",
    "        \"pseudo_plastic_q\",\n",
    "        \"till_effective_fraction_overburden\",\n",
    "        \"phi_min\",\n",
    "        \"phi_max\",\n",
    "        \"z_min\",\n",
    "        \"z_max\",\n",
    "    ]\n",
    "    sensitivity_indices: Union[str, list] = [\"delta\", \"S1\"]\n",
    "    calc_variables = [\"grounding_line_flux (Gt year-1)\", \n",
    "                      \"limnsw (kg)\"]\n",
    "    ensemble_file = \"tests/data/gris_ragis_ocean_simple_lhs_50_w_posterior.csv\"\n",
    "    ens_df = X_df"
   ]
  },
  {
   "cell_type": "code",
   "execution_count": null,
   "id": "ca0c3e76",
   "metadata": {},
   "outputs": [],
   "source": [
    "    \"\"\"\n",
    "    Calculate sensitivity indices using SALIB and return pd.DataFrame.\n",
    "\n",
    "    Parameters\n",
    "    ----------\n",
    "    df : pd.DataFrame\n",
    "        A DataFrame procduced with processing.convert_netcdf_to_dataframe\n",
    "    ensemble_file: str\n",
    "        A csv file that maps ensemble member id's to parameters\n",
    "    calc_variables: list\n",
    "        A list of variables for which sensitivity indices are calculated\n",
    "    n_jobs: int\n",
    "        Number of parallel workers\n",
    "    sensitivity_indices: str or list\n",
    "        A list of sensitivity indices\n",
    "\n",
    "    Returns\n",
    "    -------\n",
    "    pd.DataFrame\n",
    "        A Pandas DataFrame with sensitivity indices\n",
    "    \"\"\"\n",
    "\n",
    "    if isinstance(calc_variables, str):\n",
    "        calc_variables = [calc_variables]\n",
    "\n",
    "    if isinstance(sensitivity_indices, str):\n",
    "        sensitivity_indices = [sensitivity_indices]\n",
    "\n",
    "        print(\"Running sensitivity analysis\")\n",
    "    print(\"-------------------------------------------\\n\")\n",
    "    start_time = time.perf_counter()\n",
    "\n",
    "    # remove True/False\n",
    "    id_df = (pd.read_csv(ensemble_file) * 1).replace(np.nan, 0)\n",
    "\n",
    "    param_names = id_df.drop(columns=\"id\").columns.values.tolist()\n",
    "    for k, col in id_df.items():\n",
    "        if is_string_dtype(col):\n",
    "            u = col.unique()\n",
    "            u.sort()\n",
    "            v = [k for k, v in enumerate(u)]\n",
    "            col.replace(to_replace=dict(zip(u, v)), inplace=True)\n",
    "    # Define a salib \"problem\"\n",
    "    problem = {\n",
    "        \"num_vars\": len(id_df.drop(columns=\"id\").columns.values),\n",
    "        \"names\": param_names,  # Parameter names\n",
    "        \"bounds\": zip(\n",
    "            id_df.drop(columns=\"id\").min().values,\n",
    "            id_df.drop(columns=\"id\").max().values,\n",
    "        ),  # Parameter bounds\n",
    "    }\n",
    "\n",
    "    df = pd.merge(id_df, ens_df, on=\"id\")\n",
    "    # filter out dates with only 1 experiment, e.g., due to\n",
    "    # CDO changing the mid-point time when running averaging\n",
    "    df = pd.concat([x for _, x in df.groupby(by=\"time\") if len(x) > 1])\n",
    "    n_dates = len(df[\"time\"].unique())\n"
   ]
  },
  {
   "cell_type": "code",
   "execution_count": null,
   "id": "8fcaa1af",
   "metadata": {},
   "outputs": [],
   "source": [
    "    verbose = False\n",
    "    missing_ids = list(set(id_df[\"id\"]).difference(s_df[\"id\"]))\n",
    "    if missing_ids:\n",
    "        if verbose:\n",
    "            print(f\"The following simulation ids are missing:\\n   {missing_ids}\")\n",
    "\n",
    "        id_df_missing_removed = id_df[~id_df[\"id\"].isin(missing_ids)]\n",
    "        params = np.array(\n",
    "            id_df_missing_removed.drop(columns=\"id\").values, dtype=np.float32\n",
    "        )\n",
    "    else:\n",
    "        params = np.array(id_df.drop(columns=\"id\").values, dtype=np.float32)\n"
   ]
  },
  {
   "cell_type": "code",
   "execution_count": null,
   "id": "4563e96c",
   "metadata": {},
   "outputs": [],
   "source": [
    "dates = []\n",
    "s_dfs = []\n",
    "for m_date, s_df in df.groupby(by=\"time\"):\n",
    "    dates.append(m_date)\n",
    "    s_dfs.append(s_df)"
   ]
  },
  {
   "cell_type": "code",
   "execution_count": null,
   "id": "ef48dd5e",
   "metadata": {},
   "outputs": [],
   "source": [
    "m_date = dates[0]\n",
    "s_df = s_dfs[0]"
   ]
  },
  {
   "cell_type": "code",
   "execution_count": null,
   "id": "fee956ec",
   "metadata": {},
   "outputs": [],
   "source": [
    "seed = 42\n",
    "for i in range(4):\n",
    "    for calc_variable in calc_variables:\n",
    "        response_matrix = s_df[calc_variable].values\n",
    "        Si = delta.analyze(\n",
    "            problem,\n",
    "            params,\n",
    "            response_matrix,\n",
    "            num_resamples=100,\n",
    "            print_to_console=False,\n",
    "            seed=None\n",
    "        )\n",
    "        Si_df = Si.to_df()\n",
    "        print(Si_df.head())\n"
   ]
  },
  {
   "cell_type": "code",
   "execution_count": null,
   "id": "5e2e630e",
   "metadata": {},
   "outputs": [],
   "source": [
    "delta.analyze?"
   ]
  },
  {
   "cell_type": "code",
   "execution_count": null,
   "id": "87f5ae37",
   "metadata": {},
   "outputs": [],
   "source": [
    "from SALib.test_functions import Ishigami\n",
    "from SALib.analyze import delta\n",
    "from SALib.sample import latin\n",
    "\n",
    "problem = {\n",
    "    'num_vars': 3,\n",
    "    'names': ['x1', 'x2', 'x3'],\n",
    "    'bounds': [[-3.14159265359, 3.14159265359],\n",
    "               [-3.14159265359, 3.14159265359],\n",
    "               [-3.14159265359, 3.14159265359]]\n",
    "}\n",
    "\n",
    "X = latin.sample(problem, 1000)\n",
    "Y = Ishigami.evaluate(X)\n",
    "for _ in range(4):\n",
    "    Si = delta.analyze(problem, X, Y, print_to_console=True, seed=42)\n",
    "    print(Si.to_df().head())"
   ]
  },
  {
   "cell_type": "code",
   "execution_count": null,
   "id": "8e495aba",
   "metadata": {},
   "outputs": [],
   "source": [
    "import SALib"
   ]
  },
  {
   "cell_type": "code",
   "execution_count": null,
   "id": "ec597cc1",
   "metadata": {},
   "outputs": [],
   "source": [
    "    seed = 42\n",
    "\n",
    "    sens_vars = [\n",
    "        \"vcm\",\n",
    "        \"gamma_T\",\n",
    "        \"thickness_calving_threshold\",\n",
    "        \"ocean_file\",\n",
    "        \"sia_e\",\n",
    "        \"ssa_n\",\n",
    "        \"pseudo_plastic_q\",\n",
    "        \"till_effective_fraction_overburden\",\n",
    "        \"phi_min\",\n",
    "        \"phi_max\",\n",
    "        \"z_min\",\n",
    "        \"z_max\",\n",
    "    ]\n"
   ]
  },
  {
   "cell_type": "code",
   "execution_count": null,
   "id": "5a7de8c9",
   "metadata": {},
   "outputs": [],
   "source": [
    "    X_df = pd.read_parquet(\"tests/data/test_scalar_YM.parquet\")\n",
    "    # Y_true = pd.read_parquet(\"tests/data/test_sensitivity.parquet\")[sens_vars].mean()\n",
    "    ensemble_file = \"tests/data/gris_ragis_ocean_simple_lhs_50_w_posterior.csv\"\n",
    "    for n_jobs in [1]:\n",
    "        Y = sensitivity_analysis(\n",
    "            X_df, ensemble_file=ensemble_file, n_jobs=n_jobs, seed=seed\n",
    "        )[sens_vars].mean()\n",
    "        assert_array_almost_equal(Y, Y_true, decimal=True)\n"
   ]
  },
  {
   "cell_type": "code",
   "execution_count": null,
   "id": "50b9ccce",
   "metadata": {},
   "outputs": [],
   "source": [
    "from numpy.testing import assert_array_almost_equal\n",
    "from pandas.testing import assert_frame_equal\n"
   ]
  },
  {
   "cell_type": "code",
   "execution_count": null,
   "id": "6c0e0390",
   "metadata": {},
   "outputs": [],
   "source": [
    "Y_true = sensitivity_analysis(\n",
    "            X_df, ensemble_file=ensemble_file, n_jobs=n_jobs, seed=seed\n",
    "        )\n",
    "Y_true.to_parquet(\"tests/data/test_sensitivity.parquet\")"
   ]
  },
  {
   "cell_type": "code",
   "execution_count": null,
   "id": "8339831c",
   "metadata": {},
   "outputs": [],
   "source": [
    "assert_frame_equal(Y, Y_true)"
   ]
  },
  {
   "cell_type": "code",
   "execution_count": null,
   "id": "9ed704fc",
   "metadata": {},
   "outputs": [],
   "source": [
    "Y_true_df = pd.read_parquet(\"tests/data/test_sensitivity.parquet\")"
   ]
  },
  {
   "cell_type": "code",
   "execution_count": null,
   "id": "a7c2cbe7",
   "metadata": {},
   "outputs": [],
   "source": [
    "Y_true"
   ]
  },
  {
   "cell_type": "code",
   "execution_count": null,
   "id": "f293a4e6",
   "metadata": {},
   "outputs": [],
   "source": [
    "\n",
    "X_df = pd.read_parquet(\"tests/data/test_scalar_YM.parquet\")\n",
    "\n"
   ]
  },
  {
   "cell_type": "code",
   "execution_count": null,
   "id": "8995a20d",
   "metadata": {},
   "outputs": [],
   "source": [
    "    ds = xr.open_mfdataset(\n",
    "        \"tests/data/ts_gris_g1200m_v2023_RAGIS_id_*.nc\",\n",
    "        combine=\"nested\",\n",
    "        concat_dim=\"id\",\n",
    "        parallel=True,\n",
    "    )\n",
    "    ens_vars = [\"grounding_line_flux\", \"limnsw\"]\n",
    "    ens = (\n",
    "        ds.sel(time=slice(\"1980-01-01\", \"1983-01-01\"))[ens_vars]\n",
    "        .resample(time=\"1AS\")\n",
    "        .mean()\n",
    "    )\n",
    "    X_xr_df = ens.to_dataframe().reset_index().dropna()\n"
   ]
  },
  {
   "cell_type": "code",
   "execution_count": null,
   "id": "1a7159da",
   "metadata": {},
   "outputs": [],
   "source": [
    "X_df.sort_values(by=[\"time\", \"id\"])"
   ]
  },
  {
   "cell_type": "code",
   "execution_count": null,
   "id": "695e9274",
   "metadata": {},
   "outputs": [],
   "source": [
    "X_xr_df.sort_values(by=[\"time\", \"id\"])"
   ]
  },
  {
   "cell_type": "code",
   "execution_count": null,
   "id": "df0149e1",
   "metadata": {},
   "outputs": [],
   "source": [
    "ens_vars_dict = {\"grounding_line_flux\": \"grounding_line_flux (Gt year-1)\", \"limnsw\": \"limnsw (kg)\"}\n"
   ]
  },
  {
   "cell_type": "code",
   "execution_count": null,
   "id": "ed13de1b",
   "metadata": {},
   "outputs": [],
   "source": [
    "ens_vars.keys()"
   ]
  },
  {
   "cell_type": "code",
   "execution_count": null,
   "id": "1403f33a",
   "metadata": {},
   "outputs": [],
   "source": [
    "    ds = xr.open_mfdataset(\n",
    "        \"tests/data/ts_gris_g1200m_v2023_RAGIS_id_*.nc\",\n",
    "        combine=\"nested\",\n",
    "        concat_dim=\"id\",\n",
    "        parallel=True,\n",
    "    )\n",
    "    ens_vars = [\"grounding_line_flux\", \"limnsw\"]\n",
    "    ens = (\n",
    "        ds.sel(time=slice(\"1980-01-01\", \"1983-01-01\"))[ens_vars_dict.keys()]\n",
    "        .resample(time=\"1AS\")\n",
    "        .mean()\n",
    "    )\n",
    "    X_xr_df = ens.to_dataframe().rename(columns=ens_vars_dict).reset_index().dropna()\n"
   ]
  },
  {
   "cell_type": "code",
   "execution_count": null,
   "id": "21758228",
   "metadata": {},
   "outputs": [],
   "source": [
    "X_df"
   ]
  },
  {
   "cell_type": "code",
   "execution_count": null,
   "id": "a2c9a9e2",
   "metadata": {},
   "outputs": [],
   "source": [
    "    X_df = pd.read_parquet(\"tests/data/test_scalar_YM.parquet\")\n",
    "    Y_true = pd.read_parquet(\"tests/data/test_sensitivity.parquet\")\n",
    "    ensemble_file = \"tests/data/gris_ragis_ocean_simple_lhs_50_w_posterior.csv\"\n",
    "    for n_jobs in [1, 2, 4]:\n",
    "        Y = sensitivity_analysis(\n",
    "            X_df, ensemble_file=ensemble_file, n_jobs=n_jobs, seed=seed\n",
    "        )\n",
    "        assert_frame_equal(Y, Y_true)\n"
   ]
  },
  {
   "cell_type": "code",
   "execution_count": null,
   "id": "d2b1e55d",
   "metadata": {},
   "outputs": [],
   "source": [
    "    ds = xr.open_mfdataset(\n",
    "        \"tests/data/ts_gris_g1200m_v2023_RAGIS_id_*.nc\",\n",
    "        combine=\"nested\",\n",
    "        concat_dim=\"id\",\n",
    "        parallel=True,\n",
    "    )\n",
    "    ens = (\n",
    "        ds.sel(time=slice(\"1980-01-01\", \"1983-01-01\"))[ens_vars_dict.keys()]\n",
    "        .resample(time=\"1AS\")\n",
    "        .mean()\n",
    "    )\n",
    "    X_xr_df = ens.to_dataframe().rename(columns=ens_vars_dict).reset_index().dropna()\n",
    "\n",
    "    Y_true_df = pd.read_parquet(\"tests/data/test_sensitivity.parquet\")\n",
    "    ensemble_file = \"tests/data/gris_ragis_ocean_simple_lhs_50_w_posterior.csv\"\n",
    "    for n_jobs in [1, 2, 4]:\n",
    "        Y_xr_df = sensitivity_analysis(\n",
    "            X_xr_df,\n",
    "            ensemble_file=ensemble_file,\n",
    "            n_jobs=n_jobs,\n",
    "            seed=seed,\n",
    "        )\n",
    "        assert_frame_equal(Y_xr_df, Y_true_df)\n"
   ]
  },
  {
   "cell_type": "code",
   "execution_count": null,
   "id": "4b037839",
   "metadata": {},
   "outputs": [],
   "source": [
    "Y_xr_df[\"vcm\"]-Y_df[\"vcm\"]"
   ]
  },
  {
   "cell_type": "code",
   "execution_count": null,
   "id": "942fb12e",
   "metadata": {},
   "outputs": [],
   "source": [
    "Y_df[\"vcm\"]"
   ]
  },
  {
   "cell_type": "code",
   "execution_count": null,
   "id": "0011ea22",
   "metadata": {},
   "outputs": [],
   "source": [
    "assert_frame_equal(Y_xr_df, Y_df)"
   ]
  },
  {
   "cell_type": "code",
   "execution_count": null,
   "id": "c4c2563f",
   "metadata": {},
   "outputs": [],
   "source": [
    "Y_true_df"
   ]
  },
  {
   "cell_type": "code",
   "execution_count": null,
   "id": "22783892",
   "metadata": {},
   "outputs": [],
   "source": [
    "Y_df.to_parquet(\"tests/data/test_sensitivity.parquet\")"
   ]
  },
  {
   "cell_type": "code",
   "execution_count": null,
   "id": "0d74f8ad",
   "metadata": {},
   "outputs": [],
   "source": [
    "    ds = xr.open_mfdataset(\n",
    "        \"tests/data/ts_gris_g1200m_v2023_RAGIS_id_*.nc\",\n",
    "        combine=\"nested\",\n",
    "        concat_dim=\"id\",\n",
    "        parallel=True,\n",
    "    )\n",
    "    ens = (\n",
    "        ds.sel(time=slice(\"1980-01-01\", \"1982-01-01\"))[ens_vars_dict.keys()]\n",
    "        .resample(time=\"1AS\")\n",
    "        .mean()\n",
    "    )\n",
    "    X_df = ens.to_dataframe().rename(columns=ens_vars_dict).reset_index().dropna()\n",
    "\n",
    "    Y_true_df = pd.read_parquet(\"tests/data/test_sensitivity.parquet\")\n",
    "    ensemble_file = \"tests/data/gris_ragis_ocean_simple_lhs_50_w_posterior.csv\"\n",
    "    for n_jobs in [1, 2, 4]:\n",
    "        Y_df = sensitivity_analysis(\n",
    "            X_df,\n",
    "            ensemble_file=ensemble_file,\n",
    "            n_jobs=n_jobs,\n",
    "            seed=seed,\n",
    "        )\n",
    "        assert_frame_equal(Y_df, Y_true_df)\n"
   ]
  },
  {
   "cell_type": "code",
   "execution_count": null,
   "id": "7b319e75",
   "metadata": {},
   "outputs": [],
   "source": [
    "    X_df = pd.read_parquet(\"tests/data/test_scalar_YM.parquet\")\n",
    "    Y_df_true = pd.read_parquet(\"tests/data/test_sensitivity.parquet\")\n",
    "    ensemble_file = \"tests/data/gris_ragis_ocean_simple_lhs_50_w_posterior.csv\"\n",
    "    for n_jobs in [1, 2, 4]:\n",
    "        Y_df = sensitivity_analysis(\n",
    "            X_df, ensemble_file=ensemble_file, n_jobs=n_jobs, seed=seed\n",
    "        )\n",
    "        assert_frame_equal(Y_df, Y_true_df)\n"
   ]
  },
  {
   "cell_type": "code",
   "execution_count": null,
   "id": "410957d8",
   "metadata": {},
   "outputs": [],
   "source": [
    "Y_df"
   ]
  },
  {
   "cell_type": "code",
   "execution_count": null,
   "id": "459e6b9a",
   "metadata": {},
   "outputs": [],
   "source": [
    "Y_df"
   ]
  },
  {
   "cell_type": "code",
   "execution_count": null,
   "id": "fb6e118e",
   "metadata": {},
   "outputs": [],
   "source": [
    "    ds = xr.open_mfdataset(\n",
    "        \"tests/data/ts_gris_g1200m_v2023_RAGIS_id_*.nc\",\n",
    "        combine=\"nested\",\n",
    "        concat_dim=\"id\",\n",
    "        parallel=True,\n",
    "    )\n",
    "    ens = (\n",
    "        ds.sel(time=slice(\"1980-01-01\", \"1983-01-01\"))[ens_vars_dict.keys()]\n",
    "        .resample(time=\"1AS\")\n",
    "        .mean()\n",
    "    )\n",
    "    X_xr_df = ens.to_dataframe().rename(columns=ens_vars_dict).reset_index().dropna()\n",
    "\n",
    "    Y_true_df = pd.read_parquet(\"tests/data/test_sensitivity.parquet\")\n",
    "    ensemble_file = \"tests/data/gris_ragis_ocean_simple_lhs_50_w_posterior.csv\"\n",
    "    for n_jobs in [1, 2, 4]:\n",
    "        Y_xr_df = sensitivity_analysis(\n",
    "            X_xr_df,\n",
    "            ensemble_file=ensemble_file,\n",
    "            n_jobs=n_jobs,\n",
    "            seed=seed,\n",
    "        )\n",
    "        assert_frame_equal(Y_xr_df, Y_true_df)\n"
   ]
  },
  {
   "cell_type": "code",
   "execution_count": null,
   "id": "c131b596",
   "metadata": {},
   "outputs": [],
   "source": [
    "    X_df = pd.read_parquet(\"tests/data/test_scalar_YM.parquet\")\n",
    "    Y_true_df = pd.read_parquet(\"tests/data/test_sensitivity.parquet\")\n",
    "    ensemble_file = \"tests/data/gris_ragis_ocean_simple_lhs_50_w_posterior.csv\"\n",
    "    for n_jobs in [1, 2, 4]:\n",
    "        Y_df = sensitivity_analysis(\n",
    "            X_df, ensemble_file=ensemble_file, n_jobs=n_jobs, seed=seed\n",
    "        )\n",
    "        assert_frame_equal(Y_df, Y_true_df)\n"
   ]
  },
  {
   "cell_type": "code",
   "execution_count": null,
   "id": "3ffd9728",
   "metadata": {},
   "outputs": [],
   "source": [
    "X_df.sort_values(by=[\"time\", \"id\"])"
   ]
  },
  {
   "cell_type": "code",
   "execution_count": null,
   "id": "edbf1d94",
   "metadata": {},
   "outputs": [],
   "source": [
    "X_xr_df.sort_values(by=[\"time\", \"id\"])"
   ]
  },
  {
   "cell_type": "code",
   "execution_count": null,
   "id": "83309a73",
   "metadata": {},
   "outputs": [],
   "source": [
    "    X_df = (\n",
    "        pd.read_parquet(\"tests/data/test_scalar_YM.parquet\")\n",
    "        .drop(columns=[\"Year\", \"resolution_m\"])\n",
    "        .sort_values(by=[\"time\", \"id\"])\n",
    "        .reset_index(drop=True)\n",
    "    )\n"
   ]
  },
  {
   "cell_type": "code",
   "execution_count": null,
   "id": "15a6a572",
   "metadata": {},
   "outputs": [],
   "source": [
    "    ds = xr.open_mfdataset(\n",
    "        \"tests/data/ts_gris_g1200m_v2023_RAGIS_id_*.nc\",\n",
    "        combine=\"nested\",\n",
    "        concat_dim=\"exp\",\n",
    "        parallel=True,\n",
    "    )\n",
    "    ens = (\n",
    "        ds.sel(time=slice(\"1980-01-01\", \"1983-01-01\"))[ens_vars_dict.keys()]\n",
    "        .resample(time=\"1AS\")\n",
    "        .mean()\n",
    "    )\n",
    "    X_xr_df = (\n",
    "        ens.to_dataframe()\n",
    "        .rename(columns=ens_vars_dict)\n",
    "        .sort_values(by=[\"time\", \"id\"])\n",
    "        .reset_index()\n",
    "    )\n"
   ]
  },
  {
   "cell_type": "code",
   "execution_count": null,
   "id": "184dd77e",
   "metadata": {},
   "outputs": [],
   "source": [
    "assert_frame_equal(X_df, X_xr_df)"
   ]
  },
  {
   "cell_type": "code",
   "execution_count": null,
   "id": "aac9c4a5",
   "metadata": {},
   "outputs": [],
   "source": [
    "ds[\"exp\"]"
   ]
  },
  {
   "cell_type": "code",
   "execution_count": null,
   "id": "3317f1d8",
   "metadata": {},
   "outputs": [],
   "source": [
    "X_xr_df"
   ]
  },
  {
   "cell_type": "code",
   "execution_count": null,
   "id": "50b37864",
   "metadata": {},
   "outputs": [],
   "source": [
    "ens.to_dataframe().reset_index()"
   ]
  },
  {
   "cell_type": "code",
   "execution_count": null,
   "id": "62f92bb5",
   "metadata": {},
   "outputs": [],
   "source": [
    "X_df[\"id\"].unique()"
   ]
  },
  {
   "cell_type": "code",
   "execution_count": null,
   "id": "0dabe31c",
   "metadata": {},
   "outputs": [],
   "source": [
    "xr.open_mfdataset?"
   ]
  },
  {
   "cell_type": "code",
   "execution_count": null,
   "id": "136c64a8",
   "metadata": {},
   "outputs": [],
   "source": [
    "ds.encoding[\"source\"]"
   ]
  },
  {
   "cell_type": "code",
   "execution_count": null,
   "id": "6662ab4c",
   "metadata": {},
   "outputs": [],
   "source": [
    "import re"
   ]
  },
  {
   "cell_type": "code",
   "execution_count": null,
   "id": "f00b5afc",
   "metadata": {},
   "outputs": [],
   "source": [
    "\n",
    "ds = xr.open_mfdataset(\n",
    "    \"tests/data/ts_gris_g1200m_v2023_RAGIS_id_*.nc\",\n",
    "    combine=\"nested\",\n",
    "    concat_dim=\"id\",\n",
    "    parallel=True,\n",
    "    preprocess=preprocess\n",
    "    )\n"
   ]
  },
  {
   "cell_type": "code",
   "execution_count": null,
   "id": "bd2f6590",
   "metadata": {},
   "outputs": [],
   "source": [
    "def preprocess(ds):\n",
    "    m_id_re = re.search(\"id_(.+?)_\", ds.encoding[\"source\"])\n",
    "    ds.expand_dims(\"id\")\n",
    "    assert m_id_re is not None\n",
    "    m_id: Union[str, int]\n",
    "    try:\n",
    "        m_id = int(m_id_re.group(1))\n",
    "    except:\n",
    "        m_id = str(m_id_re.group(1))    \n",
    "    ds[\"id\"] = m_id\n",
    "    return ds"
   ]
  },
  {
   "cell_type": "code",
   "execution_count": null,
   "id": "36a31e3c",
   "metadata": {},
   "outputs": [],
   "source": [
    "\n",
    "ds[\"id\"]"
   ]
  },
  {
   "cell_type": "code",
   "execution_count": null,
   "id": "6b390c0c",
   "metadata": {},
   "outputs": [],
   "source": [
    "m_id_re"
   ]
  },
  {
   "cell_type": "code",
   "execution_count": null,
   "id": "92e16776",
   "metadata": {},
   "outputs": [],
   "source": [
    "\n"
   ]
  },
  {
   "cell_type": "code",
   "execution_count": null,
   "id": "52082fee",
   "metadata": {},
   "outputs": [],
   "source": [
    "m_id"
   ]
  },
  {
   "cell_type": "code",
   "execution_count": null,
   "id": "6248d8b1",
   "metadata": {},
   "outputs": [],
   "source": [
    "cd .."
   ]
  },
  {
   "cell_type": "code",
   "execution_count": null,
   "id": "cbff570e",
   "metadata": {},
   "outputs": [],
   "source": [
    "X_xr_df.mean()"
   ]
  },
  {
   "cell_type": "code",
   "execution_count": null,
   "id": "8dbe6404",
   "metadata": {},
   "outputs": [],
   "source": [
    "    X_df = (\n",
    "        pd.read_parquet(\"tests/data/test_scalar_YM.parquet\")\n",
    "        .drop(columns=[\"Year\", \"resolution_m\"])\n",
    "        .sort_values(by=[\"time\", \"id\"])\n",
    "        .reset_index(drop=True)\n",
    "    )\n"
   ]
  },
  {
   "cell_type": "code",
   "execution_count": null,
   "id": "7196947c",
   "metadata": {},
   "outputs": [],
   "source": [
    "X_df.mean()"
   ]
  },
  {
   "cell_type": "code",
   "execution_count": null,
   "id": "b731d920",
   "metadata": {},
   "outputs": [],
   "source": [
    "    ds = xr.open_mfdataset(\n",
    "        \"tests/data/ts_gris_g1200m_v2023_RAGIS_id_*.nc\",\n",
    "        combine=\"nested\",\n",
    "        concat_dim=\"id\",\n",
    "        preprocess=nc_add_id,\n",
    "        parallel=True,\n",
    "    )\n",
    "    ens = (\n",
    "        ds.sel(time=slice(\"1980-01-01\", \"1982-01-01\"))[ens_vars_dict.keys()]\n",
    "        .resample(time=\"1YS\")\n",
    "        .mean()\n",
    "    )\n",
    "    X_xr_df = (\n",
    "        ens.to_dataframe()\n",
    "        .rename(columns=ens_vars_dict)\n",
    "        .reset_index()\n",
    "        .dropna()\n",
    "        .sort_values(by=[\"time\", \"id\"])\n",
    "        .reset_index(drop=True)\n",
    "    )"
   ]
  },
  {
   "cell_type": "code",
   "execution_count": null,
   "id": "dd29ee9b",
   "metadata": {},
   "outputs": [],
   "source": [
    "ens_vars_dict = {\n",
    "    \"grounding_line_flux\": \"grounding_line_flux (Gt year-1)\",\n",
    "    \"limnsw\": \"limnsw (kg)\",\n",
    "}\n"
   ]
  },
  {
   "cell_type": "code",
   "execution_count": null,
   "id": "694c356d",
   "metadata": {},
   "outputs": [],
   "source": [
    "assert_frame_equal(X_df, X_xr_df)"
   ]
  },
  {
   "cell_type": "code",
   "execution_count": null,
   "id": "e6d89121",
   "metadata": {},
   "outputs": [],
   "source": [
    "X_df\n"
   ]
  },
  {
   "cell_type": "code",
   "execution_count": null,
   "id": "ef74591d",
   "metadata": {},
   "outputs": [],
   "source": [
    "X_xr_df"
   ]
  },
  {
   "cell_type": "code",
   "execution_count": null,
   "id": "d8f157c6",
   "metadata": {},
   "outputs": [],
   "source": [
    "X_df[\"grounding_line_flux (Gt year-1)\"]"
   ]
  },
  {
   "cell_type": "code",
   "execution_count": 72,
   "id": "dcc975b7",
   "metadata": {},
   "outputs": [],
   "source": [
    "def test_sensitivity_analysis_from_xarray():\n",
    "    ds = xr.open_mfdataset(\n",
    "        \"tests/data/ts_gris_g1200m_v2023_RAGIS_id_*.nc\",\n",
    "        combine=\"nested\",\n",
    "        concat_dim=\"id\",\n",
    "        preprocess=nc_add_id,\n",
    "        parallel=True,\n",
    "    )\n",
    "    ens = (\n",
    "        ds.sel(time=slice(\"1980-01-01\", \"1982-01-01\"))[ens_vars_dict.keys()]\n",
    "        .resample(time=\"1AS\")\n",
    "        .mean()\n",
    "    )\n",
    "    X_df = (\n",
    "        ens.to_dataframe()\n",
    "        .rename(columns=ens_vars_dict)\n",
    "        .reset_index()\n",
    "        .dropna()\n",
    "        .sort_values(by=[\"time\", \"id\"])\n",
    "        .reset_index(drop=True)\n",
    "    )\n",
    "\n",
    "    Y_true_df = pd.read_parquet(\"tests/data/test_sensitivity.parquet\")\n",
    "    ensemble_file = \"tests/data/gris_ragis_ocean_simple_lhs_50_w_posterior.csv\"\n",
    "    for n_jobs in [1, 2]:\n",
    "        Y_df = sensitivity_analysis(\n",
    "            X_df,\n",
    "            ensemble_file=ensemble_file,\n",
    "            n_jobs=n_jobs,\n",
    "            seed=seed,\n",
    "        )\n",
    "        assert_frame_equal(Y_df, Y_true_df, atol=1e-1, rtol=1e-6)\n"
   ]
  },
  {
   "cell_type": "code",
   "execution_count": 78,
   "id": "fa7658de",
   "metadata": {},
   "outputs": [
    {
     "name": "stdout",
     "output_type": "stream",
     "text": [
      "-------------------------------------------\n",
      "\n",
      "Program finished in 4 seconds\n",
      "-------------------------------------------\n",
      "\n"
     ]
    },
    {
     "name": "stderr",
     "output_type": "stream",
     "text": [
      "Processing date: 100%|███████████████████████████████████████████████████████████████████████████████████████████████████████████████████████████████████████████████████████████████████████████████████████████████████████████████████████████████████████████████████████████████████████████████████████████████████████████████████████████████████████████████████████| 3/3 [00:03<00:00,  1.03s/it]"
     ]
    },
    {
     "name": "stdout",
     "output_type": "stream",
     "text": [
      "Program finished in 3 seconds\n"
     ]
    },
    {
     "name": "stderr",
     "output_type": "stream",
     "text": [
      "\n"
     ]
    }
   ],
   "source": [
    "\n",
    "test_sensitivity_analysis_from_xarray()"
   ]
  },
  {
   "cell_type": "code",
   "execution_count": 77,
   "id": "cb702f78",
   "metadata": {},
   "outputs": [
    {
     "name": "stdout",
     "output_type": "stream",
     "text": [
      "/Users/andy/base/pism-ragis\n"
     ]
    }
   ],
   "source": [
    "cd .."
   ]
  },
  {
   "cell_type": "code",
   "execution_count": null,
   "id": "006ecbfa",
   "metadata": {},
   "outputs": [],
   "source": []
  }
 ],
 "metadata": {
  "kernelspec": {
   "display_name": "Python 3 (ipykernel)",
   "language": "python",
   "name": "python3"
  },
  "language_info": {
   "codemirror_mode": {
    "name": "ipython",
    "version": 3
   },
   "file_extension": ".py",
   "mimetype": "text/x-python",
   "name": "python",
   "nbconvert_exporter": "python",
   "pygments_lexer": "ipython3",
   "version": "3.11.5"
  }
 },
 "nbformat": 4,
 "nbformat_minor": 5
}
