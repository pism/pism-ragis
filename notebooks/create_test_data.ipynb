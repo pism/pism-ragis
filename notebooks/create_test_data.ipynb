{
 "cells": [
  {
   "cell_type": "code",
   "execution_count": 1,
   "id": "614ee8eb",
   "metadata": {},
   "outputs": [],
   "source": [
    "from glob import glob\n",
    "import pandas as pd\n",
    "from pismragis.processing import convert_netcdf_to_dataframe, ncfile2dataframe\n",
    "from pismragis.analysis import prepare_df"
   ]
  },
  {
   "cell_type": "code",
   "execution_count": 2,
   "id": "7be7322c",
   "metadata": {},
   "outputs": [
    {
     "name": "stdout",
     "output_type": "stream",
     "text": [
      "Converting netcdf files to pandas.DataFrame\n",
      "-------------------------------------------\n"
     ]
    },
    {
     "name": "stderr",
     "output_type": "stream",
     "text": [
      "Processing files: 100%|██████████████████████████████████████████████████████████████████████████████████████████████████████| 24/24 [00:01<00:00, 17.82it/s]\n"
     ]
    },
    {
     "name": "stdout",
     "output_type": "stream",
     "text": [
      "Conversion finished in 1 seconds\n",
      "-------------------------------------------\n"
     ]
    }
   ],
   "source": [
    "infiles = glob(\"../tests/data/ts_gris_g1200m_v2023_RAGIS_id_*_1980-1-1_2020-1-1.nc\")\n",
    "df = convert_netcdf_to_dataframe(infiles, add_vars=False)\n",
    "df.to_parquet(\"../tests/data/test_scalar.parquet\")\n",
    "df.to_csv(\"../tests/data/test_scalar.csv\")\n",
    "\n"
   ]
  },
  {
   "cell_type": "code",
   "execution_count": 3,
   "id": "b6a08881",
   "metadata": {},
   "outputs": [
    {
     "name": "stdout",
     "output_type": "stream",
     "text": [
      "Converting netcdf files to pandas.DataFrame\n",
      "-------------------------------------------\n"
     ]
    },
    {
     "name": "stderr",
     "output_type": "stream",
     "text": [
      "Processing files: 100%|█████████████████████████████████████████████████████████████████████████████████████████████████████| 24/24 [00:00<00:00, 133.61it/s]"
     ]
    },
    {
     "name": "stdout",
     "output_type": "stream",
     "text": [
      "Conversion finished in 0 seconds\n",
      "-------------------------------------------\n"
     ]
    },
    {
     "name": "stderr",
     "output_type": "stream",
     "text": [
      "\n"
     ]
    }
   ],
   "source": [
    "df = convert_netcdf_to_dataframe(infiles, add_vars=False, resample=\"yearly\")\n",
    "df.to_parquet(\"../tests/data/test_scalar_YM.parquet\")\n",
    "df.to_csv(\"../tests/data/test_scalar_YM.csv\")\n",
    "\n"
   ]
  },
  {
   "cell_type": "code",
   "execution_count": 4,
   "id": "48adb96e",
   "metadata": {},
   "outputs": [
    {
     "name": "stdout",
     "output_type": "stream",
     "text": [
      "Converting netcdf files to pandas.DataFrame\n",
      "-------------------------------------------\n"
     ]
    },
    {
     "name": "stderr",
     "output_type": "stream",
     "text": [
      "Processing files: 100%|█████████████████████████████████████████████████████████████████████████████████████████████████████| 24/24 [00:00<00:00, 108.99it/s]\n"
     ]
    },
    {
     "name": "stdout",
     "output_type": "stream",
     "text": [
      "Conversion finished in 0 seconds\n",
      "-------------------------------------------\n"
     ]
    }
   ],
   "source": [
    "df = convert_netcdf_to_dataframe(infiles, add_vars=True)\n",
    "df.to_parquet(\"../tests/data/test_scalar_add_vars.parquet\")\n",
    "\n"
   ]
  },
  {
   "cell_type": "code",
   "execution_count": 5,
   "id": "756d917a",
   "metadata": {},
   "outputs": [],
   "source": [
    "infile = \"../tests/data/ts_gris_g1200m_v2023_RAGIS_id_0_1980-1-1_2020-1-1.nc\""
   ]
  },
  {
   "cell_type": "code",
   "execution_count": 6,
   "id": "b8a1504e",
   "metadata": {},
   "outputs": [],
   "source": [
    "df = ncfile2dataframe(infile, add_vars=False)\n",
    "df.to_parquet(\"../tests/data/test_scalar_file.parquet\")\n",
    "df.to_csv(\"../tests/data/test_scalar_file.csv\")"
   ]
  },
  {
   "cell_type": "code",
   "execution_count": 7,
   "id": "6242bbff",
   "metadata": {},
   "outputs": [],
   "source": [
    "df = ncfile2dataframe(infile, add_vars=False, resample=\"yearly\")\n",
    "df.to_parquet(\"../tests/data/test_scalar_file_YM.parquet\")\n",
    "df.to_csv(\"../tests/data/test_scalar_file_YM.csv\")"
   ]
  },
  {
   "cell_type": "code",
   "execution_count": 8,
   "id": "92615439",
   "metadata": {},
   "outputs": [],
   "source": [
    "df = ncfile2dataframe(infile, add_vars=True)\n",
    "df.to_parquet(\"../tests/data/test_scalar_file_add_vars.parquet\")\n",
    "df.to_csv(\"../tests/data/test_scalar_file_add_vars.csv\")"
   ]
  }
 ],
 "metadata": {
  "kernelspec": {
   "display_name": "Python 3 (ipykernel)",
   "language": "python",
   "name": "python3"
  },
  "language_info": {
   "codemirror_mode": {
    "name": "ipython",
    "version": 3
   },
   "file_extension": ".py",
   "mimetype": "text/x-python",
   "name": "python",
   "nbconvert_exporter": "python",
   "pygments_lexer": "ipython3",
   "version": "3.10.9"
  }
 },
 "nbformat": 4,
 "nbformat_minor": 5
}
