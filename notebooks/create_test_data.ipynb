{
 "cells": [
  {
   "cell_type": "code",
   "execution_count": 2,
   "id": "f420f640",
   "metadata": {},
   "outputs": [],
   "source": [
    "from glob import glob\n",
    "from pismragis.processing import convert_netcdf_to_dataframe, ncfile2dataframe"
   ]
  },
  {
   "cell_type": "code",
   "execution_count": null,
   "id": "9ed76d15",
   "metadata": {},
   "outputs": [],
   "source": [
    "infiles = glob(\"../tests/data/ts_gris_g1200m_v2023_RAGIS_id_*_1980-1-1_2020-1-1.nc\")\n",
    "df = convert_netcdf_to_dataframe(infiles, add_vars=False)\n",
    "df.to_parquet(\"../tests/data/test_scalar.parquet\")\n",
    "df.to_csv(\"../tests/data/test_scalar.csv\")\n",
    "\n"
   ]
  },
  {
   "cell_type": "code",
   "execution_count": null,
   "id": "f0386d82",
   "metadata": {},
   "outputs": [],
   "source": [
    "df = convert_netcdf_to_dataframe(infiles, add_vars=False, resample=\"yearly\")\n",
    "df.to_parquet(\"../tests/data/test_scalar_YM.parquet\")\n",
    "df.to_csv(\"../tests/data/test_scalar_YM.csv\")\n",
    "\n"
   ]
  },
  {
   "cell_type": "code",
   "execution_count": null,
   "id": "037f2250",
   "metadata": {},
   "outputs": [],
   "source": [
    "df = convert_netcdf_to_dataframe(infiles, add_vars=True)\n",
    "df.to_parquet(\"../tests/data/test_scalar_add_vars.parquet\")\n",
    "\n"
   ]
  },
  {
   "cell_type": "code",
   "execution_count": 1,
   "id": "d68f226e",
   "metadata": {},
   "outputs": [],
   "source": [
    "infile = \"../tests/data/ts_gris_g1200m_v2023_RAGIS_id_0_1980-1-1_2020-1-1.nc\""
   ]
  },
  {
   "cell_type": "code",
   "execution_count": 8,
   "id": "3780a03d",
   "metadata": {},
   "outputs": [],
   "source": [
    "df = ncfile2dataframe(infile, add_vars=False)\n",
    "df.to_parquet(\"../tests/data/test_scalar_file.parquet\")\n",
    "df.to_csv(\"../tests/data/test_scalar_file.csv\")"
   ]
  },
  {
   "cell_type": "code",
   "execution_count": 10,
   "id": "afdc0e8e",
   "metadata": {},
   "outputs": [],
   "source": [
    "df = ncfile2dataframe(infile, add_vars=False, resample=\"yearly\")\n",
    "df.to_parquet(\"../tests/data/test_scalar_file_YM.parquet\")\n",
    "df.to_csv(\"../tests/data/test_scalar_file_YM.csv\")"
   ]
  },
  {
   "cell_type": "code",
   "execution_count": 11,
   "id": "d36509fd",
   "metadata": {},
   "outputs": [],
   "source": [
    "df = ncfile2dataframe(infile, add_vars=True)\n",
    "df.to_parquet(\"../tests/data/test_scalar_file_add_vars.parquet\")\n",
    "df.to_csv(\"../tests/data/test_scalar_file_add_vars.csv\")"
   ]
  },
  {
   "cell_type": "code",
   "execution_count": null,
   "id": "5cc688ba",
   "metadata": {},
   "outputs": [],
   "source": []
  }
 ],
 "metadata": {
  "kernelspec": {
   "display_name": "Python 3 (ipykernel)",
   "language": "python",
   "name": "python3"
  },
  "language_info": {
   "codemirror_mode": {
    "name": "ipython",
    "version": 3
   },
   "file_extension": ".py",
   "mimetype": "text/x-python",
   "name": "python",
   "nbconvert_exporter": "python",
   "pygments_lexer": "ipython3",
   "version": "3.10.9"
  }
 },
 "nbformat": 4,
 "nbformat_minor": 5
}
