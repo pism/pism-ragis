{
 "cells": [
  {
   "cell_type": "code",
   "execution_count": 1,
   "id": "614ee8eb",
   "metadata": {},
   "outputs": [],
   "source": [
    "from glob import glob\n",
    "import pandas as pd\n",
    "import xarray as xr\n",
    "from pismragis.processing import convert_netcdf_to_dataframe, ncfile2dataframe\n",
    "from pismragis.analysis import prepare_df\n",
    "from pismragis.analysis import prepare_df, sensitivity_analysis\n"
   ]
  },
  {
   "cell_type": "code",
   "execution_count": null,
   "id": "7be7322c",
   "metadata": {},
   "outputs": [],
   "source": [
    "infiles = glob(\"../tests/data/ts_gris_g1200m_v2023_RAGIS_id_*_1980-1-1_2020-1-1.nc\")\n",
    "df = convert_netcdf_to_dataframe(infiles, add_vars=False)\n",
    "df.to_parquet(\"../tests/data/test_scalar.parquet\")\n",
    "df.to_csv(\"../tests/data/test_scalar.csv\")\n",
    "\n"
   ]
  },
  {
   "cell_type": "code",
   "execution_count": null,
   "id": "b6a08881",
   "metadata": {},
   "outputs": [],
   "source": [
    "df = convert_netcdf_to_dataframe(infiles, add_vars=False, resample=\"yearly\")\n",
    "df.to_parquet(\"../tests/data/test_scalar_YM.parquet\")\n",
    "df.to_csv(\"../tests/data/test_scalar_YM.csv\")\n",
    "\n"
   ]
  },
  {
   "cell_type": "code",
   "execution_count": null,
   "id": "48adb96e",
   "metadata": {},
   "outputs": [],
   "source": [
    "df = convert_netcdf_to_dataframe(infiles, add_vars=True)\n",
    "df.to_parquet(\"../tests/data/test_scalar_add_vars.parquet\")\n",
    "\n"
   ]
  },
  {
   "cell_type": "code",
   "execution_count": null,
   "id": "756d917a",
   "metadata": {},
   "outputs": [],
   "source": [
    "infile = \"../tests/data/ts_gris_g1200m_v2023_RAGIS_id_0_1980-1-1_2020-1-1.nc\""
   ]
  },
  {
   "cell_type": "code",
   "execution_count": null,
   "id": "b8a1504e",
   "metadata": {},
   "outputs": [],
   "source": [
    "df = ncfile2dataframe(infile, add_vars=False)\n",
    "df.to_parquet(\"../tests/data/test_scalar_file.parquet\")\n",
    "df.to_csv(\"../tests/data/test_scalar_file.csv\")"
   ]
  },
  {
   "cell_type": "code",
   "execution_count": null,
   "id": "6242bbff",
   "metadata": {},
   "outputs": [],
   "source": [
    "df = ncfile2dataframe(infile, add_vars=False, resample=\"yearly\")\n",
    "df.to_parquet(\"../tests/data/test_scalar_file_YM.parquet\")\n",
    "df.to_csv(\"../tests/data/test_scalar_file_YM.csv\")"
   ]
  },
  {
   "cell_type": "code",
   "execution_count": null,
   "id": "92615439",
   "metadata": {},
   "outputs": [],
   "source": [
    "df = ncfile2dataframe(infile, add_vars=True)\n",
    "df.to_parquet(\"../tests/data/test_scalar_file_add_vars.parquet\")\n",
    "df.to_csv(\"../tests/data/test_scalar_file_add_vars.csv\")"
   ]
  },
  {
   "cell_type": "code",
   "execution_count": 3,
   "id": "87f1971c",
   "metadata": {},
   "outputs": [],
   "source": [
    "X_df = pd.read_parquet(\"tests/data/test_scalar_YM.parquet\")"
   ]
  },
  {
   "cell_type": "code",
   "execution_count": 2,
   "id": "2819d8b4",
   "metadata": {},
   "outputs": [
    {
     "name": "stdout",
     "output_type": "stream",
     "text": [
      "/Users/andy/base/pism-ragis\n"
     ]
    }
   ],
   "source": [
    "cd ../"
   ]
  },
  {
   "cell_type": "code",
   "execution_count": null,
   "id": "d4ac73a3",
   "metadata": {},
   "outputs": [],
   "source": [
    "X_df"
   ]
  },
  {
   "cell_type": "code",
   "execution_count": 7,
   "id": "c65ac052",
   "metadata": {},
   "outputs": [],
   "source": [
    "df = X_df[X_df.time.between(\"1980-01-01\", \"1983-01-01\")]\n",
    "df.to_csv(\"tests/data/test_scalar_YM.csv\")\n",
    "df.to_parquet(\"tests/data/test_scalar_YM.parquet\")"
   ]
  },
  {
   "cell_type": "code",
   "execution_count": 4,
   "id": "ca43f662",
   "metadata": {},
   "outputs": [],
   "source": [
    "    sens_vars = [\n",
    "        \"vcm\",\n",
    "        \"gamma_T\",\n",
    "        \"thickness_calving_threshold\",\n",
    "        \"ocean_file\",\n",
    "        \"sia_e\",\n",
    "        \"ssa_n\",\n",
    "        \"pseudo_plastic_q\",\n",
    "        \"till_effective_fraction_overburden\",\n",
    "        \"phi_min\",\n",
    "        \"phi_max\",\n",
    "        \"z_min\",\n",
    "        \"z_max\",\n",
    "    ]\n"
   ]
  },
  {
   "cell_type": "code",
   "execution_count": 5,
   "id": "fee01e7f",
   "metadata": {},
   "outputs": [],
   "source": [
    "    ensemble_file = \"tests/data/gris_ragis_ocean_simple_lhs_50_w_posterior.csv\"\n"
   ]
  },
  {
   "cell_type": "code",
   "execution_count": 9,
   "id": "1c99c23b",
   "metadata": {},
   "outputs": [
    {
     "name": "stdout",
     "output_type": "stream",
     "text": [
      "-------------------------------------------\n",
      "\n"
     ]
    },
    {
     "name": "stderr",
     "output_type": "stream",
     "text": [
      "Processing date: 100%|███████████████████████████████████████████████████████████████████████████████████████████████████████████████████████████████████████████████████████████████████████████████████████████████████████████████████████████████████████████████████████████████████| 4/4 [00:07<00:00,  1.77s/it]"
     ]
    },
    {
     "name": "stdout",
     "output_type": "stream",
     "text": [
      "Program finished in 7 seconds\n"
     ]
    },
    {
     "name": "stderr",
     "output_type": "stream",
     "text": [
      "\n"
     ]
    }
   ],
   "source": [
    "n_jobs=4\n",
    "Y_true = sensitivity_analysis(df, ensemble_file=ensemble_file, n_jobs=n_jobs)[\n",
    "            sens_vars\n",
    "        ]"
   ]
  },
  {
   "cell_type": "code",
   "execution_count": null,
   "id": "0d7b7f11",
   "metadata": {},
   "outputs": [],
   "source": [
    "Y_true.to_parquet(\"tests/data/test_sensitivity.parquet\")"
   ]
  },
  {
   "cell_type": "code",
   "execution_count": null,
   "id": "8653f2b9",
   "metadata": {},
   "outputs": [],
   "source": [
    "ds = xr.open_mfdataset(\"tests/data/ts_gris_g1200m_v2023_RAGIS_id_*.nc\", combine=\"nested\", concat_dim=\"id\", parallel=True)"
   ]
  },
  {
   "cell_type": "code",
   "execution_count": null,
   "id": "88a1930c",
   "metadata": {},
   "outputs": [],
   "source": [
    "ens_vars = [\"grounding_line_flux\", \"limnsw\"]\n",
    "ens = ds.sel(time=slice(\"1980-01-01\" ,\"1983-01-01\"))[ens_vars].resample(time=\"1AS\").mean()\n",
    "ens_df = ens.to_dataframe().reset_index().dropna()"
   ]
  },
  {
   "cell_type": "code",
   "execution_count": null,
   "id": "d77cea83",
   "metadata": {},
   "outputs": [],
   "source": [
    "ens_vars"
   ]
  },
  {
   "cell_type": "code",
   "execution_count": null,
   "id": "d404955a",
   "metadata": {},
   "outputs": [],
   "source": [
    "n_jobs=4\n",
    "\n",
    "Y_true_xr = sensitivity_analysis(ens_df, ensemble_file=ensemble_file, n_jobs=n_jobs, calc_variables=ens_vars)[sens_vars]"
   ]
  },
  {
   "cell_type": "code",
   "execution_count": null,
   "id": "01616486",
   "metadata": {},
   "outputs": [],
   "source": [
    "ens_df"
   ]
  },
  {
   "cell_type": "code",
   "execution_count": null,
   "id": "07caf062",
   "metadata": {},
   "outputs": [],
   "source": [
    "Y_true.mean()"
   ]
  },
  {
   "cell_type": "code",
   "execution_count": null,
   "id": "1dfa6e80",
   "metadata": {},
   "outputs": [],
   "source": [
    "Y_true_xr.mean()"
   ]
  },
  {
   "cell_type": "code",
   "execution_count": null,
   "id": "a24c1d63",
   "metadata": {},
   "outputs": [],
   "source": [
    "Y_true"
   ]
  },
  {
   "cell_type": "code",
   "execution_count": 10,
   "id": "904a5dd4",
   "metadata": {},
   "outputs": [
    {
     "name": "stdout",
     "output_type": "stream",
     "text": [
      "-------------------------------------------\n",
      "\n"
     ]
    },
    {
     "name": "stderr",
     "output_type": "stream",
     "text": [
      "Processing date: 100%|███████████████████████████████████████████████████████████████████████████████████████████████████████████████████████████████████████████████████████████████████████████████████████████████████████████████████████████████████████████████████████████████████| 4/4 [00:05<00:00,  1.27s/it]\n"
     ]
    },
    {
     "name": "stdout",
     "output_type": "stream",
     "text": [
      "Program finished in 5 seconds\n",
      "        vcm   gamma_T  thickness_calving_threshold  ocean_file     sia_e  \\\n",
      "0  0.013839  0.076529                     0.150908    0.022933  0.012045   \n",
      "1  0.116679  0.117876                     0.142859    0.109067  0.106948   \n",
      "2  0.035965  0.083400                     0.487787    0.060835  0.022225   \n",
      "3  0.215805  0.311129                     0.344166    0.231794  0.197514   \n",
      "4  0.007037  0.107412                     0.124952    0.023995 -0.011007   \n",
      "\n",
      "      ssa_n  pseudo_plastic_q  till_effective_fraction_overburden   phi_min  \\\n",
      "0  0.071812          0.163356                            0.028859  0.012032   \n",
      "1  0.111776          0.161075                            0.094437  0.097658   \n",
      "2  0.077961          0.394478                            0.016439  0.067883   \n",
      "3  0.249993          0.343488                            0.184276  0.250863   \n",
      "4  0.081200          0.183455                            0.014589  0.020615   \n",
      "\n",
      "    phi_max     z_min     z_max       Date          Si  \\\n",
      "0  0.022244  0.042091  0.028031 1980-01-01       delta   \n",
      "1  0.100191  0.116543  0.118035 1980-01-01  delta_conf   \n",
      "2  0.050466  0.112969  0.008293 1980-01-01          S1   \n",
      "3  0.312796  0.256337  0.191714 1980-01-01     S1_conf   \n",
      "4  0.026987  0.045746  0.037147 1980-01-01       delta   \n",
      "\n",
      "                          Variable  \n",
      "0  grounding_line_flux (Gt year-1)  \n",
      "1  grounding_line_flux (Gt year-1)  \n",
      "2  grounding_line_flux (Gt year-1)  \n",
      "3  grounding_line_flux (Gt year-1)  \n",
      "4                      limnsw (kg)  \n",
      "-------------------------------------------\n",
      "\n"
     ]
    },
    {
     "name": "stderr",
     "output_type": "stream",
     "text": [
      "Processing date: 100%|███████████████████████████████████████████████████████████████████████████████████████████████████████████████████████████████████████████████████████████████████████████████████████████████████████████████████████████████████████████████████████████████████| 4/4 [00:05<00:00,  1.32s/it]\n"
     ]
    },
    {
     "name": "stdout",
     "output_type": "stream",
     "text": [
      "Program finished in 5 seconds\n",
      "        vcm   gamma_T  thickness_calving_threshold  ocean_file     sia_e  \\\n",
      "0  0.014829  0.082239                     0.152717    0.010225  0.011004   \n",
      "1  0.083192  0.091442                     0.125830    0.106542  0.118775   \n",
      "2  0.035965  0.083400                     0.487787    0.060835  0.022225   \n",
      "3  0.200042  0.184842                     0.298431    0.243837  0.193664   \n",
      "4  0.020590  0.105547                     0.125738    0.025267 -0.006003   \n",
      "\n",
      "      ssa_n  pseudo_plastic_q  till_effective_fraction_overburden   phi_min  \\\n",
      "0  0.068437          0.167467                            0.024545  0.000450   \n",
      "1  0.116316          0.147741                            0.106973  0.130008   \n",
      "2  0.077961          0.394478                            0.016439  0.067883   \n",
      "3  0.296014          0.351895                            0.206558  0.272467   \n",
      "4  0.079235          0.191064                            0.008733  0.012526   \n",
      "\n",
      "    phi_max     z_min     z_max       Date          Si  \\\n",
      "0  0.027305  0.044670  0.045691 1980-01-01       delta   \n",
      "1  0.118807  0.113655  0.088513 1980-01-01  delta_conf   \n",
      "2  0.050466  0.112969  0.008293 1980-01-01          S1   \n",
      "3  0.297289  0.248082  0.208747 1980-01-01     S1_conf   \n",
      "4  0.025773  0.053290  0.048909 1980-01-01       delta   \n",
      "\n",
      "                          Variable  \n",
      "0  grounding_line_flux (Gt year-1)  \n",
      "1  grounding_line_flux (Gt year-1)  \n",
      "2  grounding_line_flux (Gt year-1)  \n",
      "3  grounding_line_flux (Gt year-1)  \n",
      "4                      limnsw (kg)  \n",
      "-------------------------------------------\n",
      "\n"
     ]
    },
    {
     "name": "stderr",
     "output_type": "stream",
     "text": [
      "Processing date: 100%|███████████████████████████████████████████████████████████████████████████████████████████████████████████████████████████████████████████████████████████████████████████████████████████████████████████████████████████████████████████████████████████████████| 4/4 [00:05<00:00,  1.31s/it]"
     ]
    },
    {
     "name": "stdout",
     "output_type": "stream",
     "text": [
      "Program finished in 5 seconds\n",
      "        vcm   gamma_T  thickness_calving_threshold  ocean_file     sia_e  \\\n",
      "0  0.020121  0.075449                     0.141537    0.016628  0.014923   \n",
      "1  0.093605  0.107794                     0.130017    0.107947  0.103229   \n",
      "2  0.035965  0.083400                     0.487787    0.060835  0.022225   \n",
      "3  0.208215  0.216037                     0.320676    0.255384  0.193645   \n",
      "4  0.011953  0.104878                     0.134963    0.011353 -0.003305   \n",
      "\n",
      "      ssa_n  pseudo_plastic_q  till_effective_fraction_overburden   phi_min  \\\n",
      "0  0.067340          0.166507                            0.036994  0.005611   \n",
      "1  0.114644          0.150337                            0.093691  0.104514   \n",
      "2  0.077961          0.394478                            0.016439  0.067883   \n",
      "3  0.284382          0.356252                            0.180394  0.276374   \n",
      "4  0.082605          0.172728                            0.008825  0.014381   \n",
      "\n",
      "    phi_max     z_min     z_max       Date          Si  \\\n",
      "0  0.026228  0.048050  0.046443 1980-01-01       delta   \n",
      "1  0.123345  0.101968  0.081924 1980-01-01  delta_conf   \n",
      "2  0.050466  0.112969  0.008293 1980-01-01          S1   \n",
      "3  0.272403  0.286746  0.173058 1980-01-01     S1_conf   \n",
      "4  0.020394  0.045646  0.045802 1980-01-01       delta   \n",
      "\n",
      "                          Variable  \n",
      "0  grounding_line_flux (Gt year-1)  \n",
      "1  grounding_line_flux (Gt year-1)  \n",
      "2  grounding_line_flux (Gt year-1)  \n",
      "3  grounding_line_flux (Gt year-1)  \n",
      "4                      limnsw (kg)  \n"
     ]
    },
    {
     "name": "stderr",
     "output_type": "stream",
     "text": [
      "\n"
     ]
    }
   ],
   "source": [
    "import numpy as np\n",
    "\n",
    "for i in [0, 1, 2]:\n",
    "    sa_df = sensitivity_analysis(df, ensemble_file=ensemble_file, n_jobs=n_jobs)\n",
    "    print(sa_df.head())\n",
    "#sa_xr_df = sensitivity_analysis(ens_df, ensemble_file=ensemble_file, n_jobs=n_jobs, calc_variables=ens_vars)"
   ]
  },
  {
   "cell_type": "code",
   "execution_count": null,
   "id": "7f09433f",
   "metadata": {},
   "outputs": [],
   "source": [
    "sa_df.head()"
   ]
  },
  {
   "cell_type": "code",
   "execution_count": null,
   "id": "94c3d782",
   "metadata": {},
   "outputs": [],
   "source": [
    "sa_xr_df.head()"
   ]
  },
  {
   "cell_type": "code",
   "execution_count": 13,
   "id": "a30faf54",
   "metadata": {},
   "outputs": [],
   "source": [
    "import pathlib\n",
    "import time\n",
    "from typing import Union\n",
    "\n",
    "import numpy as np\n",
    "import pandas as pd\n",
    "from joblib import Parallel, delayed\n",
    "from pandas.api.types import is_string_dtype\n",
    "from SALib.analyze import delta\n",
    "from scipy.interpolate import interp1d\n",
    "from tqdm import tqdm\n",
    "\n",
    "from pismragis.processing import tqdm_joblib\n",
    "\n",
    "np.random.seed(42)\n"
   ]
  },
  {
   "cell_type": "code",
   "execution_count": 14,
   "id": "0ba7b1b9",
   "metadata": {},
   "outputs": [],
   "source": [
    "    df = X_df[X_df.time.between(\"1980-01-01\", \"1983-01-01\")]\n",
    "    id_df = (pd.read_csv(ensemble_file) * 1).replace(np.nan, 0)\n",
    "\n",
    "    param_names = id_df.drop(columns=\"id\").columns.values.tolist()\n",
    "    for k, col in id_df.items():\n",
    "        if is_string_dtype(col):\n",
    "            u = col.unique()\n",
    "            u.sort()\n",
    "            v = [k for k, v in enumerate(u)]\n",
    "            col.replace(to_replace=dict(zip(u, v)), inplace=True)\n",
    "    # Define a salib \"problem\"\n",
    "    problem = {\n",
    "        \"num_vars\": len(id_df.drop(columns=\"id\").columns.values),\n",
    "        \"names\": param_names,  # Parameter names\n",
    "        \"bounds\": zip(\n",
    "            id_df.drop(columns=\"id\").min().values,\n",
    "            id_df.drop(columns=\"id\").max().values,\n",
    "        ),  # Parameter bounds\n",
    "    }\n",
    "\n",
    "    df = pd.merge(id_df, df, on=\"id\")\n",
    "    # filter out dates with only 1 experiment, e.g., due to\n",
    "    # CDO changing the mid-point time when running averaging\n",
    "    df = pd.concat([x for _, x in df.groupby(by=\"time\") if len(x) > 1])\n",
    "    n_dates = len(df[\"time\"].unique())\n"
   ]
  },
  {
   "cell_type": "code",
   "execution_count": 15,
   "id": "f6efc3a9",
   "metadata": {},
   "outputs": [
    {
     "data": {
      "text/html": [
       "<div>\n",
       "<style scoped>\n",
       "    .dataframe tbody tr th:only-of-type {\n",
       "        vertical-align: middle;\n",
       "    }\n",
       "\n",
       "    .dataframe tbody tr th {\n",
       "        vertical-align: top;\n",
       "    }\n",
       "\n",
       "    .dataframe thead th {\n",
       "        text-align: right;\n",
       "    }\n",
       "</style>\n",
       "<table border=\"1\" class=\"dataframe\">\n",
       "  <thead>\n",
       "    <tr style=\"text-align: right;\">\n",
       "      <th></th>\n",
       "      <th>id</th>\n",
       "      <th>vcm</th>\n",
       "      <th>gamma_T</th>\n",
       "      <th>thickness_calving_threshold</th>\n",
       "      <th>ocean_file</th>\n",
       "      <th>sia_e</th>\n",
       "      <th>ssa_n</th>\n",
       "      <th>pseudo_plastic_q</th>\n",
       "      <th>till_effective_fraction_overburden</th>\n",
       "      <th>phi_min</th>\n",
       "      <th>phi_max</th>\n",
       "      <th>z_min</th>\n",
       "      <th>z_max</th>\n",
       "      <th>time</th>\n",
       "      <th>grounding_line_flux (Gt year-1)</th>\n",
       "      <th>limnsw (kg)</th>\n",
       "      <th>Year</th>\n",
       "      <th>resolution_m</th>\n",
       "    </tr>\n",
       "  </thead>\n",
       "  <tbody>\n",
       "    <tr>\n",
       "      <th>0</th>\n",
       "      <td>0</td>\n",
       "      <td>0.748460</td>\n",
       "      <td>0.000141</td>\n",
       "      <td>208.554189</td>\n",
       "      <td>6</td>\n",
       "      <td>2.458823</td>\n",
       "      <td>3.272571</td>\n",
       "      <td>0.641733</td>\n",
       "      <td>0.017322</td>\n",
       "      <td>6.841640</td>\n",
       "      <td>42.734234</td>\n",
       "      <td>-504.83478</td>\n",
       "      <td>387.58102</td>\n",
       "      <td>1980-01-01</td>\n",
       "      <td>-495.444694</td>\n",
       "      <td>2.633911e+18</td>\n",
       "      <td>1980.0</td>\n",
       "      <td>1200</td>\n",
       "    </tr>\n",
       "    <tr>\n",
       "      <th>4</th>\n",
       "      <td>1</td>\n",
       "      <td>0.797112</td>\n",
       "      <td>0.000136</td>\n",
       "      <td>254.360985</td>\n",
       "      <td>4</td>\n",
       "      <td>2.645698</td>\n",
       "      <td>3.338459</td>\n",
       "      <td>0.532839</td>\n",
       "      <td>0.021179</td>\n",
       "      <td>5.372954</td>\n",
       "      <td>41.244648</td>\n",
       "      <td>-563.01120</td>\n",
       "      <td>297.82916</td>\n",
       "      <td>1980-01-01</td>\n",
       "      <td>-621.209970</td>\n",
       "      <td>2.633845e+18</td>\n",
       "      <td>1980.0</td>\n",
       "      <td>1200</td>\n",
       "    </tr>\n",
       "    <tr>\n",
       "      <th>8</th>\n",
       "      <td>2</td>\n",
       "      <td>0.837068</td>\n",
       "      <td>0.000147</td>\n",
       "      <td>369.085887</td>\n",
       "      <td>6</td>\n",
       "      <td>1.687356</td>\n",
       "      <td>3.307447</td>\n",
       "      <td>0.839391</td>\n",
       "      <td>0.014796</td>\n",
       "      <td>7.444413</td>\n",
       "      <td>40.183514</td>\n",
       "      <td>-422.70566</td>\n",
       "      <td>188.01651</td>\n",
       "      <td>1980-01-01</td>\n",
       "      <td>-506.279400</td>\n",
       "      <td>2.633912e+18</td>\n",
       "      <td>1980.0</td>\n",
       "      <td>1200</td>\n",
       "    </tr>\n",
       "    <tr>\n",
       "      <th>12</th>\n",
       "      <td>3</td>\n",
       "      <td>0.496831</td>\n",
       "      <td>0.000107</td>\n",
       "      <td>182.910783</td>\n",
       "      <td>3</td>\n",
       "      <td>2.807056</td>\n",
       "      <td>3.331697</td>\n",
       "      <td>0.729520</td>\n",
       "      <td>0.017594</td>\n",
       "      <td>8.992171</td>\n",
       "      <td>42.957695</td>\n",
       "      <td>-291.17220</td>\n",
       "      <td>182.28912</td>\n",
       "      <td>1980-01-01</td>\n",
       "      <td>-405.928142</td>\n",
       "      <td>2.633959e+18</td>\n",
       "      <td>1980.0</td>\n",
       "      <td>1200</td>\n",
       "    </tr>\n",
       "    <tr>\n",
       "      <th>16</th>\n",
       "      <td>4</td>\n",
       "      <td>0.638088</td>\n",
       "      <td>0.000149</td>\n",
       "      <td>256.354402</td>\n",
       "      <td>7</td>\n",
       "      <td>2.435586</td>\n",
       "      <td>3.300404</td>\n",
       "      <td>0.825152</td>\n",
       "      <td>0.016005</td>\n",
       "      <td>8.666372</td>\n",
       "      <td>41.940525</td>\n",
       "      <td>-310.17828</td>\n",
       "      <td>187.55905</td>\n",
       "      <td>1980-01-01</td>\n",
       "      <td>-410.013025</td>\n",
       "      <td>2.633960e+18</td>\n",
       "      <td>1980.0</td>\n",
       "      <td>1200</td>\n",
       "    </tr>\n",
       "    <tr>\n",
       "      <th>...</th>\n",
       "      <td>...</td>\n",
       "      <td>...</td>\n",
       "      <td>...</td>\n",
       "      <td>...</td>\n",
       "      <td>...</td>\n",
       "      <td>...</td>\n",
       "      <td>...</td>\n",
       "      <td>...</td>\n",
       "      <td>...</td>\n",
       "      <td>...</td>\n",
       "      <td>...</td>\n",
       "      <td>...</td>\n",
       "      <td>...</td>\n",
       "      <td>...</td>\n",
       "      <td>...</td>\n",
       "      <td>...</td>\n",
       "      <td>...</td>\n",
       "      <td>...</td>\n",
       "    </tr>\n",
       "    <tr>\n",
       "      <th>79</th>\n",
       "      <td>20</td>\n",
       "      <td>0.922305</td>\n",
       "      <td>0.000150</td>\n",
       "      <td>278.450143</td>\n",
       "      <td>10</td>\n",
       "      <td>2.915390</td>\n",
       "      <td>3.314241</td>\n",
       "      <td>0.783855</td>\n",
       "      <td>0.018274</td>\n",
       "      <td>6.441045</td>\n",
       "      <td>42.750538</td>\n",
       "      <td>-376.46097</td>\n",
       "      <td>176.82220</td>\n",
       "      <td>1983-01-01</td>\n",
       "      <td>-421.261802</td>\n",
       "      <td>2.633968e+18</td>\n",
       "      <td>1983.0</td>\n",
       "      <td>1200</td>\n",
       "    </tr>\n",
       "    <tr>\n",
       "      <th>83</th>\n",
       "      <td>21</td>\n",
       "      <td>0.721245</td>\n",
       "      <td>0.000122</td>\n",
       "      <td>237.770934</td>\n",
       "      <td>8</td>\n",
       "      <td>2.356902</td>\n",
       "      <td>3.353182</td>\n",
       "      <td>0.855321</td>\n",
       "      <td>0.016030</td>\n",
       "      <td>7.917657</td>\n",
       "      <td>44.619293</td>\n",
       "      <td>-310.34393</td>\n",
       "      <td>168.30064</td>\n",
       "      <td>1983-01-01</td>\n",
       "      <td>-352.617843</td>\n",
       "      <td>2.634201e+18</td>\n",
       "      <td>1983.0</td>\n",
       "      <td>1200</td>\n",
       "    </tr>\n",
       "    <tr>\n",
       "      <th>87</th>\n",
       "      <td>22</td>\n",
       "      <td>0.466431</td>\n",
       "      <td>0.000133</td>\n",
       "      <td>215.754677</td>\n",
       "      <td>0</td>\n",
       "      <td>2.475785</td>\n",
       "      <td>3.291879</td>\n",
       "      <td>0.612520</td>\n",
       "      <td>0.018178</td>\n",
       "      <td>12.318474</td>\n",
       "      <td>42.700626</td>\n",
       "      <td>-192.64525</td>\n",
       "      <td>176.90793</td>\n",
       "      <td>1983-01-01</td>\n",
       "      <td>-546.570516</td>\n",
       "      <td>2.633486e+18</td>\n",
       "      <td>1983.0</td>\n",
       "      <td>1200</td>\n",
       "    </tr>\n",
       "    <tr>\n",
       "      <th>91</th>\n",
       "      <td>23</td>\n",
       "      <td>0.597726</td>\n",
       "      <td>0.000139</td>\n",
       "      <td>281.354326</td>\n",
       "      <td>8</td>\n",
       "      <td>2.930306</td>\n",
       "      <td>3.258649</td>\n",
       "      <td>0.612399</td>\n",
       "      <td>0.023160</td>\n",
       "      <td>7.282847</td>\n",
       "      <td>41.633663</td>\n",
       "      <td>-414.54898</td>\n",
       "      <td>360.99924</td>\n",
       "      <td>1983-01-01</td>\n",
       "      <td>-509.886912</td>\n",
       "      <td>2.633556e+18</td>\n",
       "      <td>1983.0</td>\n",
       "      <td>1200</td>\n",
       "    </tr>\n",
       "    <tr>\n",
       "      <th>95</th>\n",
       "      <td>24</td>\n",
       "      <td>0.987239</td>\n",
       "      <td>0.000102</td>\n",
       "      <td>126.435095</td>\n",
       "      <td>6</td>\n",
       "      <td>2.978922</td>\n",
       "      <td>3.298669</td>\n",
       "      <td>0.721695</td>\n",
       "      <td>0.021035</td>\n",
       "      <td>5.168730</td>\n",
       "      <td>43.466446</td>\n",
       "      <td>-542.16680</td>\n",
       "      <td>487.82617</td>\n",
       "      <td>1983-01-01</td>\n",
       "      <td>-297.567822</td>\n",
       "      <td>2.634469e+18</td>\n",
       "      <td>1983.0</td>\n",
       "      <td>1200</td>\n",
       "    </tr>\n",
       "  </tbody>\n",
       "</table>\n",
       "<p>96 rows × 18 columns</p>\n",
       "</div>"
      ],
      "text/plain": [
       "    id       vcm   gamma_T  thickness_calving_threshold  ocean_file     sia_e  \\\n",
       "0    0  0.748460  0.000141                   208.554189           6  2.458823   \n",
       "4    1  0.797112  0.000136                   254.360985           4  2.645698   \n",
       "8    2  0.837068  0.000147                   369.085887           6  1.687356   \n",
       "12   3  0.496831  0.000107                   182.910783           3  2.807056   \n",
       "16   4  0.638088  0.000149                   256.354402           7  2.435586   \n",
       "..  ..       ...       ...                          ...         ...       ...   \n",
       "79  20  0.922305  0.000150                   278.450143          10  2.915390   \n",
       "83  21  0.721245  0.000122                   237.770934           8  2.356902   \n",
       "87  22  0.466431  0.000133                   215.754677           0  2.475785   \n",
       "91  23  0.597726  0.000139                   281.354326           8  2.930306   \n",
       "95  24  0.987239  0.000102                   126.435095           6  2.978922   \n",
       "\n",
       "       ssa_n  pseudo_plastic_q  till_effective_fraction_overburden    phi_min  \\\n",
       "0   3.272571          0.641733                            0.017322   6.841640   \n",
       "4   3.338459          0.532839                            0.021179   5.372954   \n",
       "8   3.307447          0.839391                            0.014796   7.444413   \n",
       "12  3.331697          0.729520                            0.017594   8.992171   \n",
       "16  3.300404          0.825152                            0.016005   8.666372   \n",
       "..       ...               ...                                 ...        ...   \n",
       "79  3.314241          0.783855                            0.018274   6.441045   \n",
       "83  3.353182          0.855321                            0.016030   7.917657   \n",
       "87  3.291879          0.612520                            0.018178  12.318474   \n",
       "91  3.258649          0.612399                            0.023160   7.282847   \n",
       "95  3.298669          0.721695                            0.021035   5.168730   \n",
       "\n",
       "      phi_max      z_min      z_max       time  \\\n",
       "0   42.734234 -504.83478  387.58102 1980-01-01   \n",
       "4   41.244648 -563.01120  297.82916 1980-01-01   \n",
       "8   40.183514 -422.70566  188.01651 1980-01-01   \n",
       "12  42.957695 -291.17220  182.28912 1980-01-01   \n",
       "16  41.940525 -310.17828  187.55905 1980-01-01   \n",
       "..        ...        ...        ...        ...   \n",
       "79  42.750538 -376.46097  176.82220 1983-01-01   \n",
       "83  44.619293 -310.34393  168.30064 1983-01-01   \n",
       "87  42.700626 -192.64525  176.90793 1983-01-01   \n",
       "91  41.633663 -414.54898  360.99924 1983-01-01   \n",
       "95  43.466446 -542.16680  487.82617 1983-01-01   \n",
       "\n",
       "    grounding_line_flux (Gt year-1)   limnsw (kg)    Year  resolution_m  \n",
       "0                       -495.444694  2.633911e+18  1980.0          1200  \n",
       "4                       -621.209970  2.633845e+18  1980.0          1200  \n",
       "8                       -506.279400  2.633912e+18  1980.0          1200  \n",
       "12                      -405.928142  2.633959e+18  1980.0          1200  \n",
       "16                      -410.013025  2.633960e+18  1980.0          1200  \n",
       "..                              ...           ...     ...           ...  \n",
       "79                      -421.261802  2.633968e+18  1983.0          1200  \n",
       "83                      -352.617843  2.634201e+18  1983.0          1200  \n",
       "87                      -546.570516  2.633486e+18  1983.0          1200  \n",
       "91                      -509.886912  2.633556e+18  1983.0          1200  \n",
       "95                      -297.567822  2.634469e+18  1983.0          1200  \n",
       "\n",
       "[96 rows x 18 columns]"
      ]
     },
     "execution_count": 15,
     "metadata": {},
     "output_type": "execute_result"
    }
   ],
   "source": [
    "for m_date, s_df in df.groupby(by=\"time\"):"
   ]
  },
  {
   "cell_type": "code",
   "execution_count": 16,
   "id": "1efedea9",
   "metadata": {},
   "outputs": [
    {
     "ename": "NameError",
     "evalue": "name 's_df' is not defined",
     "output_type": "error",
     "traceback": [
      "\u001b[0;31m---------------------------------------------------------------------------\u001b[0m",
      "\u001b[0;31mNameError\u001b[0m                                 Traceback (most recent call last)",
      "Cell \u001b[0;32mIn[16], line 1\u001b[0m\n\u001b[0;32m----> 1\u001b[0m missing_ids \u001b[38;5;241m=\u001b[39m \u001b[38;5;28mlist\u001b[39m(\u001b[38;5;28mset\u001b[39m(id_df[\u001b[38;5;124m\"\u001b[39m\u001b[38;5;124mid\u001b[39m\u001b[38;5;124m\"\u001b[39m])\u001b[38;5;241m.\u001b[39mdifference(\u001b[43ms_df\u001b[49m[\u001b[38;5;124m\"\u001b[39m\u001b[38;5;124mid\u001b[39m\u001b[38;5;124m\"\u001b[39m]))\n\u001b[1;32m      2\u001b[0m \u001b[38;5;28;01mif\u001b[39;00m missing_ids:\n\u001b[1;32m      3\u001b[0m     \u001b[38;5;28;01mif\u001b[39;00m verbose:\n",
      "\u001b[0;31mNameError\u001b[0m: name 's_df' is not defined"
     ]
    }
   ],
   "source": [
    "    missing_ids = list(set(id_df[\"id\"]).difference(s_df[\"id\"]))\n",
    "    if missing_ids:\n",
    "        if verbose:\n",
    "            print(f\"The following simulation ids are missing:\\n   {missing_ids}\")\n",
    "\n",
    "        id_df_missing_removed = id_df[~id_df[\"id\"].isin(missing_ids)]\n",
    "        params = np.array(\n",
    "            id_df_missing_removed.drop(columns=\"id\").values, dtype=np.float32\n",
    "        )\n",
    "    else:\n",
    "        params = np.array(id_df.drop(columns=\"id\").values, dtype=np.float32)\n",
    "        Si = delta.analyze(\n",
    "            problem,\n",
    "            params,\n",
    "            response_matrix,\n",
    "            num_resamples=100,\n",
    "            print_to_console=False,\n",
    "        )\n",
    "        Si_df = Si.to_df()\n"
   ]
  },
  {
   "cell_type": "code",
   "execution_count": null,
   "id": "3596b4f3",
   "metadata": {},
   "outputs": [],
   "source": []
  }
 ],
 "metadata": {
  "kernelspec": {
   "display_name": "Python 3 (ipykernel)",
   "language": "python",
   "name": "python3"
  },
  "language_info": {
   "codemirror_mode": {
    "name": "ipython",
    "version": 3
   },
   "file_extension": ".py",
   "mimetype": "text/x-python",
   "name": "python",
   "nbconvert_exporter": "python",
   "pygments_lexer": "ipython3",
   "version": "3.11.5"
  }
 },
 "nbformat": 4,
 "nbformat_minor": 5
}
