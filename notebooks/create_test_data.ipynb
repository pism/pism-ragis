{
 "cells": [
  {
   "cell_type": "code",
   "execution_count": 5,
   "id": "76c7c452",
   "metadata": {},
   "outputs": [],
   "source": [
    "from pismragis.processing import convert_netcdf_to_dataframe"
   ]
  },
  {
   "cell_type": "code",
   "execution_count": 11,
   "id": "b611dc5e",
   "metadata": {},
   "outputs": [
    {
     "name": "stderr",
     "output_type": "stream",
     "text": [
      "Processing files: 100%|██████████████████████████████████████████████████████████████████████████████████████████████████████| 24/24 [00:00<00:00, 95.11it/s]\n"
     ]
    },
    {
     "name": "stdout",
     "output_type": "stream",
     "text": [
      "Program finished in 0 seconds\n"
     ]
    }
   ],
   "source": [
    "infiles = glob(\"../tests/data/ts_gris_g1200m_v2023_RAGIS_id_*_1980-1-1_2020-1-1.nc\")\n",
    "df = convert_netcdf_to_dataframe(infiles)\n",
    "df.to_parquet(\"../tests/data/test_scalar.parquet\")\n",
    "df.to_csv(\"../tests/data/test_scalar.csv\")\n",
    "\n"
   ]
  },
  {
   "cell_type": "code",
   "execution_count": 12,
   "id": "626b5572",
   "metadata": {},
   "outputs": [
    {
     "name": "stderr",
     "output_type": "stream",
     "text": [
      "Processing files: 100%|█████████████████████████████████████████████████████████████████████████████████████████████████████| 19/19 [00:00<00:00, 408.21it/s]"
     ]
    },
    {
     "name": "stdout",
     "output_type": "stream",
     "text": [
      "Program finished in 0 seconds\n"
     ]
    },
    {
     "name": "stderr",
     "output_type": "stream",
     "text": [
      "\n"
     ]
    }
   ],
   "source": [
    "infiles = glob(\"../tests/data/ts_gris_g1200m_v2023_RAGIS_id_*_1980-1-1_1989-1-1_YM.nc\")\n",
    "df = convert_netcdf_to_dataframe(infiles)\n",
    "df.to_parquet(\"../tests/data/test_scalar_YM.parquet\")\n",
    "df.to_csv(\"../tests/data/test_scalar_YM.csv\")\n",
    "\n"
   ]
  },
  {
   "cell_type": "code",
   "execution_count": 7,
   "id": "d941d8fa",
   "metadata": {},
   "outputs": [],
   "source": [
    "\n"
   ]
  },
  {
   "cell_type": "code",
   "execution_count": null,
   "id": "fa41e3f1",
   "metadata": {},
   "outputs": [],
   "source": [
    "infiles = glob(\"../hindcasts/2023_04_ocean_simple/scalar/ts_gris_g1200m_v2023_RAGIS_id_*_1980-1-1_2020-1-1.nc\")"
   ]
  },
  {
   "cell_type": "code",
   "execution_count": null,
   "id": "8d948356",
   "metadata": {},
   "outputs": [],
   "source": [
    "def run_stats(infiles: list, stats_vars: list = [\"processor_hours\", \"wall_clock_hours\", \"model_years_per_processor_hour\"]):\n",
    "    dfs = []\n",
    "    for m_file in infiles:\n",
    "        print(m_file)\n",
    "        with xr.open_dataset(m_file) as ds:\n",
    "            dfs.append(pd.DataFrame(data=np.array([ds[\"run_stats\"].attrs[stats_var] for stats_var in stats_vars]).reshape(1, -1), columns=stats_vars))\n",
    "    return pd.concat(dfs).reset_index(drop=True)"
   ]
  },
  {
   "cell_type": "code",
   "execution_count": null,
   "id": "293d25b7",
   "metadata": {},
   "outputs": [],
   "source": [
    "df = run_stats(infiles)"
   ]
  },
  {
   "cell_type": "code",
   "execution_count": null,
   "id": "8049cea9",
   "metadata": {},
   "outputs": [],
   "source": [
    "import xarray as xr\n",
    "import pandas as pd"
   ]
  },
  {
   "cell_type": "code",
   "execution_count": null,
   "id": "7940f53c",
   "metadata": {},
   "outputs": [],
   "source": [
    "fig, axs = plt.subplots(nrows=1, ncols=len(stats_vars), sharey=\"row\", figsize=[6.2, 2.0])\n",
    "[sns.histplot(data=df[df[stats_var] > 0][stats_var], ax=axs[i]) for i, stats_var in enumerate(stats_vars)]"
   ]
  },
  {
   "cell_type": "code",
   "execution_count": null,
   "id": "72b4ea80",
   "metadata": {},
   "outputs": [],
   "source": [
    "from pismragis.stats import run_stats\n",
    "import numpy as np"
   ]
  },
  {
   "cell_type": "code",
   "execution_count": null,
   "id": "02641707",
   "metadata": {},
   "outputs": [],
   "source": [
    "from glob import glob\n",
    "infiles = glob(\"../tests/data/ts_gris_g1200m_v2023_RAGIS_id_*_1980-1-1_2020-1-1.nc\")\n",
    "df = run_stats(infiles)"
   ]
  },
  {
   "cell_type": "code",
   "execution_count": null,
   "id": "6724e816",
   "metadata": {},
   "outputs": [],
   "source": [
    "def run_stats(\n",
    "    infiles: list,\n",
    "    stats_vars: list = [\n",
    "        \"processor_hours\",\n",
    "        \"wall_clock_hours\",\n",
    "        \"model_years_per_processor_hour\",\n",
    "    ],\n",
    "):\n",
    "    \"\"\"\n",
    "    Collect PISM run_stats for a list of files and returns a DataFrame\n",
    "    \"\"\"\n",
    "    dfs = []\n",
    "    for m_file in infiles:\n",
    "        with xr.open_dataset(m_file) as ds:\n",
    "            dfs.append(\n",
    "                pd.DataFrame(\n",
    "                    data=np.array(\n",
    "                        [ds[\"run_stats\"].attrs[stats_var] for stats_var in stats_vars]\n",
    "                    ).reshape(1, -1),\n",
    "                    columns=stats_vars,\n",
    "                )\n",
    "            )\n",
    "    return pd.concat(dfs).reset_index(drop=True)\n"
   ]
  },
  {
   "cell_type": "code",
   "execution_count": null,
   "id": "d24689ba",
   "metadata": {},
   "outputs": [],
   "source": [
    "df.to_csv(\"../tests/data/test_run_stats.csv\", index=False)"
   ]
  },
  {
   "cell_type": "code",
   "execution_count": null,
   "id": "d41e8062",
   "metadata": {},
   "outputs": [],
   "source": [
    "df.to_parquet(\"../tests/data/test_scalar_YM.parquet\")"
   ]
  },
  {
   "cell_type": "code",
   "execution_count": null,
   "id": "de2117e1",
   "metadata": {},
   "outputs": [],
   "source": [
    "def ncfile2dataframe(infile):\n",
    "    if os.path.isfile(infile):\n",
    "        with xr.open_dataset(infile) as ds:\n",
    "            m_id = int(re.search(\"id_(.+?)_\", infile).group(1))\n",
    "            m_dx = int(re.search(\"gris_g(.+?)m\", infile).group(1))\n",
    "            datetimeindex = ds.indexes[\"time\"]\n",
    "            nt = len(datetimeindex)\n",
    "            id_S = pd.Series(data=np.repeat(m_id, nt), index=datetimeindex, name=\"id\")\n",
    "            S = [id_S]\n",
    "            for m_var in ds.data_vars:\n",
    "                if m_var not in (\"time_bounds\", \"time_bnds\", \"timestamp\", \"run_stats\", \"pism_config\"):\n",
    "                    if hasattr(ds[m_var], \"units\"):\n",
    "                        m_units = ds[m_var].units\n",
    "                        m_S_name = f\"{m_var} ({m_units})\"\n",
    "                    else:\n",
    "                        m_units = \"\"\n",
    "                        m_S_name = f\"{m_var}\"\n",
    "                    data = np.squeeze(ds[m_var].values)\n",
    "                    m_S = pd.Series(data=data, index=datetimeindex, name=m_S_name)\n",
    "                    S.append(m_S)\n",
    "            df = pd.concat(S, axis=1).reset_index()\n",
    "            df[\"resolution_m\"] = m_dx\n",
    "        return pd.concat(S, axis=1).reset_index()\n"
   ]
  },
  {
   "cell_type": "code",
   "execution_count": null,
   "id": "264a1fc8",
   "metadata": {},
   "outputs": [],
   "source": [
    "df.to_csv(\"../tests/data/test_scalar_YM.csv\", index=True)"
   ]
  },
  {
   "cell_type": "code",
   "execution_count": null,
   "id": "717a3714",
   "metadata": {},
   "outputs": [],
   "source": [
    "    df = pd.read_parquet(\"../tests/data/test_scalar_YM.parquet\")\n",
    "    ensemble_file = \"../tests/data/gris_ragis_ocean_simple_lhs_50_w_posterior.csv\"\n",
    "    sensitivity_df = sensitivity_analysis(\n",
    "        df, ensemble_file=ensemble_file, n_jobs=4)\n"
   ]
  },
  {
   "cell_type": "code",
   "execution_count": null,
   "id": "536e8205",
   "metadata": {},
   "outputs": [],
   "source": [
    "df.to_parquet?"
   ]
  },
  {
   "cell_type": "code",
   "execution_count": null,
   "id": "3cfe47e8",
   "metadata": {},
   "outputs": [],
   "source": [
    "import re"
   ]
  },
  {
   "cell_type": "code",
   "execution_count": null,
   "id": "62981d51",
   "metadata": {},
   "outputs": [],
   "source": [
    "re.search(\"id_(.+?)_\", infiles[0]).groups()"
   ]
  },
  {
   "cell_type": "code",
   "execution_count": null,
   "id": "a8accbfa",
   "metadata": {},
   "outputs": [],
   "source": [
    "import pandas as pd\n",
    "from pandas.api.types import is_string_dtype\n",
    "from SALib.analyze import delta\n",
    "import numpy as np\n",
    "import pathlib\n",
    "from joblib import Parallel, delayed\n",
    "\n",
    "from tqdm import tqdm\n",
    "\n",
    "from pismragis.processing import tqdm_joblib\n",
    "from pismragis.sensitivity import sensitivity_analysis"
   ]
  },
  {
   "cell_type": "code",
   "execution_count": null,
   "id": "2a973983",
   "metadata": {},
   "outputs": [],
   "source": [
    "sensitivity_df"
   ]
  },
  {
   "cell_type": "code",
   "execution_count": null,
   "id": "2b460e29",
   "metadata": {},
   "outputs": [],
   "source": [
    "sensitivity_df[0].to_parquet(\"../tests/data/test_sensitivity.parquet\")"
   ]
  },
  {
   "cell_type": "code",
   "execution_count": null,
   "id": "49bb682c",
   "metadata": {},
   "outputs": [],
   "source": [
    "    df = pd.read_parquet(\"../tests/data/test_scalar_YM.parquet\")\n",
    "    df_true = pd.read_parquet(\"../tests/data/test_sensitivity.parquet\")\n",
    "    ensemble_file = \"../tests/data/gris_ragis_ocean_simple_lhs_50_w_posterior.csv\"\n",
    "    sensitivity_df, _ = sensitivity_analysis(\n",
    "        df, ensemble_file=ensemble_file, n_jobs=4\n",
    "    )\n"
   ]
  },
  {
   "cell_type": "code",
   "execution_count": null,
   "id": "5ca93496",
   "metadata": {},
   "outputs": [],
   "source": [
    "sensitivity_df.mean()"
   ]
  },
  {
   "cell_type": "code",
   "execution_count": null,
   "id": "fba58192",
   "metadata": {},
   "outputs": [],
   "source": [
    "sensitivity_df.columns"
   ]
  },
  {
   "cell_type": "code",
   "execution_count": null,
   "id": "5b981a4c",
   "metadata": {},
   "outputs": [],
   "source": [
    "sens_vars = ['vcm', 'gamma_T', 'thickness_calving_threshold', 'ocean_file', 'sia_e',\n",
    "       'ssa_n', 'pseudo_plastic_q', 'till_effective_fraction_overburden',\n",
    "       'phi_min', 'phi_max', 'z_min', 'z_max']\n",
    "sensitivity_df[sens_vars].mean()"
   ]
  },
  {
   "cell_type": "code",
   "execution_count": null,
   "id": "81e866d7",
   "metadata": {},
   "outputs": [],
   "source": [
    "from numpy.testing import "
   ]
  },
  {
   "cell_type": "code",
   "execution_count": null,
   "id": "3c49f096",
   "metadata": {},
   "outputs": [],
   "source": [
    "np.testing.assert_array_almost_equal?"
   ]
  },
  {
   "cell_type": "code",
   "execution_count": null,
   "id": "daf98cac",
   "metadata": {},
   "outputs": [],
   "source": [
    "-636500 + 1800/2"
   ]
  },
  {
   "cell_type": "code",
   "execution_count": null,
   "id": "e2951921",
   "metadata": {},
   "outputs": [],
   "source": [
    "import xarray as xr"
   ]
  },
  {
   "cell_type": "code",
   "execution_count": null,
   "id": "df4d7ae2",
   "metadata": {},
   "outputs": [],
   "source": [
    "ds = xr.open_dataset(\"../hindcasts/2023_04_ocean_simple_20/scalar/ts_gris_g1800m_v2023_RAGIS_id_0_1980-1-1_2020-1-1.nc\")"
   ]
  },
  {
   "cell_type": "code",
   "execution_count": null,
   "id": "e5aed9f6",
   "metadata": {},
   "outputs": [],
   "source": [
    "month_length = ds.time.dt.days_in_month"
   ]
  },
  {
   "cell_type": "code",
   "execution_count": null,
   "id": "46493ddd",
   "metadata": {},
   "outputs": [],
   "source": [
    "# Calculate the weights by grouping by 'time.season'.\n",
    "weights = (\n",
    "    month_length.groupby(\"time.year\") / month_length.groupby(\"time.year\").sum()\n",
    ")"
   ]
  },
  {
   "cell_type": "code",
   "execution_count": null,
   "id": "0e6980b4",
   "metadata": {},
   "outputs": [],
   "source": [
    "weights"
   ]
  },
  {
   "cell_type": "code",
   "execution_count": null,
   "id": "b33d4281",
   "metadata": {},
   "outputs": [],
   "source": [
    "ds_weighted = (ds * weights).groupby(\"time.year\").sum(dim=\"time\")"
   ]
  },
  {
   "cell_type": "code",
   "execution_count": null,
   "id": "c868f364",
   "metadata": {},
   "outputs": [],
   "source": [
    "ds_weighted"
   ]
  },
  {
   "cell_type": "code",
   "execution_count": null,
   "id": "51cefe7f",
   "metadata": {},
   "outputs": [],
   "source": [
    "ds.time.dt.days_in_month"
   ]
  },
  {
   "cell_type": "code",
   "execution_count": null,
   "id": "ac6643a0",
   "metadata": {},
   "outputs": [],
   "source": [
    "ds.time.dt.daysinmonth[0:33]"
   ]
  },
  {
   "cell_type": "code",
   "execution_count": null,
   "id": "97e1b489",
   "metadata": {},
   "outputs": [],
   "source": [
    "weights = (\n",
    "    month_length.groupby(\"time.month\") / month_length.groupby(\"time.month\").sum()\n",
    ")"
   ]
  },
  {
   "cell_type": "code",
   "execution_count": null,
   "id": "692112db",
   "metadata": {},
   "outputs": [],
   "source": [
    "ds_weighted = (ds * weights).groupby(\"time.month\").mean(dim=\"time\")"
   ]
  },
  {
   "cell_type": "code",
   "execution_count": null,
   "id": "1a02b68b",
   "metadata": {},
   "outputs": [],
   "source": [
    "ds_weighted"
   ]
  },
  {
   "cell_type": "code",
   "execution_count": null,
   "id": "c8a86369",
   "metadata": {},
   "outputs": [],
   "source": [
    "ds_weighted"
   ]
  },
  {
   "cell_type": "code",
   "execution_count": null,
   "id": "a64fe6ee",
   "metadata": {},
   "outputs": [],
   "source": [
    "40 * 12"
   ]
  },
  {
   "cell_type": "code",
   "execution_count": null,
   "id": "0830717a",
   "metadata": {},
   "outputs": [],
   "source": [
    "40 * 365"
   ]
  },
  {
   "cell_type": "code",
   "execution_count": null,
   "id": "3fc60d01",
   "metadata": {},
   "outputs": [],
   "source": [
    "ds.resample(time=\"1YS\").mean()[\"limnsw\"]"
   ]
  },
  {
   "cell_type": "code",
   "execution_count": null,
   "id": "3331f3c5",
   "metadata": {},
   "outputs": [],
   "source": [
    "def ncfile2dataframe(infile):\n",
    "    if os.path.isfile(infile):\n",
    "        with xr.open_dataset(infile) as ds:\n",
    "            ds = ds.resample(time=\"1M\").mean()\n",
    "            m_id_re = re.search(\"id_(.+?)_\", infile)\n",
    "            assert m_id_re is not None\n",
    "            m_id = int(m_id_re.group(1))\n",
    "            m_dx_re = re.search(\"gris_g(.+?)m\", infile)\n",
    "            assert m_dx_re is not None\n",
    "            m_dx = int(m_dx_re.group(1))\n",
    "            datetimeindex = ds.indexes[\"time\"]\n",
    "            nt = len(datetimeindex)\n",
    "            id_S = pd.Series(data=np.repeat(m_id, nt), index=datetimeindex, name=\"id\")\n",
    "            S = [id_S]\n",
    "            for m_var in ds.data_vars:\n",
    "                if m_var not in (\n",
    "                    \"time_bounds\",\n",
    "                    \"time_bnds\",\n",
    "                    \"timestamp\",\n",
    "                    \"run_stats\",\n",
    "                    \"pism_config\",\n",
    "                ):\n",
    "                    if hasattr(ds[m_var], \"units\"):\n",
    "                        m_units = ds[m_var].units\n",
    "                        m_S_name = f\"{m_var} ({m_units})\"\n",
    "                    else:\n",
    "                        m_units = \"\"\n",
    "                        m_S_name = f\"{m_var}\"\n",
    "                    data = np.squeeze(ds[m_var].values)\n",
    "                    m_S = pd.Series(data=data, index=datetimeindex, name=m_S_name)\n",
    "                    S.append(m_S)\n",
    "            df = pd.concat(S, axis=1).reset_index()\n",
    "            df[\"resolution_m\"] = m_dx\n",
    "        return pd.concat(S, axis=1).reset_index()\n"
   ]
  },
  {
   "cell_type": "code",
   "execution_count": null,
   "id": "eb87bf2b",
   "metadata": {},
   "outputs": [],
   "source": [
    "ncfile2dataframe(\"../hindcasts/2023_04_ocean_simple_20/scalar/ts_gris_g1800m_v2023_RAGIS_id_0_1980-1-1_2020-1-1.nc\")"
   ]
  },
  {
   "cell_type": "code",
   "execution_count": null,
   "id": "d3ceaeef",
   "metadata": {},
   "outputs": [],
   "source": [
    "import os\n",
    "import re"
   ]
  },
  {
   "cell_type": "code",
   "execution_count": null,
   "id": "8032ee4b",
   "metadata": {},
   "outputs": [],
   "source": []
  }
 ],
 "metadata": {
  "kernelspec": {
   "display_name": "Python 3 (ipykernel)",
   "language": "python",
   "name": "python3"
  },
  "language_info": {
   "codemirror_mode": {
    "name": "ipython",
    "version": 3
   },
   "file_extension": ".py",
   "mimetype": "text/x-python",
   "name": "python",
   "nbconvert_exporter": "python",
   "pygments_lexer": "ipython3",
   "version": "3.10.9"
  }
 },
 "nbformat": 4,
 "nbformat_minor": 5
}
